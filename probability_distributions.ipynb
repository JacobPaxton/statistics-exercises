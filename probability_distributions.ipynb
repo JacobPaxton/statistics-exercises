{
 "cells": [
  {
   "cell_type": "code",
   "execution_count": 1,
   "id": "b1ebf9bd",
   "metadata": {},
   "outputs": [],
   "source": [
    "# For the following problems, use python to simulate the problem and calculate an experimental probability, \n",
    "# then compare that to the theoretical probability.\n",
    "import numpy as np\n",
    "import pandas as pd\n",
    "import random\n",
    "import matplotlib.pyplot as plt\n",
    "from scipy import stats"
   ]
  },
  {
   "cell_type": "code",
   "execution_count": 2,
   "id": "e8937a1d",
   "metadata": {},
   "outputs": [],
   "source": [
    "# A bank found that the average number of cars waiting during the noon hour at a drive-up window\n",
    "# follows a Poisson distribution with a mean of 2 cars. \n",
    "# Make a chart of this distribution and \n",
    "# answer these questions concerning the probability of cars waiting at the drive-up window.\n",
    "dist = stats.poisson(2)"
   ]
  },
  {
   "cell_type": "code",
   "execution_count": 3,
   "id": "bcc4b11a",
   "metadata": {},
   "outputs": [
    {
     "data": {
      "text/plain": [
       "0.1353352832366127"
      ]
     },
     "execution_count": 3,
     "metadata": {},
     "output_type": "execute_result"
    }
   ],
   "source": [
    "# What is the probability that no cars drive up in the noon hour?\n",
    "dist.pmf(0)"
   ]
  },
  {
   "cell_type": "code",
   "execution_count": 4,
   "id": "66663fe3",
   "metadata": {},
   "outputs": [
    {
     "data": {
      "text/plain": [
       "0.3233235838169365"
      ]
     },
     "execution_count": 4,
     "metadata": {},
     "output_type": "execute_result"
    }
   ],
   "source": [
    "# What is the probability that 3 or more cars come through the drive through?\n",
    "dist.sf(3) + dist.pmf(3)"
   ]
  },
  {
   "cell_type": "code",
   "execution_count": 5,
   "id": "94df092a",
   "metadata": {},
   "outputs": [
    {
     "data": {
      "text/plain": [
       "0.864664716763387"
      ]
     },
     "execution_count": 5,
     "metadata": {},
     "output_type": "execute_result"
    }
   ],
   "source": [
    "# How likely is it that the drive through gets at least 1 car?\n",
    "dist.sf(1) + dist.pmf(1)"
   ]
  },
  {
   "cell_type": "code",
   "execution_count": 6,
   "id": "b624efc0",
   "metadata": {},
   "outputs": [],
   "source": [
    "# Grades of State University graduates are \n",
    "# normally distributed with a mean of 3.0 and a standard deviation of .3.\n",
    "dist = stats.norm(3, 0.3)"
   ]
  },
  {
   "cell_type": "code",
   "execution_count": 7,
   "id": "dce113b7",
   "metadata": {},
   "outputs": [
    {
     "data": {
      "text/plain": [
       "3.4934560880854417"
      ]
     },
     "execution_count": 7,
     "metadata": {},
     "output_type": "execute_result"
    }
   ],
   "source": [
    "# What grade point average is required to be in the top 5% of the graduating class?\n",
    "dist.isf(0.05)"
   ]
  },
  {
   "cell_type": "code",
   "execution_count": 8,
   "id": "23fecd9e",
   "metadata": {},
   "outputs": [
    {
     "data": {
      "text/plain": [
       "2.689069983151863"
      ]
     },
     "execution_count": 8,
     "metadata": {},
     "output_type": "execute_result"
    }
   ],
   "source": [
    "# What GPA constitutes the bottom 15% of the class?\n",
    "dist.ppf(0.15)"
   ]
  },
  {
   "cell_type": "code",
   "execution_count": 9,
   "id": "c71580ad",
   "metadata": {},
   "outputs": [
    {
     "data": {
      "text/plain": [
       "0.2333242849170869"
      ]
     },
     "execution_count": 9,
     "metadata": {},
     "output_type": "execute_result"
    }
   ],
   "source": [
    "# An eccentric alumnus left scholarship money for students in the third decile from the bottom of their class. \n",
    "# Determine the range of the third decile. \n",
    "dist.isf(0.3999999999) - dist.ppf(0.2999999999)"
   ]
  },
  {
   "cell_type": "code",
   "execution_count": 16,
   "id": "6959828d",
   "metadata": {},
   "outputs": [
    {
     "name": "stdout",
     "output_type": "stream",
     "text": [
      "False\n"
     ]
    }
   ],
   "source": [
    "# Would a student with a 2.8 grade point average qualify for this scholarship?\n",
    "print((2.8 > dist.ppf(0.2999999999)) and (2.8 < dist.isf(0.3999999999)))"
   ]
  },
  {
   "cell_type": "code",
   "execution_count": 15,
   "id": "528cc832",
   "metadata": {},
   "outputs": [
    {
     "data": {
      "text/plain": [
       "95"
      ]
     },
     "execution_count": 15,
     "metadata": {},
     "output_type": "execute_result"
    }
   ],
   "source": [
    "# If I have a GPA of 3.5, what percentile am I in?\n",
    "int(dist.cdf(3.5) * 100)"
   ]
  },
  {
   "cell_type": "code",
   "execution_count": null,
   "id": "38aa9622",
   "metadata": {},
   "outputs": [],
   "source": [
    "# A marketing website has an average click-through rate of 2%. \n",
    "# One day they observe 4326 visitors and 97 click-throughs. \n"
   ]
  },
  {
   "cell_type": "code",
   "execution_count": null,
   "id": "d1b136a3",
   "metadata": {},
   "outputs": [],
   "source": [
    "# How likely is it that this many people or more click through?"
   ]
  },
  {
   "cell_type": "code",
   "execution_count": null,
   "id": "fb70c105",
   "metadata": {},
   "outputs": [],
   "source": [
    "# You are working on some statistics homework consisting of 100 questions where \n",
    "# all of the answers are a probability rounded to the hundreths place. \n",
    "# Looking to save time, you put down random probabilities as the answer to each question.\n",
    "# What is the probability that at least one of your first 60 answers is correct?\n"
   ]
  },
  {
   "cell_type": "code",
   "execution_count": null,
   "id": "85ee1639",
   "metadata": {},
   "outputs": [],
   "source": [
    "# The codeup staff tends to get upset when the student break area is not cleaned up. \n",
    "# Suppose that there's a 3% chance that any one student cleans the break area when they visit it, \n",
    "# and, on any given day, about 90% of the 3 active cohorts of 22 students visit the break area. \n",
    "# How likely is it that the break area gets cleaned up each day?\n"
   ]
  },
  {
   "cell_type": "code",
   "execution_count": null,
   "id": "062fb1e2",
   "metadata": {},
   "outputs": [],
   "source": [
    "# The codeup staff tends to get upset when the student break area is not cleaned up. \n",
    "# Suppose that there's a 3% chance that any one student cleans the break area when they visit it, \n",
    "# and, on any given day, about 90% of the 3 active cohorts of 22 students visit the break area. \n",
    "# How likely is it that the break area gets cleaned up each day?\n"
   ]
  },
  {
   "cell_type": "code",
   "execution_count": null,
   "id": "0a4c507c",
   "metadata": {},
   "outputs": [],
   "source": [
    "# How likely is it that it goes two days without getting cleaned up? \n"
   ]
  },
  {
   "cell_type": "code",
   "execution_count": null,
   "id": "f786f081",
   "metadata": {},
   "outputs": [],
   "source": [
    "# All week?\n"
   ]
  },
  {
   "cell_type": "code",
   "execution_count": null,
   "id": "cbe530a4",
   "metadata": {},
   "outputs": [],
   "source": [
    "# You want to get lunch at La Panaderia, but notice that the line is usually very long at lunchtime. \n",
    "# After several weeks of careful observation, you notice that \n",
    "# the average number of people in line when your lunch break starts is normally distributed \n",
    "# with a mean of 15 and standard deviation of 3. \n",
    "# If it takes 2 minutes for each person to order, and 10 minutes from ordering to getting your food, \n",
    "# what is the likelihood that \n",
    "# you have at least 15 minutes left to eat your food before you have to go back to class? \n",
    "# Assume you have one hour for lunch, and ignore travel time to and from La Panaderia.\n"
   ]
  },
  {
   "cell_type": "code",
   "execution_count": null,
   "id": "b8fcf553",
   "metadata": {},
   "outputs": [],
   "source": [
    "# Connect to the employees database and \n",
    "# find the average salary of current employees, along with the standard deviation. \n"
   ]
  },
  {
   "cell_type": "code",
   "execution_count": null,
   "id": "c9bb5f80",
   "metadata": {},
   "outputs": [],
   "source": [
    "# For the following questions, \n",
    "# calculate the answer based on modeling the employees salaries with a normal distribution \n",
    "# defined by the calculated mean and standard deviation \n",
    "# then compare this answer to the actual values present in the salaries dataset.\n"
   ]
  },
  {
   "cell_type": "code",
   "execution_count": null,
   "id": "1389ff07",
   "metadata": {},
   "outputs": [],
   "source": [
    "# What percent of employees earn less than 60,000?\n"
   ]
  },
  {
   "cell_type": "code",
   "execution_count": null,
   "id": "6e89cad8",
   "metadata": {},
   "outputs": [],
   "source": [
    "# What percent of employees earn more than 95,000?\n"
   ]
  },
  {
   "cell_type": "code",
   "execution_count": null,
   "id": "54ac91e9",
   "metadata": {},
   "outputs": [],
   "source": [
    "# What percent of employees earn between 65,000 and 80,000?\n"
   ]
  },
  {
   "cell_type": "code",
   "execution_count": null,
   "id": "56f464ba",
   "metadata": {},
   "outputs": [],
   "source": [
    "# What do the top 5% of employees make?\n"
   ]
  }
 ],
 "metadata": {
  "kernelspec": {
   "display_name": "Python 3",
   "language": "python",
   "name": "python3"
  },
  "language_info": {
   "codemirror_mode": {
    "name": "ipython",
    "version": 3
   },
   "file_extension": ".py",
   "mimetype": "text/x-python",
   "name": "python",
   "nbconvert_exporter": "python",
   "pygments_lexer": "ipython3",
   "version": "3.8.8"
  }
 },
 "nbformat": 4,
 "nbformat_minor": 5
}
