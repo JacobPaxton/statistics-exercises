{
 "cells": [
  {
   "cell_type": "code",
   "execution_count": 1,
   "id": "b1ebf9bd",
   "metadata": {},
   "outputs": [],
   "source": [
    "# For the following problems, use python to simulate the problem and calculate an experimental probability, \n",
    "# then compare that to the theoretical probability.\n",
    "import numpy as np\n",
    "import pandas as pd\n",
    "import random\n",
    "import matplotlib.pyplot as plt\n",
    "from scipy import stats"
   ]
  },
  {
   "cell_type": "code",
   "execution_count": 2,
   "id": "e8937a1d",
   "metadata": {},
   "outputs": [],
   "source": [
    "# A bank found that the average number of cars waiting during the noon hour at a drive-up window\n",
    "# follows a Poisson distribution with a mean of 2 cars. \n",
    "# Make a chart of this distribution and \n",
    "# answer these questions concerning the probability of cars waiting at the drive-up window.\n",
    "dist = stats.poisson(2)"
   ]
  },
  {
   "cell_type": "code",
   "execution_count": 3,
   "id": "bcc4b11a",
   "metadata": {},
   "outputs": [
    {
     "data": {
      "text/plain": [
       "0.14"
      ]
     },
     "execution_count": 3,
     "metadata": {},
     "output_type": "execute_result"
    }
   ],
   "source": [
    "# What is the probability that no cars drive up in the noon hour?\n",
    "round(dist.pmf(0), 2)"
   ]
  },
  {
   "cell_type": "code",
   "execution_count": 4,
   "id": "66663fe3",
   "metadata": {},
   "outputs": [
    {
     "data": {
      "text/plain": [
       "0.32"
      ]
     },
     "execution_count": 4,
     "metadata": {},
     "output_type": "execute_result"
    }
   ],
   "source": [
    "# What is the probability that 3 or more cars come through the drive through?\n",
    "round(dist.sf(3) + dist.pmf(3), 2)"
   ]
  },
  {
   "cell_type": "code",
   "execution_count": 5,
   "id": "94df092a",
   "metadata": {},
   "outputs": [
    {
     "data": {
      "text/plain": [
       "0.86"
      ]
     },
     "execution_count": 5,
     "metadata": {},
     "output_type": "execute_result"
    }
   ],
   "source": [
    "# How likely is it that the drive through gets at least 1 car?\n",
    "round(dist.sf(1) + dist.pmf(1), 2)"
   ]
  },
  {
   "cell_type": "code",
   "execution_count": 157,
   "id": "b624efc0",
   "metadata": {},
   "outputs": [],
   "source": [
    "# Grades of State University graduates are \n",
    "# normally distributed with a mean of 3.0 and a standard deviation of .3.\n",
    "dist = stats.norm(3, 0.3)"
   ]
  },
  {
   "cell_type": "code",
   "execution_count": 158,
   "id": "dce113b7",
   "metadata": {},
   "outputs": [
    {
     "data": {
      "text/plain": [
       "3.49"
      ]
     },
     "execution_count": 158,
     "metadata": {},
     "output_type": "execute_result"
    }
   ],
   "source": [
    "# What grade point average is required to be in the top 5% of the graduating class?\n",
    "round(dist.isf(0.05), 2)"
   ]
  },
  {
   "cell_type": "code",
   "execution_count": 159,
   "id": "23fecd9e",
   "metadata": {},
   "outputs": [
    {
     "data": {
      "text/plain": [
       "2.69"
      ]
     },
     "execution_count": 159,
     "metadata": {},
     "output_type": "execute_result"
    }
   ],
   "source": [
    "# What GPA constitutes the bottom 15% of the class?\n",
    "round(dist.ppf(0.15), 2)"
   ]
  },
  {
   "cell_type": "code",
   "execution_count": 161,
   "id": "c71580ad",
   "metadata": {},
   "outputs": [
    {
     "data": {
      "text/plain": [
       "0.1"
      ]
     },
     "execution_count": 161,
     "metadata": {},
     "output_type": "execute_result"
    }
   ],
   "source": [
    "# An eccentric alumnus left scholarship money for students in the third decile from the bottom of their class. \n",
    "# Determine the range of the third decile. \n",
    "round(dist.ppf(0.3) - dist.ppf(0.2), 2)"
   ]
  },
  {
   "cell_type": "code",
   "execution_count": 162,
   "id": "6959828d",
   "metadata": {},
   "outputs": [
    {
     "name": "stdout",
     "output_type": "stream",
     "text": [
      "True\n"
     ]
    }
   ],
   "source": [
    "# Would a student with a 2.8 grade point average qualify for this scholarship?\n",
    "print((2.8 > dist.ppf(0.2)) and (2.8 < dist.isf(0.3)))"
   ]
  },
  {
   "cell_type": "code",
   "execution_count": 11,
   "id": "528cc832",
   "metadata": {},
   "outputs": [
    {
     "data": {
      "text/plain": [
       "95"
      ]
     },
     "execution_count": 11,
     "metadata": {},
     "output_type": "execute_result"
    }
   ],
   "source": [
    "# If I have a GPA of 3.5, what percentile am I in?\n",
    "int(dist.cdf(3.5) * 100)"
   ]
  },
  {
   "cell_type": "code",
   "execution_count": 104,
   "id": "38aa9622",
   "metadata": {},
   "outputs": [],
   "source": [
    "# A marketing website has an average click-through rate of 2%. \n",
    "# One day they observe 4326 visitors and 97 click-throughs. \n",
    "dist = stats.binom(4326, 0.02)"
   ]
  },
  {
   "cell_type": "code",
   "execution_count": 105,
   "id": "d1b136a3",
   "metadata": {},
   "outputs": [
    {
     "data": {
      "text/plain": [
       "0.14"
      ]
     },
     "execution_count": 105,
     "metadata": {},
     "output_type": "execute_result"
    }
   ],
   "source": [
    "# How likely is it that this many people or more click through?\n",
    "round(dist.sf(97) + dist.pmf(97), 2)"
   ]
  },
  {
   "cell_type": "code",
   "execution_count": 14,
   "id": "fb70c105",
   "metadata": {},
   "outputs": [
    {
     "data": {
      "text/plain": [
       "0.45"
      ]
     },
     "execution_count": 14,
     "metadata": {},
     "output_type": "execute_result"
    }
   ],
   "source": [
    "# You are working on some statistics homework consisting of 100 questions where \n",
    "# all of the answers are a probability rounded to the hundreths place. \n",
    "# Looking to save time, you put down random probabilities as the answer to each question.\n",
    "# What is the probability that at least one of your first 60 answers is correct?\n",
    "dist = stats.binom(60, 0.01)\n",
    "round(dist.sf(1) + dist.pmf(1), 2)"
   ]
  },
  {
   "cell_type": "code",
   "execution_count": 15,
   "id": "85ee1639",
   "metadata": {},
   "outputs": [
    {
     "data": {
      "text/plain": [
       "0.83"
      ]
     },
     "execution_count": 15,
     "metadata": {},
     "output_type": "execute_result"
    }
   ],
   "source": [
    "# The codeup staff tends to get upset when the student break area is not cleaned up. \n",
    "# Suppose that there's a 3% chance that any one student cleans the break area when they visit it, \n",
    "# and, on any given day, about 90% of the 3 active cohorts of 22 students visit the break area. \n",
    "# How likely is it that the break area gets cleaned up each day?\n",
    "dist = stats.binom((22 * 3) * 0.9, 0.03)\n",
    "round(dist.sf(0), 2)"
   ]
  },
  {
   "cell_type": "code",
   "execution_count": 16,
   "id": "0a4c507c",
   "metadata": {},
   "outputs": [
    {
     "data": {
      "text/plain": [
       "0.03"
      ]
     },
     "execution_count": 16,
     "metadata": {},
     "output_type": "execute_result"
    }
   ],
   "source": [
    "# How likely is it that it goes two days without getting cleaned up? \n",
    "round(dist.pmf(0) * dist.pmf(0), 2)"
   ]
  },
  {
   "cell_type": "code",
   "execution_count": 17,
   "id": "f786f081",
   "metadata": {},
   "outputs": [
    {
     "data": {
      "text/plain": [
       "0.00011781621791055157"
      ]
     },
     "execution_count": 17,
     "metadata": {},
     "output_type": "execute_result"
    }
   ],
   "source": [
    "# All week?\n",
    "dist.pmf(0) ** 5"
   ]
  },
  {
   "cell_type": "code",
   "execution_count": 31,
   "id": "b6262eb3",
   "metadata": {},
   "outputs": [],
   "source": [
    "# You want to get lunch at La Panaderia, but notice that the line is usually very long at lunchtime. \n",
    "# After several weeks of careful observation, you notice that \n",
    "# the average number of people in line when your lunch break starts is normally distributed \n",
    "# with a mean of 15 and standard deviation of 3. \n",
    "dist = stats.norm(15, 3)"
   ]
  },
  {
   "cell_type": "code",
   "execution_count": 32,
   "id": "cbe530a4",
   "metadata": {},
   "outputs": [
    {
     "data": {
      "text/plain": [
       "0.63"
      ]
     },
     "execution_count": 32,
     "metadata": {},
     "output_type": "execute_result"
    }
   ],
   "source": [
    "# If it takes 2 minutes for each person to order, \n",
    "# and 10 minutes from ordering to getting your food, \n",
    "# what is the likelihood that you have at least 15 minutes left to eat your food \n",
    "# before you have to go back to class? \n",
    "# Assume you have one hour for lunch, and ignore travel time to and from La Panaderia.\n",
    "\n",
    "# 16 people is 32 minutes of waiting, then 12 minutes of ordering and waiting. The threshold is 16, if 17 then no.\n",
    "round(dist.cdf(16), 2)"
   ]
  },
  {
   "cell_type": "code",
   "execution_count": 20,
   "id": "8dcd2b34",
   "metadata": {},
   "outputs": [],
   "source": [
    "# Connect to the employees database\n",
    "from env import host, username, password\n",
    "def get_db_url(username, hostname, password, db_name):\n",
    "    return f'mysql+pymysql://{username}:{password}@{hostname}/{db_name}'\n",
    "\n",
    "url = get_db_url(username, host, password, 'employees')"
   ]
  },
  {
   "cell_type": "code",
   "execution_count": 21,
   "id": "64b00027",
   "metadata": {},
   "outputs": [],
   "source": [
    "# for salaries of current employees... along with the standard deviation. \n",
    "salaries = pd.read_sql('SELECT * FROM salaries WHERE to_date > curdate()', url)"
   ]
  },
  {
   "cell_type": "code",
   "execution_count": 22,
   "id": "c7e304f2",
   "metadata": {},
   "outputs": [
    {
     "data": {
      "text/plain": [
       "<bound method NDFrame.describe of         emp_no  salary   from_date     to_date\n",
       "0        10001   88958  2002-06-22  9999-01-01\n",
       "1        10002   72527  2001-08-02  9999-01-01\n",
       "2        10003   43311  2001-12-01  9999-01-01\n",
       "3        10004   74057  2001-11-27  9999-01-01\n",
       "4        10005   94692  2001-09-09  9999-01-01\n",
       "...        ...     ...         ...         ...\n",
       "240119  499995   52868  2002-06-01  9999-01-01\n",
       "240120  499996   69501  2002-05-12  9999-01-01\n",
       "240121  499997   83441  2001-08-26  9999-01-01\n",
       "240122  499998   55003  2001-12-25  9999-01-01\n",
       "240123  499999   77303  2001-11-29  9999-01-01\n",
       "\n",
       "[240124 rows x 4 columns]>"
      ]
     },
     "execution_count": 22,
     "metadata": {},
     "output_type": "execute_result"
    }
   ],
   "source": [
    "salaries.describe"
   ]
  },
  {
   "cell_type": "code",
   "execution_count": 23,
   "id": "31ade665",
   "metadata": {},
   "outputs": [
    {
     "data": {
      "text/plain": [
       "72012"
      ]
     },
     "execution_count": 23,
     "metadata": {},
     "output_type": "execute_result"
    }
   ],
   "source": [
    "# ...find the average salary...\n",
    "round(salaries['salary'].mean())"
   ]
  },
  {
   "cell_type": "code",
   "execution_count": 24,
   "id": "b8fcf553",
   "metadata": {},
   "outputs": [
    {
     "data": {
      "text/plain": [
       "17310"
      ]
     },
     "execution_count": 24,
     "metadata": {},
     "output_type": "execute_result"
    }
   ],
   "source": [
    "# ...and the standard deviation of all salaries.\n",
    "round(salaries['salary'].std())"
   ]
  },
  {
   "cell_type": "code",
   "execution_count": 25,
   "id": "c9bb5f80",
   "metadata": {},
   "outputs": [
    {
     "data": {
      "image/png": "[encoded data removed]",
      "text/plain": [
       "<Figure size 432x288 with 2 Axes>"
      ]
     },
     "metadata": {
      "needs_background": "light"
     },
     "output_type": "display_data"
    }
   ],
   "source": [
    "# For the following questions, \n",
    "# calculate the answer based on modeling the employees salaries with a normal distribution \n",
    "# defined by the calculated mean and standard deviation \n",
    "# then compare this answer to the actual values present in the salaries dataset.\n",
    "dist = stats.norm(72012, 17310)\n",
    "plt.subplot(121)\n",
    "plt.hist(dist.rvs(240124))\n",
    "plt.subplot(122)\n",
    "plt.hist(salaries['salary'])\n",
    "plt.tight_layout()\n",
    "plt.show()"
   ]
  },
  {
   "cell_type": "code",
   "execution_count": 26,
   "id": "1389ff07",
   "metadata": {},
   "outputs": [
    {
     "data": {
      "text/plain": [
       "0.27"
      ]
     },
     "execution_count": 26,
     "metadata": {},
     "output_type": "execute_result"
    }
   ],
   "source": [
    "# What percent of employees earn less than 60,000?\n",
    "round(len(salaries[salaries['salary'] < 60_000]) / len(salaries), 2)"
   ]
  },
  {
   "cell_type": "code",
   "execution_count": 27,
   "id": "6e89cad8",
   "metadata": {},
   "outputs": [
    {
     "data": {
      "text/plain": [
       "0.11"
      ]
     },
     "execution_count": 27,
     "metadata": {},
     "output_type": "execute_result"
    }
   ],
   "source": [
    "# What percent of employees earn more than 95,000?\n",
    "round(len(salaries[salaries['salary'] > 95_000]) / len(salaries), 2)"
   ]
  },
  {
   "cell_type": "code",
   "execution_count": 28,
   "id": "54ac91e9",
   "metadata": {},
   "outputs": [
    {
     "data": {
      "text/plain": [
       "0.33"
      ]
     },
     "execution_count": 28,
     "metadata": {},
     "output_type": "execute_result"
    }
   ],
   "source": [
    "# What percent of employees earn between 65,000 and 80,000?\n",
    "round(\n",
    "    len(salaries[(salaries['salary'] > 65_000) & (salaries['salary'] < 80_000)]\n",
    "    ) / len(salaries), 2)"
   ]
  },
  {
   "cell_type": "code",
   "execution_count": 29,
   "id": "56f464ba",
   "metadata": {},
   "outputs": [
    {
     "data": {
      "text/plain": [
       "131223"
      ]
     },
     "execution_count": 29,
     "metadata": {},
     "output_type": "execute_result"
    }
   ],
   "source": [
    "# What do the top 5% of employees make?\n",
    "# interpreting as \"on average\"\n",
    "round((salaries['salary'].quantile(0.95) + salaries['salary'].max()) / 2)"
   ]
  },
  {
   "cell_type": "markdown",
   "id": "1d632555",
   "metadata": {},
   "source": [
    "# Answer the above questions using approximation"
   ]
  },
  {
   "cell_type": "code",
   "execution_count": 57,
   "id": "764955a3",
   "metadata": {},
   "outputs": [
    {
     "data": {
      "text/plain": [
       "(array([1354., 2701., 2650., 1859.,  920.,  352.,  114.,   38.,    8.,\n",
       "           4.]),\n",
       " array([0. , 0.9, 1.8, 2.7, 3.6, 4.5, 5.4, 6.3, 7.2, 8.1, 9. ]),\n",
       " <BarContainer object of 10 artists>)"
      ]
     },
     "execution_count": 57,
     "metadata": {},
     "output_type": "execute_result"
    },
    {
     "data": {
      "image/png": "[encoded data removed]",
      "text/plain": [
       "<Figure size 432x288 with 1 Axes>"
      ]
     },
     "metadata": {
      "needs_background": "light"
     },
     "output_type": "display_data"
    }
   ],
   "source": [
    "# Poisson distribution of waiting cars at noon with mean = 2 cars\n",
    "cars = np.random.poisson(2, 10_000)\n",
    "plt.hist(cars)"
   ]
  },
  {
   "cell_type": "code",
   "execution_count": 150,
   "id": "a317f125",
   "metadata": {},
   "outputs": [
    {
     "data": {
      "text/plain": [
       "0.14"
      ]
     },
     "execution_count": 150,
     "metadata": {},
     "output_type": "execute_result"
    }
   ],
   "source": [
    "# What is the probability that no cars drive up in the noon hour?\n",
    "round((cars == 0).mean(), 2)"
   ]
  },
  {
   "cell_type": "code",
   "execution_count": 151,
   "id": "6838e76d",
   "metadata": {},
   "outputs": [
    {
     "data": {
      "text/plain": [
       "0.33"
      ]
     },
     "execution_count": 151,
     "metadata": {},
     "output_type": "execute_result"
    }
   ],
   "source": [
    "# What is the probability that 3 or more cars come through the drive through?\n",
    "round((cars >= 3).mean(), 2)"
   ]
  },
  {
   "cell_type": "code",
   "execution_count": 152,
   "id": "98e0ea7d",
   "metadata": {},
   "outputs": [
    {
     "data": {
      "text/plain": [
       "0.86"
      ]
     },
     "execution_count": 152,
     "metadata": {},
     "output_type": "execute_result"
    }
   ],
   "source": [
    "# How likely is it that the drive through gets at least 1 car?\n",
    "round((cars >= 1).mean(), 2)"
   ]
  },
  {
   "cell_type": "code",
   "execution_count": 62,
   "id": "7611ce48",
   "metadata": {},
   "outputs": [
    {
     "data": {
      "text/plain": [
       "(array([  23.,  134.,  598., 1687., 2685., 2572., 1579.,  594.,  110.,\n",
       "          18.]),\n",
       " array([1.91102215, 2.13101853, 2.35101491, 2.5710113 , 2.79100768,\n",
       "        3.01100406, 3.23100045, 3.45099683, 3.67099322, 3.8909896 ,\n",
       "        4.11098598]),\n",
       " <BarContainer object of 10 artists>)"
      ]
     },
     "execution_count": 62,
     "metadata": {},
     "output_type": "execute_result"
    },
    {
     "data": {
      "image/png": "[encoded data removed]",
      "text/plain": [
       "<Figure size 432x288 with 1 Axes>"
      ]
     },
     "metadata": {
      "needs_background": "light"
     },
     "output_type": "display_data"
    }
   ],
   "source": [
    "# Normal distribution of grades with mean = 3.0 and standard deviation = 0.3\n",
    "grades = np.random.normal(3.0, 0.3, 10_000)\n",
    "plt.hist(grades)"
   ]
  },
  {
   "cell_type": "code",
   "execution_count": 77,
   "id": "f2150f8b",
   "metadata": {},
   "outputs": [
    {
     "data": {
      "text/plain": [
       "3.5"
      ]
     },
     "execution_count": 77,
     "metadata": {},
     "output_type": "execute_result"
    }
   ],
   "source": [
    "# What grade point average is required to be in the top 5% of the graduating class?\n",
    "round(np.percentile(grades, 95), 2)"
   ]
  },
  {
   "cell_type": "code",
   "execution_count": 78,
   "id": "f8e0a6de",
   "metadata": {},
   "outputs": [
    {
     "data": {
      "text/plain": [
       "2.69"
      ]
     },
     "execution_count": 78,
     "metadata": {},
     "output_type": "execute_result"
    }
   ],
   "source": [
    "# What GPA constitutes the bottom 15% of the class?\n",
    "round(np.percentile(grades, 15), 2)"
   ]
  },
  {
   "cell_type": "code",
   "execution_count": 164,
   "id": "615de8db",
   "metadata": {},
   "outputs": [
    {
     "data": {
      "text/plain": [
       "0.09"
      ]
     },
     "execution_count": 164,
     "metadata": {},
     "output_type": "execute_result"
    }
   ],
   "source": [
    "# Grade range of third decile\n",
    "round(np.percentile(grades, 30) - np.percentile(grades, 20), 2)"
   ]
  },
  {
   "cell_type": "code",
   "execution_count": 165,
   "id": "081b271b",
   "metadata": {},
   "outputs": [
    {
     "data": {
      "text/plain": [
       "True"
      ]
     },
     "execution_count": 165,
     "metadata": {},
     "output_type": "execute_result"
    }
   ],
   "source": [
    "# Is a grade of 2.8 in the third decile?\n",
    "(2.8 > np.percentile(grades, 20)) and (2.8 < np.percentile(grades, 30))"
   ]
  },
  {
   "cell_type": "code",
   "execution_count": 89,
   "id": "447ab40f",
   "metadata": {},
   "outputs": [
    {
     "data": {
      "text/plain": [
       "0.95"
      ]
     },
     "execution_count": 89,
     "metadata": {},
     "output_type": "execute_result"
    }
   ],
   "source": [
    "# If I have a GPA of 3.5, what percentile am I in?\n",
    "round(len(grades[grades <= 3.5]) / len(grades), 2)"
   ]
  },
  {
   "cell_type": "code",
   "execution_count": 98,
   "id": "93e19ce1",
   "metadata": {},
   "outputs": [
    {
     "data": {
      "text/plain": [
       "(array([  34.,  251., 1085., 2366., 2904., 2343.,  774.,  188.,   51.,\n",
       "           4.]),\n",
       " array([ 55. ,  62.2,  69.4,  76.6,  83.8,  91. ,  98.2, 105.4, 112.6,\n",
       "        119.8, 127. ]),\n",
       " <BarContainer object of 10 artists>)"
      ]
     },
     "execution_count": 98,
     "metadata": {},
     "output_type": "execute_result"
    },
    {
     "data": {
      "image/png": "[encoded data removed]",
      "text/plain": [
       "<Figure size 432x288 with 1 Axes>"
      ]
     },
     "metadata": {
      "needs_background": "light"
     },
     "output_type": "display_data"
    }
   ],
   "source": [
    "# A marketing website has an average click-through rate of 2%. \n",
    "# One day they observe 4326 visitors and 97 click-throughs. \n",
    "clickthru = np.random.binomial(4326, 0.02, 10_000)\n",
    "plt.hist(clickthru)"
   ]
  },
  {
   "cell_type": "code",
   "execution_count": 112,
   "id": "8e968108",
   "metadata": {},
   "outputs": [
    {
     "data": {
      "text/plain": [
       "0.14"
      ]
     },
     "execution_count": 112,
     "metadata": {},
     "output_type": "execute_result"
    }
   ],
   "source": [
    "# How likely is it that this many people or more click through?\n",
    "round((clickthru >= 97).mean(), 2)"
   ]
  },
  {
   "cell_type": "code",
   "execution_count": 166,
   "id": "3c21630b",
   "metadata": {},
   "outputs": [
    {
     "data": {
      "text/plain": [
       "0.44"
      ]
     },
     "execution_count": 166,
     "metadata": {},
     "output_type": "execute_result"
    }
   ],
   "source": [
    "# Random numbers 1 - 100, what is the chance you guess right in 60 tries?\n",
    "tries = np.random.choice((0,1), size=(10_000, 60), p=[0.99, 0.01])\n",
    "round((tries.sum(axis=1) > 0).mean(), 2)"
   ]
  },
  {
   "cell_type": "code",
   "execution_count": 149,
   "id": "cfec7dbc",
   "metadata": {},
   "outputs": [],
   "source": [
    "# 3% chance for any visiting student to clean, when 90% of 3 cohorts each with 22 students visit in a day\n",
    "cleaners = np.random.choice((0,1), size=(10_000, (int(3 * 22 * 0.9))), p=[0.97, 0.03])"
   ]
  },
  {
   "cell_type": "code",
   "execution_count": 167,
   "id": "b327ad67",
   "metadata": {},
   "outputs": [
    {
     "data": {
      "text/plain": [
       "0.83"
      ]
     },
     "execution_count": 167,
     "metadata": {},
     "output_type": "execute_result"
    }
   ],
   "source": [
    "# Chance of room getting cleaned in one day\n",
    "round((cleaners.sum(axis=1) > 0).mean(), 2)"
   ]
  },
  {
   "cell_type": "code",
   "execution_count": 122,
   "id": "c5217229",
   "metadata": {},
   "outputs": [
    {
     "data": {
      "text/plain": [
       "0.03"
      ]
     },
     "execution_count": 122,
     "metadata": {},
     "output_type": "execute_result"
    }
   ],
   "source": [
    "# How likely is it that it goes two days without getting cleaned up? \n",
    "round((1 - ((cleaners.sum(axis=1) > 0).mean())) ** 2, 2)"
   ]
  },
  {
   "cell_type": "code",
   "execution_count": 124,
   "id": "11404770",
   "metadata": {},
   "outputs": [
    {
     "data": {
      "text/plain": [
       "0.00011054779882387842"
      ]
     },
     "execution_count": 124,
     "metadata": {},
     "output_type": "execute_result"
    }
   ],
   "source": [
    "# All week?\n",
    "(1 - ((cleaners.sum(axis=1) > 0).mean())) ** 5"
   ]
  },
  {
   "cell_type": "code",
   "execution_count": 127,
   "id": "ae4fb413",
   "metadata": {},
   "outputs": [
    {
     "data": {
      "text/plain": [
       "(array([  16.,  118.,  567., 1677., 2766., 2766., 1516.,  476.,   88.,\n",
       "          10.]),\n",
       " array([ 3.92651937,  6.1832136 ,  8.43990783, 10.69660206, 12.95329629,\n",
       "        15.20999052, 17.46668475, 19.72337898, 21.98007321, 24.23676743,\n",
       "        26.49346166]),\n",
       " <BarContainer object of 10 artists>)"
      ]
     },
     "execution_count": 127,
     "metadata": {},
     "output_type": "execute_result"
    },
    {
     "data": {
      "image/png": "[encoded data removed]",
      "text/plain": [
       "<Figure size 432x288 with 1 Axes>"
      ]
     },
     "metadata": {
      "needs_background": "light"
     },
     "output_type": "display_data"
    }
   ],
   "source": [
    "# Lunchline with normal distribution, mean = 15 people and standard deviation = 3\n",
    "line = np.random.normal(15, 3, 10_000)\n",
    "plt.hist(line)"
   ]
  },
  {
   "cell_type": "code",
   "execution_count": 129,
   "id": "c6c884d1",
   "metadata": {},
   "outputs": [
    {
     "data": {
      "text/plain": [
       "0.6184"
      ]
     },
     "execution_count": 129,
     "metadata": {},
     "output_type": "execute_result"
    }
   ],
   "source": [
    "# Likelihood of at most 16 people?\n",
    "(line <= 16).mean()"
   ]
  },
  {
   "cell_type": "code",
   "execution_count": 130,
   "id": "02703061",
   "metadata": {},
   "outputs": [
    {
     "data": {
      "text/plain": [
       "(array([  22.,  140.,  616., 1640., 2652., 2539., 1658.,  567.,  148.,\n",
       "          18.]),\n",
       " array([ 10211.77654059,  22629.57571358,  35047.37488657,  47465.17405955,\n",
       "         59882.97323254,  72300.77240553,  84718.57157852,  97136.3707515 ,\n",
       "        109554.16992449, 121971.96909748, 134389.76827046]),\n",
       " <BarContainer object of 10 artists>)"
      ]
     },
     "execution_count": 130,
     "metadata": {},
     "output_type": "execute_result"
    },
    {
     "data": {
      "image/png": "[encoded data removed]",
      "text/plain": [
       "<Figure size 432x288 with 1 Axes>"
      ]
     },
     "metadata": {
      "needs_background": "light"
     },
     "output_type": "display_data"
    }
   ],
   "source": [
    "# Simulate employee salaries with mean = 72012 and standard deviation = 17310\n",
    "sals = np.random.normal(72012, 17310, size=(10_000, 1))\n",
    "plt.hist(sals)"
   ]
  },
  {
   "cell_type": "code",
   "execution_count": 142,
   "id": "b0c262d4",
   "metadata": {},
   "outputs": [
    {
     "data": {
      "text/plain": [
       "0.24"
      ]
     },
     "execution_count": 142,
     "metadata": {},
     "output_type": "execute_result"
    }
   ],
   "source": [
    "# Percentage of salaries under $60,000\n",
    "round((sals < 60000).mean(), 2)"
   ]
  },
  {
   "cell_type": "code",
   "execution_count": 141,
   "id": "4c49af05",
   "metadata": {},
   "outputs": [
    {
     "data": {
      "text/plain": [
       "0.09"
      ]
     },
     "execution_count": 141,
     "metadata": {},
     "output_type": "execute_result"
    }
   ],
   "source": [
    "# Percentage of salaries over $95,000\n",
    "round((sals > 95000).mean(), 2)"
   ]
  },
  {
   "cell_type": "code",
   "execution_count": 140,
   "id": "611265cf",
   "metadata": {},
   "outputs": [
    {
     "data": {
      "text/plain": [
       "0.34"
      ]
     },
     "execution_count": 140,
     "metadata": {},
     "output_type": "execute_result"
    }
   ],
   "source": [
    "# Percentage of salaries between $65,000 and $80,000\n",
    "round(((sals > 65000) & (sals < 80000)).mean(), 2)"
   ]
  },
  {
   "cell_type": "code",
   "execution_count": 138,
   "id": "9d7c4eb9",
   "metadata": {},
   "outputs": [
    {
     "data": {
      "text/plain": [
       "117397"
      ]
     },
     "execution_count": 138,
     "metadata": {},
     "output_type": "execute_result"
    }
   ],
   "source": [
    "# Average of top 5% of salaries\n",
    "int((sals.max() + np.percentile(sals, 95)) / 2)"
   ]
  },
  {
   "cell_type": "code",
   "execution_count": null,
   "id": "2d59111d",
   "metadata": {},
   "outputs": [],
   "source": []
  }
 ],
 "metadata": {
  "kernelspec": {
   "display_name": "Python 3",
   "language": "python",
   "name": "python3"
  },
  "language_info": {
   "codemirror_mode": {
    "name": "ipython",
    "version": 3
   },
   "file_extension": ".py",
   "mimetype": "text/x-python",
   "name": "python",
   "nbconvert_exporter": "python",
   "pygments_lexer": "ipython3",
   "version": "3.8.8"
  }
 },
 "nbformat": 4,
 "nbformat_minor": 5
}
