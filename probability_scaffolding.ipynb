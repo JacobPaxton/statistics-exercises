{
 "cells": [
  {
   "cell_type": "code",
   "execution_count": 2,
   "id": "sealed-fleece",
   "metadata": {},
   "outputs": [],
   "source": [
    "import numpy as np\n",
    "import pandas as pd\n",
    "import matplotlib.pyplot as plt\n",
    "from scipy import stats"
   ]
  },
  {
   "cell_type": "code",
   "execution_count": 3,
   "id": "694c5065",
   "metadata": {},
   "outputs": [],
   "source": [
    "# Walk it out w/ Poisson distribution \n",
    "# - On any given day, let's say you walk an average of 2 miles per day. \n",
    "# - Create a Poisson distribution. \n",
    "walk = stats.poisson(2)"
   ]
  },
  {
   "cell_type": "code",
   "execution_count": 4,
   "id": "50a374cf",
   "metadata": {},
   "outputs": [
    {
     "data": {
      "text/plain": [
       "0.1353352832366127"
      ]
     },
     "execution_count": 4,
     "metadata": {},
     "output_type": "execute_result"
    }
   ],
   "source": [
    "# - Use `.pmf` to answer the following questions in different notebook cells.\n",
    "#     - What are the chances of walking exactly 0 miles? \n",
    "walk.pmf(0)"
   ]
  },
  {
   "cell_type": "code",
   "execution_count": 5,
   "id": "261a6bc4",
   "metadata": {},
   "outputs": [
    {
     "data": {
      "text/plain": [
       "0.2706705664732254"
      ]
     },
     "execution_count": 5,
     "metadata": {},
     "output_type": "execute_result"
    }
   ],
   "source": [
    "#     - What are the odds of walking exactly 1 mile? \n",
    "walk.pmf(1)"
   ]
  },
  {
   "cell_type": "code",
   "execution_count": 6,
   "id": "80c8f960",
   "metadata": {},
   "outputs": [
    {
     "data": {
      "text/plain": [
       "0.2706705664732254"
      ]
     },
     "execution_count": 6,
     "metadata": {},
     "output_type": "execute_result"
    }
   ],
   "source": [
    "#     - What are the chances of walking exactly 2 miles?\n",
    "walk.pmf(2)"
   ]
  },
  {
   "cell_type": "code",
   "execution_count": 7,
   "id": "b498e22a",
   "metadata": {},
   "outputs": [
    {
     "data": {
      "text/plain": [
       "0.6766764161830635"
      ]
     },
     "execution_count": 7,
     "metadata": {},
     "output_type": "execute_result"
    }
   ],
   "source": [
    "# - In a separate cell, sum up all of those 3 different probabilities together.\n",
    "walk.pmf(0) + walk.pmf(1) + walk.pmf(2)"
   ]
  },
  {
   "cell_type": "code",
   "execution_count": 8,
   "id": "b9eeb591",
   "metadata": {},
   "outputs": [
    {
     "data": {
      "text/plain": [
       "0.6766764161830634"
      ]
     },
     "execution_count": 8,
     "metadata": {},
     "output_type": "execute_result"
    }
   ],
   "source": [
    "# - Now use `.cdf` to answer the following question: What's the chance we walk 2 miles or less?\n",
    "walk.cdf(2)"
   ]
  },
  {
   "cell_type": "code",
   "execution_count": 9,
   "id": "a6542cf6",
   "metadata": {},
   "outputs": [
    {
     "data": {
      "text/plain": [
       "1.1102230246251565e-16"
      ]
     },
     "execution_count": 9,
     "metadata": {},
     "output_type": "execute_result"
    }
   ],
   "source": [
    "# - Compare the number from your `.cdf` with the sum of those three separate `.pmf` results? What do you see?\n",
    "(walk.pmf(0) + walk.pmf(1) + walk.pmf(2)) - walk.cdf(2)"
   ]
  },
  {
   "cell_type": "code",
   "execution_count": 10,
   "id": "60c76e06",
   "metadata": {},
   "outputs": [
    {
     "data": {
      "text/plain": [
       "0.32332358381693654"
      ]
     },
     "execution_count": 10,
     "metadata": {},
     "output_type": "execute_result"
    }
   ],
   "source": [
    "# - Now we'll ask the chances of walking more than 2 miles. Use `.sf`\n",
    "walk.sf(2)"
   ]
  },
  {
   "cell_type": "code",
   "execution_count": 12,
   "id": "e8146da7",
   "metadata": {},
   "outputs": [
    {
     "data": {
      "text/plain": [
       "1.0"
      ]
     },
     "execution_count": 12,
     "metadata": {},
     "output_type": "execute_result"
    }
   ],
   "source": [
    "# - Consider the relationship between the 2 numbers from the `.sf` and the `.pmf` result? What do you see?\n",
    "walk.sf(2) + (walk.pmf(0) + walk.pmf(1) + walk.pmf(2))"
   ]
  },
  {
   "cell_type": "code",
   "execution_count": 97,
   "id": "616118d5",
   "metadata": {},
   "outputs": [],
   "source": [
    "## Flipping Out with Binomials part 0\n",
    "# Let's model flipping a fair coin w/ a binomial. \n",
    "# The first step is to create the `stats.binom` distribution with a trial size of 1, \n",
    "# because we're only flipping _one_ coin at a time in this setup. \n",
    "# Our odds of \"success\" are 0.5 since we have a fair coin. \n",
    "# For our purposes, we'll define \"heads\" as the success case.\n",
    "coin = stats.binom(5, 0.5)"
   ]
  },
  {
   "cell_type": "code",
   "execution_count": 98,
   "id": "dacce60d",
   "metadata": {},
   "outputs": [
    {
     "data": {
      "text/plain": [
       "0.03125"
      ]
     },
     "execution_count": 98,
     "metadata": {},
     "output_type": "execute_result"
    }
   ],
   "source": [
    "# - Using `.pmf`, determine the chance of flipping exactly 0 heads. What's the result. Why is that?\n",
    "coin.pmf(0)"
   ]
  },
  {
   "cell_type": "code",
   "execution_count": 99,
   "id": "b710ff36",
   "metadata": {},
   "outputs": [
    {
     "data": {
      "text/plain": [
       "0.15624999999999994"
      ]
     },
     "execution_count": 99,
     "metadata": {},
     "output_type": "execute_result"
    }
   ],
   "source": [
    "# - Using `.pmf`, determine the chance of flipping exactly 1 head. What's the result. Why is that?\n",
    "coin.pmf(1)"
   ]
  },
  {
   "cell_type": "code",
   "execution_count": 100,
   "id": "7e2f7e1e",
   "metadata": {},
   "outputs": [
    {
     "data": {
      "text/plain": [
       "0.3125"
      ]
     },
     "execution_count": 100,
     "metadata": {},
     "output_type": "execute_result"
    }
   ],
   "source": [
    "# - Using that same distribution, determine the chance of flipping exactly 2 heads. Why might this be the case?\n",
    "coin.pmf(2)"
   ]
  },
  {
   "cell_type": "code",
   "execution_count": 101,
   "id": "212c6f54",
   "metadata": {},
   "outputs": [],
   "source": [
    "## Flipping Out with Binomials part 1\n",
    "# Let's model flipping 2 fair coins w/ a binomial. \n",
    "# The first step is to create the `stats.binom` distribution with a trial size of 2, \n",
    "# because this new distribution has a trial size of 2. \n",
    "# Our odds of a \"success\" for each coin are 0.5 since we have a fair coin. \n",
    "# For our purposes, we'll define \"heads\" as the success case.\n",
    "coins = stats.binom(10, 0.5)"
   ]
  },
  {
   "cell_type": "code",
   "execution_count": 102,
   "id": "f435a71d",
   "metadata": {},
   "outputs": [
    {
     "data": {
      "text/plain": [
       "0.0009765625"
      ]
     },
     "execution_count": 102,
     "metadata": {},
     "output_type": "execute_result"
    }
   ],
   "source": [
    "# With this new, 2 coin distribution, work through the following:\n",
    "# - Use `.pmf` to determine the probability of flipping exactly 0 heads.\n",
    "coins.pmf(0)"
   ]
  },
  {
   "cell_type": "code",
   "execution_count": 103,
   "id": "ec99ba36",
   "metadata": {},
   "outputs": [
    {
     "data": {
      "text/plain": [
       "0.00976562500000001"
      ]
     },
     "execution_count": 103,
     "metadata": {},
     "output_type": "execute_result"
    }
   ],
   "source": [
    "# - Use `.pmf` to determine the probability of flipping exactly 1 head.\n",
    "coins.pmf(1)"
   ]
  },
  {
   "cell_type": "code",
   "execution_count": 104,
   "id": "2ffe7536",
   "metadata": {},
   "outputs": [
    {
     "data": {
      "text/plain": [
       "0.04394531249999999"
      ]
     },
     "execution_count": 104,
     "metadata": {},
     "output_type": "execute_result"
    }
   ],
   "source": [
    "# - Use `.pmf` to determine the probability of flipping exactly 2 heads.\n",
    "coins.pmf(2)"
   ]
  },
  {
   "cell_type": "code",
   "execution_count": 105,
   "id": "db19c76c",
   "metadata": {},
   "outputs": [
    {
     "data": {
      "text/plain": [
       "0.11718750000000014"
      ]
     },
     "execution_count": 105,
     "metadata": {},
     "output_type": "execute_result"
    }
   ],
   "source": [
    "# - Now use `.pmf` to determine the probability of flipping exactly 3 heads. \n",
    "coins.pmf(3)"
   ]
  },
  {
   "cell_type": "code",
   "execution_count": 106,
   "id": "d63e42b4",
   "metadata": {},
   "outputs": [
    {
     "data": {
      "text/plain": [
       "0.010742187499999998"
      ]
     },
     "execution_count": 106,
     "metadata": {},
     "output_type": "execute_result"
    }
   ],
   "source": [
    "# - Now use `.cdf` to determine the probability of flipping 1 head or less\n",
    "coins.cdf(1)"
   ]
  },
  {
   "cell_type": "code",
   "execution_count": 107,
   "id": "fd0a1891",
   "metadata": {},
   "outputs": [
    {
     "data": {
      "text/plain": [
       "0.01074218750000001"
      ]
     },
     "execution_count": 107,
     "metadata": {},
     "output_type": "execute_result"
    }
   ],
   "source": [
    "# - What's the relationship between that number and \n",
    "# the sum of the probability of exaclty 0 plus the probability of exaclty 1?\n",
    "coins.pmf(0) + coins.pmf(1)"
   ]
  },
  {
   "cell_type": "code",
   "execution_count": 108,
   "id": "c3bdff8a",
   "metadata": {},
   "outputs": [
    {
     "data": {
      "text/plain": [
       "0.9990234375"
      ]
     },
     "execution_count": 108,
     "metadata": {},
     "output_type": "execute_result"
    }
   ],
   "source": [
    "# - Now use the `.sf` to determine the probability of flipping more than 0 heads? \n",
    "# What is the relationship of that number to the probability of flipping exactly 0 heads?\n",
    "coins.sf(0)"
   ]
  },
  {
   "cell_type": "code",
   "execution_count": 113,
   "id": "006b46c6",
   "metadata": {},
   "outputs": [],
   "source": [
    "## Under Normal Pressure\n",
    "# Average systolic blood pressure 120 and the standard deviation is 13. \n",
    "# Create your normal distribution with this information.\n",
    "blood = stats.norm(120, 13)"
   ]
  },
  {
   "cell_type": "code",
   "execution_count": 115,
   "id": "6943406f",
   "metadata": {},
   "outputs": [
    {
     "data": {
      "text/plain": [
       "0.030687867723187132"
      ]
     },
     "execution_count": 115,
     "metadata": {},
     "output_type": "execute_result"
    }
   ],
   "source": [
    "# - What is the chance that someone's systolic blood pressure is _exactly_ 120?\n",
    "blood.pdf(120)"
   ]
  },
  {
   "cell_type": "code",
   "execution_count": 116,
   "id": "9b6da0ae",
   "metadata": {},
   "outputs": [
    {
     "data": {
      "text/plain": [
       "0.7791218362875403"
      ]
     },
     "execution_count": 116,
     "metadata": {},
     "output_type": "execute_result"
    }
   ],
   "source": [
    "# - What is the likelihood that someone's systolic blood pressure is 130 or lower?\n",
    "blood.cdf(130)"
   ]
  },
  {
   "cell_type": "code",
   "execution_count": 117,
   "id": "dcb243b8",
   "metadata": {},
   "outputs": [
    {
     "data": {
      "text/plain": [
       "0.22087816371245977"
      ]
     },
     "execution_count": 117,
     "metadata": {},
     "output_type": "execute_result"
    }
   ],
   "source": [
    "# - What is the chance that someone's systolic blood pressure is above 130?\n",
    "blood.sf(130)"
   ]
  },
  {
   "cell_type": "code",
   "execution_count": 118,
   "id": "69a6cc0f",
   "metadata": {},
   "outputs": [
    {
     "data": {
      "text/plain": [
       "1.0"
      ]
     },
     "execution_count": 118,
     "metadata": {},
     "output_type": "execute_result"
    }
   ],
   "source": [
    "# - What is the relationship between these two probabilities?\n",
    "blood.cdf(130) + blood.sf(130)"
   ]
  },
  {
   "cell_type": "code",
   "execution_count": null,
   "id": "configured-desperate",
   "metadata": {},
   "outputs": [],
   "source": []
  }
 ],
 "metadata": {
  "kernelspec": {
   "display_name": "Python 3",
   "language": "python",
   "name": "python3"
  },
  "language_info": {
   "codemirror_mode": {
    "name": "ipython",
    "version": 3
   },
   "file_extension": ".py",
   "mimetype": "text/x-python",
   "name": "python",
   "nbconvert_exporter": "python",
   "pygments_lexer": "ipython3",
   "version": "3.8.8"
  }
 },
 "nbformat": 4,
 "nbformat_minor": 5
}
