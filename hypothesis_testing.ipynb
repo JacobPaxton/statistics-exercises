{
 "cells": [
  {
   "cell_type": "code",
   "execution_count": null,
   "id": "cf5288af",
   "metadata": {},
   "outputs": [],
   "source": [
    "# For each of the following questions, formulate a null and alternative hypothesis \n",
    "# (be as specific as you can be), then give an example of what a true positive, \n",
    "# true negative, type I and type II errors would look like. \n",
    "# Note that some of the questions are intentionally phrased in a vague way. \n",
    "# It is your job to reword these as more precise questions that could be tested."
   ]
  },
  {
   "cell_type": "code",
   "execution_count": null,
   "id": "f84386e8",
   "metadata": {},
   "outputs": [],
   "source": [
    "# Has the network latency gone up since we switched internet service providers?\n",
    "# Null Hypothesis: The network latency has gone down or remained constant since switching providers\n",
    "# Alt Hypothesis: The network latency has gone up since switching\n",
    "# True positive: The network latency indeed went up\n",
    "# True negative: The network latency indeed went down or stayed the same\n",
    "# Type I: The network latency appeared to go up, but did not.\n",
    "# Type II: The network latency appeared to go down or remain constant, but did not."
   ]
  },
  {
   "cell_type": "code",
   "execution_count": null,
   "id": "d2c45ef6",
   "metadata": {},
   "outputs": [],
   "source": [
    "# Is the website redesign any good?\n",
    "# Null Hypothesis: The website redesign negatively or did not affect customer retention\n",
    "# Alt Hypothesis: The website redesign positively impacted customer retention\n",
    "# True positive: The website redesign indeed improved customer retention\n",
    "# True negative: The website redesign indeed worsened or did not affect customer retention\n",
    "# Type I: The website redesign appeared to improve customer retention, but did not.\n",
    "# Type II: The website redesign appeared to worsen or not affect customer retention, but instead improved it."
   ]
  },
  {
   "cell_type": "code",
   "execution_count": null,
   "id": "1e266028",
   "metadata": {},
   "outputs": [],
   "source": [
    "# Is our television ad driving more sales?\n",
    "# Null Hypothesis: Our ad is not driving or not affecting sales\n",
    "# Alt Hypothesis: Our ad is driving more sales\n",
    "# True positive: Our ad indeed drove more sales\n",
    "# True negative: Our ad indeed did not drive more sales\n",
    "# Type I: Our ad appeared to drive more sales, but did not.\n",
    "# Type II: Our ad appeared to not drive more sales, but actually did."
   ]
  }
 ],
 "metadata": {
  "kernelspec": {
   "display_name": "Python 3",
   "language": "python",
   "name": "python3"
  },
  "language_info": {
   "codemirror_mode": {
    "name": "ipython",
    "version": 3
   },
   "file_extension": ".py",
   "mimetype": "text/x-python",
   "name": "python",
   "nbconvert_exporter": "python",
   "pygments_lexer": "ipython3",
   "version": "3.8.8"
  }
 },
 "nbformat": 4,
 "nbformat_minor": 5
}
