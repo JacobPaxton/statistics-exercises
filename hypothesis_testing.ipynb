{
 "cells": [
  {
   "cell_type": "markdown",
   "id": "962adb93",
   "metadata": {},
   "source": [
    "# Hypothesis Testing\n",
    "For each of the following questions, formulate a null and alternative hypothesis (be as specific as you can be), then give an example of what a true positive, true negative, type I and type II errors would look like. Note that some of the questions are intentionally phrased in a vague way. It is your job to reword these as more precise questions that could be tested."
   ]
  },
  {
   "cell_type": "markdown",
   "id": "2c58544e",
   "metadata": {},
   "source": [
    "## Has the network latency gone up since we switched internet service providers?\n",
    "**Null Hypothesis:** The network latency has gone down or remained constant since switching providers\n",
    "\n",
    "**Alternative Hypothesis:** The network latency has gone up since switching\n",
    "\n",
    "**True positive:** We reject the null hypothesis, the network latency indeed went up\n",
    "\n",
    "**True negative:** We accept the null hypothesis, the network latency did not go up\n",
    "\n",
    "**Type I Error:** The network latency appeared to go up, but did not.\n",
    "\n",
    "**Type II Error:** The network latency did not appear to go up, but it did.\n"
   ]
  },
  {
   "cell_type": "markdown",
   "id": "eb454b4e",
   "metadata": {},
   "source": [
    "## Is the website redesign any good?\n",
    "**Null Hypothesis:** The website redesign negatively or did not affect customer retention\n",
    "\n",
    "**Alternative Hypothesis:** The website redesign positively impacted customer retention\n",
    "\n",
    "**True positive:** We reject the null hypothesis, The website redesign indeed improved customer retention\n",
    "\n",
    "**True negative:** We accept the null hypothesis, The website redesign did not improve customer retention\n",
    "\n",
    "**Type I Error:** The website redesign appeared to improve customer retention, but did not.\n",
    "\n",
    "**Type II Error:** The website redesign did not appear to improve customer retention, but it did."
   ]
  },
  {
   "cell_type": "markdown",
   "id": "0adee004",
   "metadata": {},
   "source": [
    "## Is our television ad driving more sales?\n",
    "**Null Hypothesis:** Our ad is not driving or not affecting sales\n",
    "\n",
    "**Alternative Hypothesis:** Our ad is driving more sales\n",
    "\n",
    "**True positive:** We reject the null hypothesis, our ad indeed drove more sales\n",
    "\n",
    "**True negative:** We accept the null hypothesis, our ad did not drive more sales\n",
    "\n",
    "**Type I Error:** Our ad appeared to drive more sales, but did not.\n",
    "\n",
    "**Type II Error:** Our ad did not appear to drive more sales, but did."
   ]
  },
  {
   "cell_type": "markdown",
   "id": "8c8c9064",
   "metadata": {},
   "source": [
    "# T-Test Exercises"
   ]
  },
  {
   "cell_type": "code",
   "execution_count": 1,
   "id": "0c599cd4",
   "metadata": {},
   "outputs": [],
   "source": [
    "from pydataset import data\n",
    "from scipy import stats\n",
    "import numpy as np\n",
    "import pandas as pd\n",
    "import matplotlib.pyplot as plt\n",
    "import seaborn as sns"
   ]
  },
  {
   "cell_type": "markdown",
   "id": "f637a092",
   "metadata": {},
   "source": [
    "## Ace Realty"
   ]
  },
  {
   "cell_type": "markdown",
   "id": "134aa539",
   "metadata": {},
   "source": [
    "Ace Realty wants to determine whether the average time it takes to sell homes is different for its two offices.\n",
    "- A sample of 40 sales from office #1 revealed a mean of 90 days and a standard deviation of 15 days. \n",
    "- A sample of 50 sales from office #2 revealed a mean of 100 days and a standard deviation of 20 days. \n",
    "- Use a .05 level of significance."
   ]
  },
  {
   "cell_type": "markdown",
   "id": "27b00920",
   "metadata": {},
   "source": [
    "$H_0$ = There is no difference in sale time between the two offices.\n",
    "\n",
    "$H_a$ = There is a difference in sale time between the two offices."
   ]
  },
  {
   "cell_type": "code",
   "execution_count": 2,
   "id": "e0820fd8",
   "metadata": {},
   "outputs": [],
   "source": [
    "# Create random values and set alpha\n",
    "office1 = stats.norm(90, 15).rvs(40)\n",
    "office2 = stats.norm(100, 20).rvs(50)\n",
    "alpha = .05"
   ]
  },
  {
   "cell_type": "code",
   "execution_count": 3,
   "id": "433bce3f",
   "metadata": {},
   "outputs": [
    {
     "data": {
      "text/plain": [
       "(array([5., 2., 3., 9., 5., 8., 2., 4., 1., 1.]),\n",
       " array([ 63.12361757,  69.21202539,  75.30043321,  81.38884103,\n",
       "         87.47724885,  93.56565667,  99.65406449, 105.7424723 ,\n",
       "        111.83088012, 117.91928794, 124.00769576]),\n",
       " <BarContainer object of 10 artists>)"
      ]
     },
     "execution_count": 3,
     "metadata": {},
     "output_type": "execute_result"
    },
    {
     "data": {
      "image/png": "[encoded data removed]",
      "text/plain": [
       "<Figure size 432x288 with 1 Axes>"
      ]
     },
     "metadata": {
      "needs_background": "light"
     },
     "output_type": "display_data"
    }
   ],
   "source": [
    "# Plot the distributions.\n",
    "plt.hist(office2)\n",
    "plt.hist(office1)"
   ]
  },
  {
   "cell_type": "code",
   "execution_count": 4,
   "id": "a8bc7e06",
   "metadata": {},
   "outputs": [
    {
     "data": {
      "text/plain": [
       "(193.76097631846977, 245.33300555246606)"
      ]
     },
     "execution_count": 4,
     "metadata": {},
     "output_type": "execute_result"
    }
   ],
   "source": [
    "# Verify: Independent variables, normal distribution, equal variance...\n",
    "office1.var(), office2.var()"
   ]
  },
  {
   "cell_type": "code",
   "execution_count": 5,
   "id": "99551de6",
   "metadata": {},
   "outputs": [
    {
     "data": {
      "text/plain": [
       "(-2.9895582586968756, 0.003632576371980838)"
      ]
     },
     "execution_count": 5,
     "metadata": {},
     "output_type": "execute_result"
    }
   ],
   "source": [
    "# Variance is not equal\n",
    "# Calculate t and p\n",
    "t, p = stats.ttest_ind(office1, office2, equal_var=False)\n",
    "t, p "
   ]
  },
  {
   "cell_type": "code",
   "execution_count": 6,
   "id": "8913264f",
   "metadata": {},
   "outputs": [
    {
     "name": "stdout",
     "output_type": "stream",
     "text": [
      "We reject the null hypothesis\n"
     ]
    }
   ],
   "source": [
    "# Is there a difference in sales time?\n",
    "if p/2 > alpha:\n",
    "    print('We accept the null hypothesis')\n",
    "else:\n",
    "    print('We reject the null hypothesis') "
   ]
  },
  {
   "cell_type": "code",
   "execution_count": 7,
   "id": "8b436fe2",
   "metadata": {},
   "outputs": [
    {
     "data": {
      "text/plain": [
       "MannwhitneyuResult(statistic=640.0, pvalue=0.001755034379047445)"
      ]
     },
     "execution_count": 7,
     "metadata": {},
     "output_type": "execute_result"
    }
   ],
   "source": [
    "# Safe test\n",
    "stats.mannwhitneyu(office1, office2)"
   ]
  },
  {
   "cell_type": "markdown",
   "id": "3f92b7dd",
   "metadata": {},
   "source": [
    "## mpg dataset"
   ]
  },
  {
   "cell_type": "code",
   "execution_count": 8,
   "id": "78406e6b",
   "metadata": {},
   "outputs": [
    {
     "data": {
      "text/html": [
       "<div>\n",
       "<style scoped>\n",
       "    .dataframe tbody tr th:only-of-type {\n",
       "        vertical-align: middle;\n",
       "    }\n",
       "\n",
       "    .dataframe tbody tr th {\n",
       "        vertical-align: top;\n",
       "    }\n",
       "\n",
       "    .dataframe thead th {\n",
       "        text-align: right;\n",
       "    }\n",
       "</style>\n",
       "<table border=\"1\" class=\"dataframe\">\n",
       "  <thead>\n",
       "    <tr style=\"text-align: right;\">\n",
       "      <th></th>\n",
       "      <th>manufacturer</th>\n",
       "      <th>model</th>\n",
       "      <th>displ</th>\n",
       "      <th>year</th>\n",
       "      <th>cyl</th>\n",
       "      <th>trans</th>\n",
       "      <th>drv</th>\n",
       "      <th>cty</th>\n",
       "      <th>hwy</th>\n",
       "      <th>fl</th>\n",
       "      <th>class</th>\n",
       "    </tr>\n",
       "  </thead>\n",
       "  <tbody>\n",
       "    <tr>\n",
       "      <th>1</th>\n",
       "      <td>audi</td>\n",
       "      <td>a4</td>\n",
       "      <td>1.8</td>\n",
       "      <td>1999</td>\n",
       "      <td>4</td>\n",
       "      <td>auto(l5)</td>\n",
       "      <td>f</td>\n",
       "      <td>18</td>\n",
       "      <td>29</td>\n",
       "      <td>p</td>\n",
       "      <td>compact</td>\n",
       "    </tr>\n",
       "    <tr>\n",
       "      <th>2</th>\n",
       "      <td>audi</td>\n",
       "      <td>a4</td>\n",
       "      <td>1.8</td>\n",
       "      <td>1999</td>\n",
       "      <td>4</td>\n",
       "      <td>manual(m5)</td>\n",
       "      <td>f</td>\n",
       "      <td>21</td>\n",
       "      <td>29</td>\n",
       "      <td>p</td>\n",
       "      <td>compact</td>\n",
       "    </tr>\n",
       "    <tr>\n",
       "      <th>3</th>\n",
       "      <td>audi</td>\n",
       "      <td>a4</td>\n",
       "      <td>2.0</td>\n",
       "      <td>2008</td>\n",
       "      <td>4</td>\n",
       "      <td>manual(m6)</td>\n",
       "      <td>f</td>\n",
       "      <td>20</td>\n",
       "      <td>31</td>\n",
       "      <td>p</td>\n",
       "      <td>compact</td>\n",
       "    </tr>\n",
       "    <tr>\n",
       "      <th>4</th>\n",
       "      <td>audi</td>\n",
       "      <td>a4</td>\n",
       "      <td>2.0</td>\n",
       "      <td>2008</td>\n",
       "      <td>4</td>\n",
       "      <td>auto(av)</td>\n",
       "      <td>f</td>\n",
       "      <td>21</td>\n",
       "      <td>30</td>\n",
       "      <td>p</td>\n",
       "      <td>compact</td>\n",
       "    </tr>\n",
       "    <tr>\n",
       "      <th>5</th>\n",
       "      <td>audi</td>\n",
       "      <td>a4</td>\n",
       "      <td>2.8</td>\n",
       "      <td>1999</td>\n",
       "      <td>6</td>\n",
       "      <td>auto(l5)</td>\n",
       "      <td>f</td>\n",
       "      <td>16</td>\n",
       "      <td>26</td>\n",
       "      <td>p</td>\n",
       "      <td>compact</td>\n",
       "    </tr>\n",
       "  </tbody>\n",
       "</table>\n",
       "</div>"
      ],
      "text/plain": [
       "  manufacturer model  displ  year  cyl       trans drv  cty  hwy fl    class\n",
       "1         audi    a4    1.8  1999    4    auto(l5)   f   18   29  p  compact\n",
       "2         audi    a4    1.8  1999    4  manual(m5)   f   21   29  p  compact\n",
       "3         audi    a4    2.0  2008    4  manual(m6)   f   20   31  p  compact\n",
       "4         audi    a4    2.0  2008    4    auto(av)   f   21   30  p  compact\n",
       "5         audi    a4    2.8  1999    6    auto(l5)   f   16   26  p  compact"
      ]
     },
     "execution_count": 8,
     "metadata": {},
     "output_type": "execute_result"
    }
   ],
   "source": [
    "# Load the mpg dataset\n",
    "df = data(\"mpg\")\n",
    "df.head()"
   ]
  },
  {
   "cell_type": "markdown",
   "id": "ac84f7e4",
   "metadata": {},
   "source": [
    "### Is there a difference in fuel-efficiency in cars from 2008 vs 1999?\n",
    "$H_0$ = There is no difference in fuel efficiency for cars made in 1999 and 2008.\n",
    "\n",
    "$H_a$ = There is a difference in fuel efficiency for cars made in 1999 and 2008."
   ]
  },
  {
   "cell_type": "code",
   "execution_count": 9,
   "id": "3c0e5ccb",
   "metadata": {},
   "outputs": [],
   "source": [
    "# Set alpha\n",
    "alpha = .05"
   ]
  },
  {
   "cell_type": "code",
   "execution_count": 10,
   "id": "23ba2357",
   "metadata": {},
   "outputs": [
    {
     "data": {
      "text/plain": [
       "(array([ 5., 12., 24., 17., 16., 20., 16.,  3.,  3.,  1.]),\n",
       " array([ 9. , 10.9, 12.8, 14.7, 16.6, 18.5, 20.4, 22.3, 24.2, 26.1, 28. ]),\n",
       " <BarContainer object of 10 artists>)"
      ]
     },
     "execution_count": 10,
     "metadata": {},
     "output_type": "execute_result"
    },
    {
     "data": {
      "image/png": "[encoded data removed]",
      "text/plain": [
       "<Figure size 432x288 with 1 Axes>"
      ]
     },
     "metadata": {
      "needs_background": "light"
     },
     "output_type": "display_data"
    }
   ],
   "source": [
    "# Plot the distributions\n",
    "plt.hist(df[df.year == 1999].cty)\n",
    "plt.hist(df[df.year == 2008].cty)"
   ]
  },
  {
   "cell_type": "code",
   "execution_count": 11,
   "id": "67cf09a8",
   "metadata": {},
   "outputs": [
    {
     "data": {
      "text/plain": [
       "(19.879015620394938, 16.452844090775127)"
      ]
     },
     "execution_count": 11,
     "metadata": {},
     "output_type": "execute_result"
    }
   ],
   "source": [
    "# Verify assumptions: Normal-ish distribution, Independent variables, equal variance...\n",
    "df[df.year == 1999].cty.var(), df[df.year == 2008].cty.var()"
   ]
  },
  {
   "cell_type": "code",
   "execution_count": 12,
   "id": "279f0188",
   "metadata": {},
   "outputs": [
    {
     "data": {
      "text/plain": [
       "(0.5674988409997608, 0.5709240495406107)"
      ]
     },
     "execution_count": 12,
     "metadata": {},
     "output_type": "execute_result"
    }
   ],
   "source": [
    "# Compute t and p\n",
    "t, p = stats.ttest_ind(df[df.year == 1999].cty, df[df.year == 2008].cty)\n",
    "t, p"
   ]
  },
  {
   "cell_type": "code",
   "execution_count": 13,
   "id": "cc1d6b47",
   "metadata": {},
   "outputs": [
    {
     "name": "stdout",
     "output_type": "stream",
     "text": [
      "We accept the null hypothesis\n"
     ]
    }
   ],
   "source": [
    "# Is there a difference in fuel efficiency?\n",
    "if p/2 > alpha:\n",
    "    print('We accept the null hypothesis')\n",
    "else:\n",
    "    print('We reject the null hypothesis') "
   ]
  },
  {
   "cell_type": "code",
   "execution_count": 14,
   "id": "bb2c7494",
   "metadata": {},
   "outputs": [
    {
     "data": {
      "text/plain": [
       "MannwhitneyuResult(statistic=6790.5, pvalue=0.45870813783633435)"
      ]
     },
     "execution_count": 14,
     "metadata": {},
     "output_type": "execute_result"
    }
   ],
   "source": [
    "# Safe test\n",
    "stats.mannwhitneyu(df[df.year == 1999].cty, df[df.year == 2008].cty)"
   ]
  },
  {
   "cell_type": "markdown",
   "id": "3feb3483",
   "metadata": {},
   "source": [
    "### Are compact cars more fuel-efficient than the average car?\n",
    "$H_0$ = Compact cars are not more fuel efficient than the average car.\n",
    "\n",
    "$H_a$ = Compact cars are more fuel efficient than the average car."
   ]
  },
  {
   "cell_type": "code",
   "execution_count": 15,
   "id": "db1d6880",
   "metadata": {},
   "outputs": [],
   "source": [
    "# Set alpha\n",
    "alpha = .05"
   ]
  },
  {
   "cell_type": "code",
   "execution_count": 16,
   "id": "e21b100e",
   "metadata": {},
   "outputs": [
    {
     "data": {
      "text/plain": [
       "(array([ 5., 11., 10., 15.,  0.,  2.,  2.,  1.,  0.,  1.]),\n",
       " array([15. , 16.8, 18.6, 20.4, 22.2, 24. , 25.8, 27.6, 29.4, 31.2, 33. ]),\n",
       " <BarContainer object of 10 artists>)"
      ]
     },
     "execution_count": 16,
     "metadata": {},
     "output_type": "execute_result"
    },
    {
     "data": {
      "image/png": "[encoded data removed]",
      "text/plain": [
       "<Figure size 432x288 with 1 Axes>"
      ]
     },
     "metadata": {
      "needs_background": "light"
     },
     "output_type": "display_data"
    }
   ],
   "source": [
    "# Plot the distributions\n",
    "plt.hist(df.cty)\n",
    "plt.hist(df[df['class'] == 'compact'].cty)"
   ]
  },
  {
   "cell_type": "code",
   "execution_count": 17,
   "id": "216a5801",
   "metadata": {},
   "outputs": [
    {
     "data": {
      "text/plain": [
       "(11.46160962072155, 18.1130736216573)"
      ]
     },
     "execution_count": 17,
     "metadata": {},
     "output_type": "execute_result"
    }
   ],
   "source": [
    "# Establish hypothesis: H_0 = No, H_a = Yes\n",
    "# Set alpha: alpha = .05\n",
    "# Verify assumptions: Normal-ish distribution\n",
    "df[df['class'] == 'compact'].cty.var(), df.cty.var()"
   ]
  },
  {
   "cell_type": "code",
   "execution_count": 18,
   "id": "86f01040",
   "metadata": {},
   "outputs": [
    {
     "data": {
      "text/plain": [
       "(6.6191042534408915, 3.4017448216394005e-08)"
      ]
     },
     "execution_count": 18,
     "metadata": {},
     "output_type": "execute_result"
    }
   ],
   "source": [
    "# Compute t and p\n",
    "t, p = stats.ttest_1samp(df[df['class'] == 'compact'].cty, df.cty.mean())\n",
    "t, p"
   ]
  },
  {
   "cell_type": "code",
   "execution_count": 19,
   "id": "8e04a212",
   "metadata": {},
   "outputs": [
    {
     "name": "stdout",
     "output_type": "stream",
     "text": [
      "We reject the null hypothesis\n"
     ]
    }
   ],
   "source": [
    "# Are compact cars more fuel efficient?\n",
    "if t > 0 and p < 0.05:\n",
    "    print('We reject the null hypothesis')\n",
    "else:\n",
    "    print('We accept the null hypothesis')"
   ]
  },
  {
   "cell_type": "markdown",
   "id": "a057cd8c",
   "metadata": {},
   "source": [
    "### Do manual cars get better gas mileage than automatic cars?\n",
    "$H_0$ = Manual cars do not get better gas mileage than automatic cars.\n",
    "\n",
    "$H_a$ = Manual cars get better gas mileage than automatic cars."
   ]
  },
  {
   "cell_type": "code",
   "execution_count": 20,
   "id": "35cbf2d6",
   "metadata": {},
   "outputs": [],
   "source": [
    "# Set alpha\n",
    "alpha = .05"
   ]
  },
  {
   "cell_type": "code",
   "execution_count": 21,
   "id": "d53a7c64",
   "metadata": {},
   "outputs": [
    {
     "data": {
      "text/plain": [
       "<AxesSubplot:>"
      ]
     },
     "execution_count": 21,
     "metadata": {},
     "output_type": "execute_result"
    },
    {
     "data": {
      "image/png": "[encoded data removed]",
      "text/plain": [
       "<Figure size 432x288 with 1 Axes>"
      ]
     },
     "metadata": {
      "needs_background": "light"
     },
     "output_type": "display_data"
    }
   ],
   "source": [
    "# Plot the distributions\n",
    "df[df.trans.str.startswith('auto')].cty.hist()\n",
    "df[df.trans.str.startswith('manual')].cty.hist()"
   ]
  },
  {
   "cell_type": "code",
   "execution_count": 22,
   "id": "32a5794c",
   "metadata": {},
   "outputs": [
    {
     "data": {
      "text/plain": [
       "(14.81308182263596, 20.14319890635681)"
      ]
     },
     "execution_count": 22,
     "metadata": {},
     "output_type": "execute_result"
    }
   ],
   "source": [
    "# Null: H_0 = No, H_a = Yes\n",
    "# alpha = .05\n",
    "# Verify: Independent variables, normal distribution, equal variance...\n",
    "df[df.trans.str.startswith('auto')].cty.var(), df[df.trans.str.startswith('manual')].cty.var()"
   ]
  },
  {
   "cell_type": "code",
   "execution_count": 23,
   "id": "e0ebf30e",
   "metadata": {},
   "outputs": [
    {
     "data": {
      "text/plain": [
       "(4.781718413818975, 3.088973514167085e-06)"
      ]
     },
     "execution_count": 23,
     "metadata": {},
     "output_type": "execute_result"
    }
   ],
   "source": [
    "# Calculate t and p\n",
    "t, p = stats.ttest_ind(df[df.trans.str.startswith('manual')].cty, df[df.trans.str.startswith('auto')].cty)\n",
    "t, p"
   ]
  },
  {
   "cell_type": "code",
   "execution_count": 24,
   "id": "ba7311c4",
   "metadata": {},
   "outputs": [
    {
     "name": "stdout",
     "output_type": "stream",
     "text": [
      "We reject the null hypothesis\n"
     ]
    }
   ],
   "source": [
    "# Do manual cars get better gas mileage than automatic cars?\n",
    "if t > 0 and p < 0.05:\n",
    "    print('We reject the null hypothesis')\n",
    "else:\n",
    "    print('We accept the null hypothesis')"
   ]
  },
  {
   "cell_type": "code",
   "execution_count": 25,
   "id": "7cba781a",
   "metadata": {},
   "outputs": [
    {
     "data": {
      "text/plain": [
       "MannwhitneyuResult(statistic=3814.5, pvalue=2.1320221166439075e-06)"
      ]
     },
     "execution_count": 25,
     "metadata": {},
     "output_type": "execute_result"
    }
   ],
   "source": [
    "# Safe test\n",
    "stats.mannwhitneyu(df[df.trans.str.startswith('manual')].cty, df[df.trans.str.startswith('auto')].cty)"
   ]
  },
  {
   "cell_type": "markdown",
   "id": "be900eb3",
   "metadata": {},
   "source": [
    "# Correlations Exercises"
   ]
  },
  {
   "cell_type": "markdown",
   "id": "3c495cad",
   "metadata": {},
   "source": [
    "## telco_churn data"
   ]
  },
  {
   "cell_type": "code",
   "execution_count": 26,
   "id": "1cd14a38",
   "metadata": {},
   "outputs": [
    {
     "data": {
      "text/html": [
       "<div>\n",
       "<style scoped>\n",
       "    .dataframe tbody tr th:only-of-type {\n",
       "        vertical-align: middle;\n",
       "    }\n",
       "\n",
       "    .dataframe tbody tr th {\n",
       "        vertical-align: top;\n",
       "    }\n",
       "\n",
       "    .dataframe thead th {\n",
       "        text-align: right;\n",
       "    }\n",
       "</style>\n",
       "<table border=\"1\" class=\"dataframe\">\n",
       "  <thead>\n",
       "    <tr style=\"text-align: right;\">\n",
       "      <th></th>\n",
       "      <th>customerID</th>\n",
       "      <th>gender</th>\n",
       "      <th>SeniorCitizen</th>\n",
       "      <th>Partner</th>\n",
       "      <th>Dependents</th>\n",
       "      <th>tenure</th>\n",
       "      <th>PhoneService</th>\n",
       "      <th>MultipleLines</th>\n",
       "      <th>InternetService</th>\n",
       "      <th>OnlineSecurity</th>\n",
       "      <th>...</th>\n",
       "      <th>DeviceProtection</th>\n",
       "      <th>TechSupport</th>\n",
       "      <th>StreamingTV</th>\n",
       "      <th>StreamingMovies</th>\n",
       "      <th>Contract</th>\n",
       "      <th>PaperlessBilling</th>\n",
       "      <th>PaymentMethod</th>\n",
       "      <th>MonthlyCharges</th>\n",
       "      <th>TotalCharges</th>\n",
       "      <th>Churn</th>\n",
       "    </tr>\n",
       "  </thead>\n",
       "  <tbody>\n",
       "    <tr>\n",
       "      <th>0</th>\n",
       "      <td>7590-VHVEG</td>\n",
       "      <td>Female</td>\n",
       "      <td>0</td>\n",
       "      <td>Yes</td>\n",
       "      <td>No</td>\n",
       "      <td>1</td>\n",
       "      <td>No</td>\n",
       "      <td>No phone service</td>\n",
       "      <td>DSL</td>\n",
       "      <td>No</td>\n",
       "      <td>...</td>\n",
       "      <td>No</td>\n",
       "      <td>No</td>\n",
       "      <td>No</td>\n",
       "      <td>No</td>\n",
       "      <td>Month-to-month</td>\n",
       "      <td>Yes</td>\n",
       "      <td>Electronic check</td>\n",
       "      <td>29.85</td>\n",
       "      <td>29.85</td>\n",
       "      <td>No</td>\n",
       "    </tr>\n",
       "    <tr>\n",
       "      <th>1</th>\n",
       "      <td>5575-GNVDE</td>\n",
       "      <td>Male</td>\n",
       "      <td>0</td>\n",
       "      <td>No</td>\n",
       "      <td>No</td>\n",
       "      <td>34</td>\n",
       "      <td>Yes</td>\n",
       "      <td>No</td>\n",
       "      <td>DSL</td>\n",
       "      <td>Yes</td>\n",
       "      <td>...</td>\n",
       "      <td>Yes</td>\n",
       "      <td>No</td>\n",
       "      <td>No</td>\n",
       "      <td>No</td>\n",
       "      <td>One year</td>\n",
       "      <td>No</td>\n",
       "      <td>Mailed check</td>\n",
       "      <td>56.95</td>\n",
       "      <td>1889.50</td>\n",
       "      <td>No</td>\n",
       "    </tr>\n",
       "    <tr>\n",
       "      <th>2</th>\n",
       "      <td>3668-QPYBK</td>\n",
       "      <td>Male</td>\n",
       "      <td>0</td>\n",
       "      <td>No</td>\n",
       "      <td>No</td>\n",
       "      <td>2</td>\n",
       "      <td>Yes</td>\n",
       "      <td>No</td>\n",
       "      <td>DSL</td>\n",
       "      <td>Yes</td>\n",
       "      <td>...</td>\n",
       "      <td>No</td>\n",
       "      <td>No</td>\n",
       "      <td>No</td>\n",
       "      <td>No</td>\n",
       "      <td>Month-to-month</td>\n",
       "      <td>Yes</td>\n",
       "      <td>Mailed check</td>\n",
       "      <td>53.85</td>\n",
       "      <td>108.15</td>\n",
       "      <td>Yes</td>\n",
       "    </tr>\n",
       "    <tr>\n",
       "      <th>3</th>\n",
       "      <td>7795-CFOCW</td>\n",
       "      <td>Male</td>\n",
       "      <td>0</td>\n",
       "      <td>No</td>\n",
       "      <td>No</td>\n",
       "      <td>45</td>\n",
       "      <td>No</td>\n",
       "      <td>No phone service</td>\n",
       "      <td>DSL</td>\n",
       "      <td>Yes</td>\n",
       "      <td>...</td>\n",
       "      <td>Yes</td>\n",
       "      <td>Yes</td>\n",
       "      <td>No</td>\n",
       "      <td>No</td>\n",
       "      <td>One year</td>\n",
       "      <td>No</td>\n",
       "      <td>Bank transfer (automatic)</td>\n",
       "      <td>42.30</td>\n",
       "      <td>1840.75</td>\n",
       "      <td>No</td>\n",
       "    </tr>\n",
       "    <tr>\n",
       "      <th>4</th>\n",
       "      <td>9237-HQITU</td>\n",
       "      <td>Female</td>\n",
       "      <td>0</td>\n",
       "      <td>No</td>\n",
       "      <td>No</td>\n",
       "      <td>2</td>\n",
       "      <td>Yes</td>\n",
       "      <td>No</td>\n",
       "      <td>Fiber optic</td>\n",
       "      <td>No</td>\n",
       "      <td>...</td>\n",
       "      <td>No</td>\n",
       "      <td>No</td>\n",
       "      <td>No</td>\n",
       "      <td>No</td>\n",
       "      <td>Month-to-month</td>\n",
       "      <td>Yes</td>\n",
       "      <td>Electronic check</td>\n",
       "      <td>70.70</td>\n",
       "      <td>151.65</td>\n",
       "      <td>Yes</td>\n",
       "    </tr>\n",
       "  </tbody>\n",
       "</table>\n",
       "<p>5 rows × 21 columns</p>\n",
       "</div>"
      ],
      "text/plain": [
       "   customerID  gender  SeniorCitizen Partner Dependents  tenure PhoneService  \\\n",
       "0  7590-VHVEG  Female              0     Yes         No       1           No   \n",
       "1  5575-GNVDE    Male              0      No         No      34          Yes   \n",
       "2  3668-QPYBK    Male              0      No         No       2          Yes   \n",
       "3  7795-CFOCW    Male              0      No         No      45           No   \n",
       "4  9237-HQITU  Female              0      No         No       2          Yes   \n",
       "\n",
       "      MultipleLines InternetService OnlineSecurity  ... DeviceProtection  \\\n",
       "0  No phone service             DSL             No  ...               No   \n",
       "1                No             DSL            Yes  ...              Yes   \n",
       "2                No             DSL            Yes  ...               No   \n",
       "3  No phone service             DSL            Yes  ...              Yes   \n",
       "4                No     Fiber optic             No  ...               No   \n",
       "\n",
       "  TechSupport StreamingTV StreamingMovies        Contract PaperlessBilling  \\\n",
       "0          No          No              No  Month-to-month              Yes   \n",
       "1          No          No              No        One year               No   \n",
       "2          No          No              No  Month-to-month              Yes   \n",
       "3         Yes          No              No        One year               No   \n",
       "4          No          No              No  Month-to-month              Yes   \n",
       "\n",
       "               PaymentMethod MonthlyCharges  TotalCharges  Churn  \n",
       "0           Electronic check          29.85         29.85     No  \n",
       "1               Mailed check          56.95       1889.50     No  \n",
       "2               Mailed check          53.85        108.15    Yes  \n",
       "3  Bank transfer (automatic)          42.30       1840.75     No  \n",
       "4           Electronic check          70.70        151.65    Yes  \n",
       "\n",
       "[5 rows x 21 columns]"
      ]
     },
     "execution_count": 26,
     "metadata": {},
     "output_type": "execute_result"
    }
   ],
   "source": [
    "df = pd.read_csv('Cust_Churn_Telco.csv')\n",
    "df.head()"
   ]
  },
  {
   "cell_type": "markdown",
   "id": "0355f5de",
   "metadata": {},
   "source": [
    "### Does tenure correlate with monthly charges?"
   ]
  },
  {
   "cell_type": "code",
   "execution_count": 27,
   "id": "2dedf86f",
   "metadata": {},
   "outputs": [
    {
     "data": {
      "text/plain": [
       "(0.2478998562861525, 4.094044991483017e-99)"
      ]
     },
     "execution_count": 27,
     "metadata": {},
     "output_type": "execute_result"
    }
   ],
   "source": [
    "corr, p = stats.pearsonr(df.tenure, df.MonthlyCharges)\n",
    "corr, p"
   ]
  },
  {
   "cell_type": "code",
   "execution_count": 28,
   "id": "37ed6741",
   "metadata": {},
   "outputs": [
    {
     "data": {
      "text/plain": [
       "True"
      ]
     },
     "execution_count": 28,
     "metadata": {},
     "output_type": "execute_result"
    }
   ],
   "source": [
    "p < .05"
   ]
  },
  {
   "cell_type": "markdown",
   "id": "8a54c4ec",
   "metadata": {},
   "source": [
    "### Total charges?"
   ]
  },
  {
   "cell_type": "code",
   "execution_count": 29,
   "id": "bb9a896b",
   "metadata": {},
   "outputs": [
    {
     "data": {
      "text/plain": [
       "(0.8258804609332093, 0.0)"
      ]
     },
     "execution_count": 29,
     "metadata": {},
     "output_type": "execute_result"
    }
   ],
   "source": [
    "corr, p = stats.pearsonr(df[df.TotalCharges > 0].tenure, df[df.TotalCharges > 0].TotalCharges)\n",
    "corr, p"
   ]
  },
  {
   "cell_type": "code",
   "execution_count": 30,
   "id": "74203b7c",
   "metadata": {},
   "outputs": [
    {
     "data": {
      "text/plain": [
       "True"
      ]
     },
     "execution_count": 30,
     "metadata": {},
     "output_type": "execute_result"
    }
   ],
   "source": [
    "p < .05"
   ]
  },
  {
   "cell_type": "markdown",
   "id": "2d178e55",
   "metadata": {},
   "source": [
    "### What happens if you control for phone and internet service?"
   ]
  },
  {
   "cell_type": "markdown",
   "id": "cdab6568",
   "metadata": {},
   "source": [
    "#### With phone service"
   ]
  },
  {
   "cell_type": "code",
   "execution_count": 31,
   "id": "cd17f0c7",
   "metadata": {},
   "outputs": [
    {
     "data": {
      "text/plain": [
       "(0.2453889858536324, 7.117871077925186e-88)"
      ]
     },
     "execution_count": 31,
     "metadata": {},
     "output_type": "execute_result"
    }
   ],
   "source": [
    "corr, p = stats.pearsonr(df[df.PhoneService == 'Yes'].tenure, df[df.PhoneService == 'Yes'].MonthlyCharges)\n",
    "corr, p"
   ]
  },
  {
   "cell_type": "code",
   "execution_count": 32,
   "id": "9d635728",
   "metadata": {},
   "outputs": [
    {
     "data": {
      "text/plain": [
       "True"
      ]
     },
     "execution_count": 32,
     "metadata": {},
     "output_type": "execute_result"
    }
   ],
   "source": [
    "p < .05"
   ]
  },
  {
   "cell_type": "markdown",
   "id": "14db65ee",
   "metadata": {},
   "source": [
    "#### Without phone service"
   ]
  },
  {
   "cell_type": "code",
   "execution_count": 33,
   "id": "cb14c37a",
   "metadata": {},
   "outputs": [
    {
     "data": {
      "text/plain": [
       "True"
      ]
     },
     "execution_count": 33,
     "metadata": {},
     "output_type": "execute_result"
    }
   ],
   "source": [
    "corr, p = stats.pearsonr(df[df.PhoneService == 'No'].tenure, df[df.PhoneService == 'No'].MonthlyCharges)\n",
    "p < .05"
   ]
  },
  {
   "cell_type": "markdown",
   "id": "98fdf730",
   "metadata": {},
   "source": [
    "#### DSL"
   ]
  },
  {
   "cell_type": "code",
   "execution_count": 34,
   "id": "3ec8ed3f",
   "metadata": {},
   "outputs": [
    {
     "data": {
      "text/plain": [
       "True"
      ]
     },
     "execution_count": 34,
     "metadata": {},
     "output_type": "execute_result"
    }
   ],
   "source": [
    "corr, p = stats.pearsonr(df[df.InternetService == 'DSL'].tenure, df[df.InternetService == 'DSL'].MonthlyCharges)\n",
    "p < .05"
   ]
  },
  {
   "cell_type": "markdown",
   "id": "f246f0be",
   "metadata": {},
   "source": [
    "#### Fiber Optic"
   ]
  },
  {
   "cell_type": "code",
   "execution_count": 35,
   "id": "e5176cf1",
   "metadata": {},
   "outputs": [
    {
     "data": {
      "text/plain": [
       "True"
      ]
     },
     "execution_count": 35,
     "metadata": {},
     "output_type": "execute_result"
    }
   ],
   "source": [
    "corr, p = stats.pearsonr(df[df.InternetService == 'Fiber optic'].tenure, df[df.InternetService == 'Fiber optic'].MonthlyCharges)\n",
    "p < .05"
   ]
  },
  {
   "cell_type": "markdown",
   "id": "0e031e56",
   "metadata": {},
   "source": [
    "#### Without internet service"
   ]
  },
  {
   "cell_type": "code",
   "execution_count": 36,
   "id": "b8e54d0f",
   "metadata": {},
   "outputs": [
    {
     "data": {
      "text/plain": [
       "array(['DSL', 'Fiber optic', 'No'], dtype=object)"
      ]
     },
     "execution_count": 36,
     "metadata": {},
     "output_type": "execute_result"
    }
   ],
   "source": [
    "df.InternetService.unique()"
   ]
  },
  {
   "cell_type": "code",
   "execution_count": 37,
   "id": "794cb248",
   "metadata": {},
   "outputs": [
    {
     "data": {
      "text/plain": [
       "True"
      ]
     },
     "execution_count": 37,
     "metadata": {},
     "output_type": "execute_result"
    }
   ],
   "source": [
    "corr, p = stats.pearsonr(df[df.InternetService == 'No'].tenure, df[df.InternetService == 'No'].MonthlyCharges)\n",
    "p < .05"
   ]
  },
  {
   "cell_type": "markdown",
   "id": "7f07c7af",
   "metadata": {},
   "source": [
    "## employees database"
   ]
  },
  {
   "cell_type": "code",
   "execution_count": 38,
   "id": "fd32be84",
   "metadata": {},
   "outputs": [],
   "source": [
    "import env\n",
    "url = env.get_db_url('employees', )"
   ]
  },
  {
   "cell_type": "markdown",
   "id": "20f6d3b3",
   "metadata": {},
   "source": [
    "### Is there a relationship between how long an employee has been with the company and their salary?\n",
    "$H_0$ = There is not a relationship between tenure and salary.\n",
    "\n",
    "$H_a$ = There is a relationship between tenure and salary."
   ]
  },
  {
   "cell_type": "code",
   "execution_count": 39,
   "id": "25950ff8",
   "metadata": {},
   "outputs": [
    {
     "data": {
      "text/html": [
       "<div>\n",
       "<style scoped>\n",
       "    .dataframe tbody tr th:only-of-type {\n",
       "        vertical-align: middle;\n",
       "    }\n",
       "\n",
       "    .dataframe tbody tr th {\n",
       "        vertical-align: top;\n",
       "    }\n",
       "\n",
       "    .dataframe thead th {\n",
       "        text-align: right;\n",
       "    }\n",
       "</style>\n",
       "<table border=\"1\" class=\"dataframe\">\n",
       "  <thead>\n",
       "    <tr style=\"text-align: right;\">\n",
       "      <th></th>\n",
       "      <th>emp_no</th>\n",
       "      <th>tenure</th>\n",
       "      <th>max_salary</th>\n",
       "    </tr>\n",
       "  </thead>\n",
       "  <tbody>\n",
       "    <tr>\n",
       "      <th>0</th>\n",
       "      <td>10001</td>\n",
       "      <td>5840.0</td>\n",
       "      <td>85112</td>\n",
       "    </tr>\n",
       "    <tr>\n",
       "      <th>1</th>\n",
       "      <td>10002</td>\n",
       "      <td>1825.0</td>\n",
       "      <td>71963</td>\n",
       "    </tr>\n",
       "    <tr>\n",
       "      <th>2</th>\n",
       "      <td>10003</td>\n",
       "      <td>2190.0</td>\n",
       "      <td>43699</td>\n",
       "    </tr>\n",
       "    <tr>\n",
       "      <th>3</th>\n",
       "      <td>10004</td>\n",
       "      <td>5475.0</td>\n",
       "      <td>70698</td>\n",
       "    </tr>\n",
       "    <tr>\n",
       "      <th>4</th>\n",
       "      <td>10005</td>\n",
       "      <td>4380.0</td>\n",
       "      <td>91453</td>\n",
       "    </tr>\n",
       "  </tbody>\n",
       "</table>\n",
       "</div>"
      ],
      "text/plain": [
       "   emp_no  tenure  max_salary\n",
       "0   10001  5840.0       85112\n",
       "1   10002  1825.0       71963\n",
       "2   10003  2190.0       43699\n",
       "3   10004  5475.0       70698\n",
       "4   10005  4380.0       91453"
      ]
     },
     "execution_count": 39,
     "metadata": {},
     "output_type": "execute_result"
    }
   ],
   "source": [
    "# Create dataframe with tenure and max salary of each employee\n",
    "sql =   \"\"\"\n",
    "            SELECT emp_no, \n",
    "                SUM(datediff(to_date, from_date)) as tenure, \n",
    "                MAX(salary) as max_salary\n",
    "            FROM salaries\n",
    "            WHERE to_date < curdate()\n",
    "            GROUP BY emp_no;\n",
    "        \"\"\"\n",
    "df = pd.read_sql(sql, url)\n",
    "df.head()"
   ]
  },
  {
   "cell_type": "code",
   "execution_count": 40,
   "id": "e5923007",
   "metadata": {},
   "outputs": [],
   "source": [
    "# Set alpha\n",
    "alpha = .05"
   ]
  },
  {
   "cell_type": "code",
   "execution_count": 41,
   "id": "d1cccc61",
   "metadata": {},
   "outputs": [
    {
     "data": {
      "text/plain": [
       "(0.5236371831581195, 0.0)"
      ]
     },
     "execution_count": 41,
     "metadata": {},
     "output_type": "execute_result"
    }
   ],
   "source": [
    "# Calculate correlation and p-value\n",
    "corr, p = stats.pearsonr(df.tenure, df.max_salary)\n",
    "corr, p"
   ]
  },
  {
   "cell_type": "code",
   "execution_count": 42,
   "id": "45e886ba",
   "metadata": {},
   "outputs": [
    {
     "name": "stdout",
     "output_type": "stream",
     "text": [
      "We reject the null hypothesis\n"
     ]
    }
   ],
   "source": [
    "# Is there a relationship?\n",
    "if p > alpha:\n",
    "    print('We accept the null hypothesis')\n",
    "else:\n",
    "    print('We reject the null hypothesis')"
   ]
  },
  {
   "cell_type": "markdown",
   "id": "5cdce75d",
   "metadata": {},
   "source": [
    "### Is there a relationship between how long an employee has been with the company and the number of titles they have had?\n",
    "$H_0$ = There is not a relationship between tenure and number of titles.\n",
    "\n",
    "$H_a$ = There is a relationship between tenure and number of titles."
   ]
  },
  {
   "cell_type": "code",
   "execution_count": 43,
   "id": "264e1611",
   "metadata": {},
   "outputs": [
    {
     "data": {
      "text/html": [
       "<div>\n",
       "<style scoped>\n",
       "    .dataframe tbody tr th:only-of-type {\n",
       "        vertical-align: middle;\n",
       "    }\n",
       "\n",
       "    .dataframe tbody tr th {\n",
       "        vertical-align: top;\n",
       "    }\n",
       "\n",
       "    .dataframe thead th {\n",
       "        text-align: right;\n",
       "    }\n",
       "</style>\n",
       "<table border=\"1\" class=\"dataframe\">\n",
       "  <thead>\n",
       "    <tr style=\"text-align: right;\">\n",
       "      <th></th>\n",
       "      <th>emp_no</th>\n",
       "      <th>titles</th>\n",
       "    </tr>\n",
       "  </thead>\n",
       "  <tbody>\n",
       "    <tr>\n",
       "      <th>0</th>\n",
       "      <td>10001</td>\n",
       "      <td>1</td>\n",
       "    </tr>\n",
       "    <tr>\n",
       "      <th>1</th>\n",
       "      <td>10002</td>\n",
       "      <td>1</td>\n",
       "    </tr>\n",
       "    <tr>\n",
       "      <th>2</th>\n",
       "      <td>10003</td>\n",
       "      <td>1</td>\n",
       "    </tr>\n",
       "    <tr>\n",
       "      <th>3</th>\n",
       "      <td>10004</td>\n",
       "      <td>2</td>\n",
       "    </tr>\n",
       "    <tr>\n",
       "      <th>4</th>\n",
       "      <td>10005</td>\n",
       "      <td>2</td>\n",
       "    </tr>\n",
       "    <tr>\n",
       "      <th>5</th>\n",
       "      <td>10006</td>\n",
       "      <td>1</td>\n",
       "    </tr>\n",
       "    <tr>\n",
       "      <th>6</th>\n",
       "      <td>10007</td>\n",
       "      <td>2</td>\n",
       "    </tr>\n",
       "    <tr>\n",
       "      <th>7</th>\n",
       "      <td>10008</td>\n",
       "      <td>1</td>\n",
       "    </tr>\n",
       "    <tr>\n",
       "      <th>8</th>\n",
       "      <td>10009</td>\n",
       "      <td>3</td>\n",
       "    </tr>\n",
       "    <tr>\n",
       "      <th>9</th>\n",
       "      <td>10010</td>\n",
       "      <td>1</td>\n",
       "    </tr>\n",
       "  </tbody>\n",
       "</table>\n",
       "</div>"
      ],
      "text/plain": [
       "   emp_no  titles\n",
       "0   10001       1\n",
       "1   10002       1\n",
       "2   10003       1\n",
       "3   10004       2\n",
       "4   10005       2\n",
       "5   10006       1\n",
       "6   10007       2\n",
       "7   10008       1\n",
       "8   10009       3\n",
       "9   10010       1"
      ]
     },
     "execution_count": 43,
     "metadata": {},
     "output_type": "execute_result"
    }
   ],
   "source": [
    "# Grab tenure and title count\n",
    "sql =   \"\"\"\n",
    "            SELECT emp_no, COUNT(title) as titles\n",
    "            FROM titles\n",
    "            GROUP BY emp_no;\n",
    "        \"\"\"\n",
    "df2 = pd.read_sql(sql, url)\n",
    "df2.head(10)"
   ]
  },
  {
   "cell_type": "code",
   "execution_count": 44,
   "id": "4e02547a",
   "metadata": {},
   "outputs": [
    {
     "data": {
      "text/html": [
       "<div>\n",
       "<style scoped>\n",
       "    .dataframe tbody tr th:only-of-type {\n",
       "        vertical-align: middle;\n",
       "    }\n",
       "\n",
       "    .dataframe tbody tr th {\n",
       "        vertical-align: top;\n",
       "    }\n",
       "\n",
       "    .dataframe thead th {\n",
       "        text-align: right;\n",
       "    }\n",
       "</style>\n",
       "<table border=\"1\" class=\"dataframe\">\n",
       "  <thead>\n",
       "    <tr style=\"text-align: right;\">\n",
       "      <th></th>\n",
       "      <th>emp_no</th>\n",
       "      <th>tenure</th>\n",
       "      <th>max_salary</th>\n",
       "      <th>titles</th>\n",
       "    </tr>\n",
       "  </thead>\n",
       "  <tbody>\n",
       "    <tr>\n",
       "      <th>0</th>\n",
       "      <td>10001</td>\n",
       "      <td>5840.0</td>\n",
       "      <td>85112</td>\n",
       "      <td>1</td>\n",
       "    </tr>\n",
       "    <tr>\n",
       "      <th>1</th>\n",
       "      <td>10002</td>\n",
       "      <td>1825.0</td>\n",
       "      <td>71963</td>\n",
       "      <td>1</td>\n",
       "    </tr>\n",
       "    <tr>\n",
       "      <th>2</th>\n",
       "      <td>10003</td>\n",
       "      <td>2190.0</td>\n",
       "      <td>43699</td>\n",
       "      <td>1</td>\n",
       "    </tr>\n",
       "    <tr>\n",
       "      <th>3</th>\n",
       "      <td>10004</td>\n",
       "      <td>5475.0</td>\n",
       "      <td>70698</td>\n",
       "      <td>2</td>\n",
       "    </tr>\n",
       "    <tr>\n",
       "      <th>4</th>\n",
       "      <td>10005</td>\n",
       "      <td>4380.0</td>\n",
       "      <td>91453</td>\n",
       "      <td>2</td>\n",
       "    </tr>\n",
       "    <tr>\n",
       "      <th>5</th>\n",
       "      <td>10006</td>\n",
       "      <td>4015.0</td>\n",
       "      <td>60098</td>\n",
       "      <td>1</td>\n",
       "    </tr>\n",
       "    <tr>\n",
       "      <th>6</th>\n",
       "      <td>10007</td>\n",
       "      <td>4745.0</td>\n",
       "      <td>84456</td>\n",
       "      <td>2</td>\n",
       "    </tr>\n",
       "    <tr>\n",
       "      <th>7</th>\n",
       "      <td>10008</td>\n",
       "      <td>873.0</td>\n",
       "      <td>52668</td>\n",
       "      <td>1</td>\n",
       "    </tr>\n",
       "    <tr>\n",
       "      <th>8</th>\n",
       "      <td>10009</td>\n",
       "      <td>6205.0</td>\n",
       "      <td>94443</td>\n",
       "      <td>3</td>\n",
       "    </tr>\n",
       "    <tr>\n",
       "      <th>9</th>\n",
       "      <td>10010</td>\n",
       "      <td>1825.0</td>\n",
       "      <td>79580</td>\n",
       "      <td>1</td>\n",
       "    </tr>\n",
       "  </tbody>\n",
       "</table>\n",
       "</div>"
      ],
      "text/plain": [
       "   emp_no  tenure  max_salary  titles\n",
       "0   10001  5840.0       85112       1\n",
       "1   10002  1825.0       71963       1\n",
       "2   10003  2190.0       43699       1\n",
       "3   10004  5475.0       70698       2\n",
       "4   10005  4380.0       91453       2\n",
       "5   10006  4015.0       60098       1\n",
       "6   10007  4745.0       84456       2\n",
       "7   10008   873.0       52668       1\n",
       "8   10009  6205.0       94443       3\n",
       "9   10010  1825.0       79580       1"
      ]
     },
     "execution_count": 44,
     "metadata": {},
     "output_type": "execute_result"
    }
   ],
   "source": [
    "# Merge this query with previous dataframe\n",
    "df = df.merge(df2, on='emp_no')\n",
    "df.head(10)"
   ]
  },
  {
   "cell_type": "code",
   "execution_count": 45,
   "id": "b27ae164",
   "metadata": {},
   "outputs": [],
   "source": [
    "# Set alpha\n",
    "alpha = .05"
   ]
  },
  {
   "cell_type": "code",
   "execution_count": 46,
   "id": "cd5274e8",
   "metadata": {},
   "outputs": [
    {
     "data": {
      "text/plain": [
       "(0.5929107912235184, 0.0)"
      ]
     },
     "execution_count": 46,
     "metadata": {},
     "output_type": "execute_result"
    }
   ],
   "source": [
    "# Calculate correlation and p-value\n",
    "corr, p = stats.pearsonr(df.tenure, df.titles)\n",
    "corr, p"
   ]
  },
  {
   "cell_type": "code",
   "execution_count": 47,
   "id": "7a8193e7",
   "metadata": {},
   "outputs": [
    {
     "name": "stdout",
     "output_type": "stream",
     "text": [
      "We reject the null hypothesis\n"
     ]
    }
   ],
   "source": [
    "# Is there a relationship?\n",
    "if p > alpha:\n",
    "    print('We accept the null hypothesis')\n",
    "else:\n",
    "    print('We reject the null hypothesis')"
   ]
  },
  {
   "cell_type": "markdown",
   "id": "10110eb7",
   "metadata": {},
   "source": [
    "## sleepstudy data"
   ]
  },
  {
   "cell_type": "markdown",
   "id": "2e1f5581",
   "metadata": {},
   "source": [
    "### Is there a relationship between days and reaction time?"
   ]
  },
  {
   "cell_type": "code",
   "execution_count": 48,
   "id": "5a1947f9",
   "metadata": {},
   "outputs": [
    {
     "data": {
      "text/html": [
       "<div>\n",
       "<style scoped>\n",
       "    .dataframe tbody tr th:only-of-type {\n",
       "        vertical-align: middle;\n",
       "    }\n",
       "\n",
       "    .dataframe tbody tr th {\n",
       "        vertical-align: top;\n",
       "    }\n",
       "\n",
       "    .dataframe thead th {\n",
       "        text-align: right;\n",
       "    }\n",
       "</style>\n",
       "<table border=\"1\" class=\"dataframe\">\n",
       "  <thead>\n",
       "    <tr style=\"text-align: right;\">\n",
       "      <th></th>\n",
       "      <th>Reaction</th>\n",
       "      <th>Days</th>\n",
       "      <th>Subject</th>\n",
       "    </tr>\n",
       "  </thead>\n",
       "  <tbody>\n",
       "    <tr>\n",
       "      <th>1</th>\n",
       "      <td>249.5600</td>\n",
       "      <td>0</td>\n",
       "      <td>308</td>\n",
       "    </tr>\n",
       "    <tr>\n",
       "      <th>2</th>\n",
       "      <td>258.7047</td>\n",
       "      <td>1</td>\n",
       "      <td>308</td>\n",
       "    </tr>\n",
       "    <tr>\n",
       "      <th>3</th>\n",
       "      <td>250.8006</td>\n",
       "      <td>2</td>\n",
       "      <td>308</td>\n",
       "    </tr>\n",
       "    <tr>\n",
       "      <th>4</th>\n",
       "      <td>321.4398</td>\n",
       "      <td>3</td>\n",
       "      <td>308</td>\n",
       "    </tr>\n",
       "    <tr>\n",
       "      <th>5</th>\n",
       "      <td>356.8519</td>\n",
       "      <td>4</td>\n",
       "      <td>308</td>\n",
       "    </tr>\n",
       "    <tr>\n",
       "      <th>...</th>\n",
       "      <td>...</td>\n",
       "      <td>...</td>\n",
       "      <td>...</td>\n",
       "    </tr>\n",
       "    <tr>\n",
       "      <th>176</th>\n",
       "      <td>329.6076</td>\n",
       "      <td>5</td>\n",
       "      <td>372</td>\n",
       "    </tr>\n",
       "    <tr>\n",
       "      <th>177</th>\n",
       "      <td>334.4818</td>\n",
       "      <td>6</td>\n",
       "      <td>372</td>\n",
       "    </tr>\n",
       "    <tr>\n",
       "      <th>178</th>\n",
       "      <td>343.2199</td>\n",
       "      <td>7</td>\n",
       "      <td>372</td>\n",
       "    </tr>\n",
       "    <tr>\n",
       "      <th>179</th>\n",
       "      <td>369.1417</td>\n",
       "      <td>8</td>\n",
       "      <td>372</td>\n",
       "    </tr>\n",
       "    <tr>\n",
       "      <th>180</th>\n",
       "      <td>364.1236</td>\n",
       "      <td>9</td>\n",
       "      <td>372</td>\n",
       "    </tr>\n",
       "  </tbody>\n",
       "</table>\n",
       "<p>180 rows × 3 columns</p>\n",
       "</div>"
      ],
      "text/plain": [
       "     Reaction  Days  Subject\n",
       "1    249.5600     0      308\n",
       "2    258.7047     1      308\n",
       "3    250.8006     2      308\n",
       "4    321.4398     3      308\n",
       "5    356.8519     4      308\n",
       "..        ...   ...      ...\n",
       "176  329.6076     5      372\n",
       "177  334.4818     6      372\n",
       "178  343.2199     7      372\n",
       "179  369.1417     8      372\n",
       "180  364.1236     9      372\n",
       "\n",
       "[180 rows x 3 columns]"
      ]
     },
     "execution_count": 48,
     "metadata": {},
     "output_type": "execute_result"
    }
   ],
   "source": [
    "# Grab sleepstudy dataset\n",
    "sleepy = data('sleepstudy')\n",
    "sleepy"
   ]
  },
  {
   "cell_type": "code",
   "execution_count": 49,
   "id": "4f4510fa",
   "metadata": {},
   "outputs": [
    {
     "data": {
      "text/plain": [
       "(0.5352302262650253, 9.894096322214812e-15)"
      ]
     },
     "execution_count": 49,
     "metadata": {},
     "output_type": "execute_result"
    }
   ],
   "source": [
    "# Calculate correlation and p-value\n",
    "stats.pearsonr(sleepy.Days, sleepy.Reaction)"
   ]
  },
  {
   "cell_type": "code",
   "execution_count": 50,
   "id": "b843278c",
   "metadata": {},
   "outputs": [
    {
     "name": "stdout",
     "output_type": "stream",
     "text": [
      "We reject the null hypothesis\n"
     ]
    }
   ],
   "source": [
    "# Is there a relationship?\n",
    "if p > alpha:\n",
    "    print('We accept the null hypothesis')\n",
    "else:\n",
    "    print('We reject the null hypothesis')"
   ]
  },
  {
   "cell_type": "markdown",
   "id": "d7d5a250",
   "metadata": {},
   "source": [
    "## Chi2 Exercises"
   ]
  },
  {
   "cell_type": "markdown",
   "id": "8eeb2f42",
   "metadata": {},
   "source": [
    "### Using the following contingency table..."
   ]
  },
  {
   "cell_type": "code",
   "execution_count": 51,
   "id": "8545743b",
   "metadata": {},
   "outputs": [
    {
     "data": {
      "text/html": [
       "<div>\n",
       "<style scoped>\n",
       "    .dataframe tbody tr th:only-of-type {\n",
       "        vertical-align: middle;\n",
       "    }\n",
       "\n",
       "    .dataframe tbody tr th {\n",
       "        vertical-align: top;\n",
       "    }\n",
       "\n",
       "    .dataframe thead th {\n",
       "        text-align: right;\n",
       "    }\n",
       "</style>\n",
       "<table border=\"1\" class=\"dataframe\">\n",
       "  <thead>\n",
       "    <tr style=\"text-align: right;\">\n",
       "      <th></th>\n",
       "      <th>Codeup_Student</th>\n",
       "      <th>Not_Codeup_Student</th>\n",
       "    </tr>\n",
       "    <tr>\n",
       "      <th>MacBook</th>\n",
       "      <th></th>\n",
       "      <th></th>\n",
       "    </tr>\n",
       "  </thead>\n",
       "  <tbody>\n",
       "    <tr>\n",
       "      <th>Uses a MacBook</th>\n",
       "      <td>49</td>\n",
       "      <td>20</td>\n",
       "    </tr>\n",
       "    <tr>\n",
       "      <th>Doesn't Use a MacBook</th>\n",
       "      <td>1</td>\n",
       "      <td>30</td>\n",
       "    </tr>\n",
       "  </tbody>\n",
       "</table>\n",
       "</div>"
      ],
      "text/plain": [
       "                       Codeup_Student  Not_Codeup_Student\n",
       "MacBook                                                  \n",
       "Uses a MacBook                     49                  20\n",
       "Doesn't Use a MacBook               1                  30"
      ]
     },
     "execution_count": 51,
     "metadata": {},
     "output_type": "execute_result"
    }
   ],
   "source": [
    "df = pd.DataFrame({'Codeup_Student':[49,1], 'Not_Codeup_Student':[20,30], 'MacBook':['Uses a MacBook', 'Doesn\\'t Use a MacBook']})\n",
    "df = df.set_index(df.MacBook)\n",
    "df = df.drop(columns='MacBook')\n",
    "df"
   ]
  },
  {
   "cell_type": "markdown",
   "id": "41df1fd7",
   "metadata": {},
   "source": [
    "### ...answer the question of whether using a macbook and being a codeup student are independent of each other."
   ]
  },
  {
   "cell_type": "markdown",
   "id": "3ab302b0",
   "metadata": {},
   "source": [
    "$H_0$ = Using a MacBook and being a Codeup student are not independent of each other.\n",
    "\n",
    "$H_a$ = Using a MacBook and being a Codeup student are independent of each other."
   ]
  },
  {
   "cell_type": "code",
   "execution_count": 52,
   "id": "aa3dab84",
   "metadata": {},
   "outputs": [],
   "source": [
    "# Set alpha\n",
    "alpha = .05"
   ]
  },
  {
   "cell_type": "code",
   "execution_count": 53,
   "id": "b68c425c",
   "metadata": {},
   "outputs": [],
   "source": [
    "# Run chi2 contingency\n",
    "chi2, p, degf, expected = stats.chi2_contingency(df)"
   ]
  },
  {
   "cell_type": "code",
   "execution_count": 54,
   "id": "16951cba",
   "metadata": {},
   "outputs": [
    {
     "name": "stdout",
     "output_type": "stream",
     "text": [
      "We reject the null hypothesis\n"
     ]
    }
   ],
   "source": [
    "# Are they independent?\n",
    "if p > alpha:\n",
    "    print('We accept the null hypothesis')\n",
    "else:\n",
    "    print('We reject the null hypothesis')"
   ]
  },
  {
   "cell_type": "markdown",
   "id": "f6122bea",
   "metadata": {},
   "source": [
    "### Using another 2 categorical variables from the mpg dataset... "
   ]
  },
  {
   "cell_type": "code",
   "execution_count": 55,
   "id": "76dbb54a",
   "metadata": {},
   "outputs": [
    {
     "data": {
      "text/html": [
       "<div>\n",
       "<style scoped>\n",
       "    .dataframe tbody tr th:only-of-type {\n",
       "        vertical-align: middle;\n",
       "    }\n",
       "\n",
       "    .dataframe tbody tr th {\n",
       "        vertical-align: top;\n",
       "    }\n",
       "\n",
       "    .dataframe thead th {\n",
       "        text-align: right;\n",
       "    }\n",
       "</style>\n",
       "<table border=\"1\" class=\"dataframe\">\n",
       "  <thead>\n",
       "    <tr style=\"text-align: right;\">\n",
       "      <th></th>\n",
       "      <th>manufacturer</th>\n",
       "      <th>model</th>\n",
       "      <th>displ</th>\n",
       "      <th>year</th>\n",
       "      <th>cyl</th>\n",
       "      <th>trans</th>\n",
       "      <th>drv</th>\n",
       "      <th>cty</th>\n",
       "      <th>hwy</th>\n",
       "      <th>fl</th>\n",
       "      <th>class</th>\n",
       "    </tr>\n",
       "  </thead>\n",
       "  <tbody>\n",
       "    <tr>\n",
       "      <th>1</th>\n",
       "      <td>audi</td>\n",
       "      <td>a4</td>\n",
       "      <td>1.8</td>\n",
       "      <td>1999</td>\n",
       "      <td>4</td>\n",
       "      <td>auto(l5)</td>\n",
       "      <td>f</td>\n",
       "      <td>18</td>\n",
       "      <td>29</td>\n",
       "      <td>p</td>\n",
       "      <td>compact</td>\n",
       "    </tr>\n",
       "    <tr>\n",
       "      <th>2</th>\n",
       "      <td>audi</td>\n",
       "      <td>a4</td>\n",
       "      <td>1.8</td>\n",
       "      <td>1999</td>\n",
       "      <td>4</td>\n",
       "      <td>manual(m5)</td>\n",
       "      <td>f</td>\n",
       "      <td>21</td>\n",
       "      <td>29</td>\n",
       "      <td>p</td>\n",
       "      <td>compact</td>\n",
       "    </tr>\n",
       "    <tr>\n",
       "      <th>3</th>\n",
       "      <td>audi</td>\n",
       "      <td>a4</td>\n",
       "      <td>2.0</td>\n",
       "      <td>2008</td>\n",
       "      <td>4</td>\n",
       "      <td>manual(m6)</td>\n",
       "      <td>f</td>\n",
       "      <td>20</td>\n",
       "      <td>31</td>\n",
       "      <td>p</td>\n",
       "      <td>compact</td>\n",
       "    </tr>\n",
       "    <tr>\n",
       "      <th>4</th>\n",
       "      <td>audi</td>\n",
       "      <td>a4</td>\n",
       "      <td>2.0</td>\n",
       "      <td>2008</td>\n",
       "      <td>4</td>\n",
       "      <td>auto(av)</td>\n",
       "      <td>f</td>\n",
       "      <td>21</td>\n",
       "      <td>30</td>\n",
       "      <td>p</td>\n",
       "      <td>compact</td>\n",
       "    </tr>\n",
       "    <tr>\n",
       "      <th>5</th>\n",
       "      <td>audi</td>\n",
       "      <td>a4</td>\n",
       "      <td>2.8</td>\n",
       "      <td>1999</td>\n",
       "      <td>6</td>\n",
       "      <td>auto(l5)</td>\n",
       "      <td>f</td>\n",
       "      <td>16</td>\n",
       "      <td>26</td>\n",
       "      <td>p</td>\n",
       "      <td>compact</td>\n",
       "    </tr>\n",
       "  </tbody>\n",
       "</table>\n",
       "</div>"
      ],
      "text/plain": [
       "  manufacturer model  displ  year  cyl       trans drv  cty  hwy fl    class\n",
       "1         audi    a4    1.8  1999    4    auto(l5)   f   18   29  p  compact\n",
       "2         audi    a4    1.8  1999    4  manual(m5)   f   21   29  p  compact\n",
       "3         audi    a4    2.0  2008    4  manual(m6)   f   20   31  p  compact\n",
       "4         audi    a4    2.0  2008    4    auto(av)   f   21   30  p  compact\n",
       "5         audi    a4    2.8  1999    6    auto(l5)   f   16   26  p  compact"
      ]
     },
     "execution_count": 55,
     "metadata": {},
     "output_type": "execute_result"
    }
   ],
   "source": [
    "# Grab dataset\n",
    "df = data('mpg')\n",
    "df.head()"
   ]
  },
  {
   "cell_type": "code",
   "execution_count": 56,
   "id": "93e9aba7",
   "metadata": {},
   "outputs": [
    {
     "data": {
      "text/plain": [
       "manufacturer    15\n",
       "model           38\n",
       "displ           35\n",
       "year             2\n",
       "cyl              4\n",
       "trans           10\n",
       "drv              3\n",
       "cty             21\n",
       "hwy             27\n",
       "fl               5\n",
       "class            7\n",
       "dtype: int64"
      ]
     },
     "execution_count": 56,
     "metadata": {},
     "output_type": "execute_result"
    }
   ],
   "source": [
    "# Check potential categorical variables\n",
    "df.nunique()"
   ]
  },
  {
   "cell_type": "code",
   "execution_count": 57,
   "id": "37370658",
   "metadata": {},
   "outputs": [
    {
     "data": {
      "text/html": [
       "<div>\n",
       "<style scoped>\n",
       "    .dataframe tbody tr th:only-of-type {\n",
       "        vertical-align: middle;\n",
       "    }\n",
       "\n",
       "    .dataframe tbody tr th {\n",
       "        vertical-align: top;\n",
       "    }\n",
       "\n",
       "    .dataframe thead th {\n",
       "        text-align: right;\n",
       "    }\n",
       "</style>\n",
       "<table border=\"1\" class=\"dataframe\">\n",
       "  <thead>\n",
       "    <tr style=\"text-align: right;\">\n",
       "      <th>class</th>\n",
       "      <th>2seater</th>\n",
       "      <th>compact</th>\n",
       "      <th>midsize</th>\n",
       "      <th>minivan</th>\n",
       "      <th>pickup</th>\n",
       "      <th>subcompact</th>\n",
       "      <th>suv</th>\n",
       "    </tr>\n",
       "    <tr>\n",
       "      <th>fl</th>\n",
       "      <th></th>\n",
       "      <th></th>\n",
       "      <th></th>\n",
       "      <th></th>\n",
       "      <th></th>\n",
       "      <th></th>\n",
       "      <th></th>\n",
       "    </tr>\n",
       "  </thead>\n",
       "  <tbody>\n",
       "    <tr>\n",
       "      <th>c</th>\n",
       "      <td>0</td>\n",
       "      <td>0</td>\n",
       "      <td>0</td>\n",
       "      <td>0</td>\n",
       "      <td>0</td>\n",
       "      <td>1</td>\n",
       "      <td>0</td>\n",
       "    </tr>\n",
       "    <tr>\n",
       "      <th>d</th>\n",
       "      <td>0</td>\n",
       "      <td>1</td>\n",
       "      <td>0</td>\n",
       "      <td>0</td>\n",
       "      <td>0</td>\n",
       "      <td>2</td>\n",
       "      <td>2</td>\n",
       "    </tr>\n",
       "    <tr>\n",
       "      <th>e</th>\n",
       "      <td>0</td>\n",
       "      <td>0</td>\n",
       "      <td>0</td>\n",
       "      <td>1</td>\n",
       "      <td>3</td>\n",
       "      <td>0</td>\n",
       "      <td>4</td>\n",
       "    </tr>\n",
       "    <tr>\n",
       "      <th>p</th>\n",
       "      <td>5</td>\n",
       "      <td>21</td>\n",
       "      <td>15</td>\n",
       "      <td>0</td>\n",
       "      <td>0</td>\n",
       "      <td>3</td>\n",
       "      <td>8</td>\n",
       "    </tr>\n",
       "    <tr>\n",
       "      <th>r</th>\n",
       "      <td>0</td>\n",
       "      <td>25</td>\n",
       "      <td>26</td>\n",
       "      <td>10</td>\n",
       "      <td>30</td>\n",
       "      <td>29</td>\n",
       "      <td>48</td>\n",
       "    </tr>\n",
       "  </tbody>\n",
       "</table>\n",
       "</div>"
      ],
      "text/plain": [
       "class  2seater  compact  midsize  minivan  pickup  subcompact  suv\n",
       "fl                                                                \n",
       "c            0        0        0        0       0           1    0\n",
       "d            0        1        0        0       0           2    2\n",
       "e            0        0        0        1       3           0    4\n",
       "p            5       21       15        0       0           3    8\n",
       "r            0       25       26       10      30          29   48"
      ]
     },
     "execution_count": 57,
     "metadata": {},
     "output_type": "execute_result"
    }
   ],
   "source": [
    "# Crosstab of fueltype and car's class\n",
    "observed = pd.crosstab(df['fl'], df['class'])\n",
    "observed"
   ]
  },
  {
   "cell_type": "markdown",
   "id": "12ea5550",
   "metadata": {},
   "source": [
    "### ...perform a chi2_contingency table test. Be sure to state your null and alternative hypotheses.\n",
    "\n"
   ]
  },
  {
   "cell_type": "markdown",
   "id": "532910a8",
   "metadata": {},
   "source": [
    "$H_0$ = Fuel type and class are not independent of one another.\n",
    "\n",
    "$H_a$ = Fuel type and class are independent of one another."
   ]
  },
  {
   "cell_type": "code",
   "execution_count": 58,
   "id": "4087a3ba",
   "metadata": {},
   "outputs": [],
   "source": [
    "# Set alpha\n",
    "alpha = .05"
   ]
  },
  {
   "cell_type": "code",
   "execution_count": 59,
   "id": "9acd2f27",
   "metadata": {},
   "outputs": [],
   "source": [
    "# Run chi2 test\n",
    "chi2, p, degf, expected = stats.chi2_contingency(observed)"
   ]
  },
  {
   "cell_type": "code",
   "execution_count": 60,
   "id": "3ba26f9a",
   "metadata": {},
   "outputs": [
    {
     "name": "stdout",
     "output_type": "stream",
     "text": [
      "We reject the null hypothesis\n"
     ]
    }
   ],
   "source": [
    "# Are they independent?\n",
    "if p > alpha:\n",
    "    print('We accept the null hypothesis')\n",
    "else:\n",
    "    print('We reject the null hypothesis')"
   ]
  },
  {
   "cell_type": "markdown",
   "id": "02936e5d",
   "metadata": {},
   "source": [
    "### Use the data from the employees database to answer these questions:\n",
    "- Is an employee's gender independent of whether an employee works in sales or marketing? (only look at current employees)\n",
    "- Is an employee's gender independent of whether or not they are or have been a manager?"
   ]
  },
  {
   "cell_type": "code",
   "execution_count": 61,
   "id": "af93a0af",
   "metadata": {},
   "outputs": [],
   "source": [
    "import env\n",
    "url = env.get_db_url('employees', )"
   ]
  },
  {
   "cell_type": "markdown",
   "id": "95eb9523",
   "metadata": {},
   "source": [
    "#### Is an employee's gender independent of whether an employee works in sales or marketing? (only look at current employees)\n",
    "$H_0$ = Gender is not independent of working in sales or marketing\n",
    "\n",
    "$H_a$ = Gender is independent of working in sales or marketing"
   ]
  },
  {
   "cell_type": "code",
   "execution_count": 62,
   "id": "1e741ddd",
   "metadata": {},
   "outputs": [
    {
     "data": {
      "text/plain": [
       "<bound method DataFrame.info of       gender dept_no\n",
       "0          F    d007\n",
       "1          M    d007\n",
       "2          F    d001\n",
       "3          F    d007\n",
       "4          M    d007\n",
       "...      ...     ...\n",
       "52538      M    d007\n",
       "52539      M    d007\n",
       "52540      F    d007\n",
       "52541      F    d007\n",
       "52542      F    d001\n",
       "\n",
       "[52543 rows x 2 columns]>"
      ]
     },
     "execution_count": 62,
     "metadata": {},
     "output_type": "execute_result"
    }
   ],
   "source": [
    "# Grab current sales and marketing employees and their gender\n",
    "sql =   \"\"\"\n",
    "            SELECT gender, dept_no\n",
    "            FROM employees\n",
    "            JOIN dept_emp USING(emp_no)\n",
    "            WHERE ((dept_no = 'd001') OR (dept_no = 'd007')) AND to_date > curdate();\n",
    "        \"\"\"\n",
    "\n",
    "df = pd.read_sql(sql, url)\n",
    "df.info"
   ]
  },
  {
   "cell_type": "code",
   "execution_count": 63,
   "id": "79b12d77",
   "metadata": {},
   "outputs": [
    {
     "data": {
      "text/html": [
       "<div>\n",
       "<style scoped>\n",
       "    .dataframe tbody tr th:only-of-type {\n",
       "        vertical-align: middle;\n",
       "    }\n",
       "\n",
       "    .dataframe tbody tr th {\n",
       "        vertical-align: top;\n",
       "    }\n",
       "\n",
       "    .dataframe thead th {\n",
       "        text-align: right;\n",
       "    }\n",
       "</style>\n",
       "<table border=\"1\" class=\"dataframe\">\n",
       "  <thead>\n",
       "    <tr style=\"text-align: right;\">\n",
       "      <th>dept_no</th>\n",
       "      <th>d001</th>\n",
       "      <th>d007</th>\n",
       "    </tr>\n",
       "    <tr>\n",
       "      <th>gender</th>\n",
       "      <th></th>\n",
       "      <th></th>\n",
       "    </tr>\n",
       "  </thead>\n",
       "  <tbody>\n",
       "    <tr>\n",
       "      <th>F</th>\n",
       "      <td>5864</td>\n",
       "      <td>14999</td>\n",
       "    </tr>\n",
       "    <tr>\n",
       "      <th>M</th>\n",
       "      <td>8978</td>\n",
       "      <td>22702</td>\n",
       "    </tr>\n",
       "  </tbody>\n",
       "</table>\n",
       "</div>"
      ],
      "text/plain": [
       "dept_no  d001   d007\n",
       "gender              \n",
       "F        5864  14999\n",
       "M        8978  22702"
      ]
     },
     "execution_count": 63,
     "metadata": {},
     "output_type": "execute_result"
    }
   ],
   "source": [
    "# Create crosstab\n",
    "observed = pd.crosstab(df.gender, df.dept_no)\n",
    "observed"
   ]
  },
  {
   "cell_type": "code",
   "execution_count": 64,
   "id": "be20a36a",
   "metadata": {},
   "outputs": [],
   "source": [
    "# set alpha\n",
    "alpha = .05"
   ]
  },
  {
   "cell_type": "code",
   "execution_count": 65,
   "id": "23406a85",
   "metadata": {},
   "outputs": [],
   "source": [
    "# Run chi2 test\n",
    "chi2, p, degf, expected = stats.chi2_contingency(observed)"
   ]
  },
  {
   "cell_type": "code",
   "execution_count": 66,
   "id": "7330d572",
   "metadata": {},
   "outputs": [
    {
     "name": "stdout",
     "output_type": "stream",
     "text": [
      "We accept the null hypothesis\n"
     ]
    }
   ],
   "source": [
    "# Are they independent?\n",
    "if p > alpha:\n",
    "    print('We accept the null hypothesis')\n",
    "else:\n",
    "    print('We reject the null hypothesis')"
   ]
  },
  {
   "cell_type": "markdown",
   "id": "5345e556",
   "metadata": {},
   "source": [
    "#### Is an employee's gender independent of whether or not they are or have been a manager?\n",
    "$H_0$ = Gender is not independent of managerial status\n",
    "\n",
    "$H_a$ = Gender is independent of managerial status"
   ]
  },
  {
   "cell_type": "code",
   "execution_count": 67,
   "id": "95da3e75",
   "metadata": {},
   "outputs": [
    {
     "data": {
      "text/plain": [
       "(<bound method DataFrame.info of         emp_no gender\n",
       " 0        10001      M\n",
       " 1        10002      F\n",
       " 2        10003      M\n",
       " 3        10004      M\n",
       " 4        10005      M\n",
       " ...        ...    ...\n",
       " 300019  499995      F\n",
       " 300020  499996      M\n",
       " 300021  499997      M\n",
       " 300022  499998      M\n",
       " 300023  499999      M\n",
       " \n",
       " [300024 rows x 2 columns]>,\n",
       " <bound method DataFrame.info of     emp_no\n",
       " 0   110022\n",
       " 1   110039\n",
       " 2   110085\n",
       " 3   110114\n",
       " 4   110183\n",
       " 5   110228\n",
       " 6   110303\n",
       " 7   110344\n",
       " 8   110386\n",
       " 9   110420\n",
       " 10  110511\n",
       " 11  110567\n",
       " 12  110725\n",
       " 13  110765\n",
       " 14  110800\n",
       " 15  110854\n",
       " 16  111035\n",
       " 17  111133\n",
       " 18  111400\n",
       " 19  111534\n",
       " 20  111692\n",
       " 21  111784\n",
       " 22  111877\n",
       " 23  111939>)"
      ]
     },
     "execution_count": 67,
     "metadata": {},
     "output_type": "execute_result"
    }
   ],
   "source": [
    "# Create dataframe for all employees including managers\n",
    "sql1 =  \"\"\"\n",
    "            SELECT emp_no, gender\n",
    "            FROM employees;\n",
    "        \"\"\"\n",
    "df1 = pd.read_sql(sql1, url)\n",
    "\n",
    "# Create dataframe for all managers specifically\n",
    "sql2 =  \"\"\"\n",
    "            SELECT emp_no\n",
    "            FROM dept_manager\n",
    "        \"\"\"\n",
    "df2 = pd.read_sql(sql2, url)\n",
    "\n",
    "# Check for good copy\n",
    "df1.info, df2.info"
   ]
  },
  {
   "cell_type": "code",
   "execution_count": 68,
   "id": "e95b8e3c",
   "metadata": {},
   "outputs": [
    {
     "data": {
      "text/html": [
       "<div>\n",
       "<style scoped>\n",
       "    .dataframe tbody tr th:only-of-type {\n",
       "        vertical-align: middle;\n",
       "    }\n",
       "\n",
       "    .dataframe tbody tr th {\n",
       "        vertical-align: top;\n",
       "    }\n",
       "\n",
       "    .dataframe thead th {\n",
       "        text-align: right;\n",
       "    }\n",
       "</style>\n",
       "<table border=\"1\" class=\"dataframe\">\n",
       "  <thead>\n",
       "    <tr style=\"text-align: right;\">\n",
       "      <th></th>\n",
       "      <th>emp_no</th>\n",
       "      <th>gender</th>\n",
       "      <th>Manager</th>\n",
       "    </tr>\n",
       "  </thead>\n",
       "  <tbody>\n",
       "    <tr>\n",
       "      <th>0</th>\n",
       "      <td>10001</td>\n",
       "      <td>M</td>\n",
       "      <td>False</td>\n",
       "    </tr>\n",
       "    <tr>\n",
       "      <th>1</th>\n",
       "      <td>10002</td>\n",
       "      <td>F</td>\n",
       "      <td>False</td>\n",
       "    </tr>\n",
       "    <tr>\n",
       "      <th>2</th>\n",
       "      <td>10003</td>\n",
       "      <td>M</td>\n",
       "      <td>False</td>\n",
       "    </tr>\n",
       "    <tr>\n",
       "      <th>3</th>\n",
       "      <td>10004</td>\n",
       "      <td>M</td>\n",
       "      <td>False</td>\n",
       "    </tr>\n",
       "    <tr>\n",
       "      <th>4</th>\n",
       "      <td>10005</td>\n",
       "      <td>M</td>\n",
       "      <td>False</td>\n",
       "    </tr>\n",
       "    <tr>\n",
       "      <th>5</th>\n",
       "      <td>10006</td>\n",
       "      <td>F</td>\n",
       "      <td>False</td>\n",
       "    </tr>\n",
       "    <tr>\n",
       "      <th>6</th>\n",
       "      <td>10007</td>\n",
       "      <td>F</td>\n",
       "      <td>False</td>\n",
       "    </tr>\n",
       "    <tr>\n",
       "      <th>7</th>\n",
       "      <td>10008</td>\n",
       "      <td>M</td>\n",
       "      <td>False</td>\n",
       "    </tr>\n",
       "    <tr>\n",
       "      <th>8</th>\n",
       "      <td>10009</td>\n",
       "      <td>F</td>\n",
       "      <td>False</td>\n",
       "    </tr>\n",
       "    <tr>\n",
       "      <th>9</th>\n",
       "      <td>10010</td>\n",
       "      <td>F</td>\n",
       "      <td>False</td>\n",
       "    </tr>\n",
       "  </tbody>\n",
       "</table>\n",
       "</div>"
      ],
      "text/plain": [
       "   emp_no gender  Manager\n",
       "0   10001      M    False\n",
       "1   10002      F    False\n",
       "2   10003      M    False\n",
       "3   10004      M    False\n",
       "4   10005      M    False\n",
       "5   10006      F    False\n",
       "6   10007      F    False\n",
       "7   10008      M    False\n",
       "8   10009      F    False\n",
       "9   10010      F    False"
      ]
     },
     "execution_count": 68,
     "metadata": {},
     "output_type": "execute_result"
    }
   ],
   "source": [
    "# Create dataframe with all employees and whether the employee is a manager or not\n",
    "df1['Manager'] = df1.emp_no.isin(df2.emp_no)\n",
    "df1.head(10)"
   ]
  },
  {
   "cell_type": "code",
   "execution_count": 69,
   "id": "f8bdca33",
   "metadata": {},
   "outputs": [
    {
     "data": {
      "text/html": [
       "<div>\n",
       "<style scoped>\n",
       "    .dataframe tbody tr th:only-of-type {\n",
       "        vertical-align: middle;\n",
       "    }\n",
       "\n",
       "    .dataframe tbody tr th {\n",
       "        vertical-align: top;\n",
       "    }\n",
       "\n",
       "    .dataframe thead th {\n",
       "        text-align: right;\n",
       "    }\n",
       "</style>\n",
       "<table border=\"1\" class=\"dataframe\">\n",
       "  <thead>\n",
       "    <tr style=\"text-align: right;\">\n",
       "      <th>Manager</th>\n",
       "      <th>False</th>\n",
       "      <th>True</th>\n",
       "    </tr>\n",
       "    <tr>\n",
       "      <th>gender</th>\n",
       "      <th></th>\n",
       "      <th></th>\n",
       "    </tr>\n",
       "  </thead>\n",
       "  <tbody>\n",
       "    <tr>\n",
       "      <th>F</th>\n",
       "      <td>120038</td>\n",
       "      <td>13</td>\n",
       "    </tr>\n",
       "    <tr>\n",
       "      <th>M</th>\n",
       "      <td>179962</td>\n",
       "      <td>11</td>\n",
       "    </tr>\n",
       "  </tbody>\n",
       "</table>\n",
       "</div>"
      ],
      "text/plain": [
       "Manager   False  True \n",
       "gender                \n",
       "F        120038     13\n",
       "M        179962     11"
      ]
     },
     "execution_count": 69,
     "metadata": {},
     "output_type": "execute_result"
    }
   ],
   "source": [
    "# Create crosstab of gender and managerial status\n",
    "observed = pd.crosstab(df1.gender, df1.Manager)\n",
    "observed"
   ]
  },
  {
   "cell_type": "code",
   "execution_count": 70,
   "id": "16c09815",
   "metadata": {},
   "outputs": [],
   "source": [
    "# Set alpha\n",
    "alpha = .05"
   ]
  },
  {
   "cell_type": "code",
   "execution_count": 71,
   "id": "25238d75",
   "metadata": {},
   "outputs": [],
   "source": [
    "# Run chi2 test\n",
    "chi2, p, degf, expected = stats.chi2_contingency(observed)"
   ]
  },
  {
   "cell_type": "code",
   "execution_count": 72,
   "id": "25411fc6",
   "metadata": {},
   "outputs": [
    {
     "name": "stdout",
     "output_type": "stream",
     "text": [
      "We accept the null hypothesis\n"
     ]
    }
   ],
   "source": [
    "# Are they independent?\n",
    "if p > alpha:\n",
    "    print('We accept the null hypothesis')\n",
    "else:\n",
    "    print('We reject the null hypothesis')"
   ]
  },
  {
   "cell_type": "code",
   "execution_count": null,
   "id": "add1d9cb",
   "metadata": {},
   "outputs": [],
   "source": []
  }
 ],
 "metadata": {
  "kernelspec": {
   "display_name": "Python 3",
   "language": "python",
   "name": "python3"
  },
  "language_info": {
   "codemirror_mode": {
    "name": "ipython",
    "version": 3
   },
   "file_extension": ".py",
   "mimetype": "text/x-python",
   "name": "python",
   "nbconvert_exporter": "python",
   "pygments_lexer": "ipython3",
   "version": "3.8.8"
  }
 },
 "nbformat": 4,
 "nbformat_minor": 5
}
