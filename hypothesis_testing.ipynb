{
 "cells": [
  {
   "cell_type": "markdown",
   "id": "962adb93",
   "metadata": {},
   "source": [
    "# Hypothesis Testing\n",
    "### For each of the following questions, formulate a null and alternative hypothesis (be as specific as you can be), then give an example of what a true positive, true negative, type I and type II errors would look like. Note that some of the questions are intentionally phrased in a vague way. It is your job to reword these as more precise questions that could be tested."
   ]
  },
  {
   "cell_type": "markdown",
   "id": "2c58544e",
   "metadata": {},
   "source": [
    "## Has the network latency gone up since we switched internet service providers?\n",
    "### Null Hypothesis\n",
    "- The network latency has gone down or remained constant since switching providers\n",
    "\n",
    "### Alt Hypothesis\n",
    "- The network latency has gone up since switching\n",
    "\n",
    "### True positive\n",
    "- We reject the null hypothesis, the network latency indeed went up\n",
    "\n",
    "### True negative\n",
    "- We accept the null hypothesis, the network latency did not go up\n",
    "\n",
    "### Type I\n",
    "- The network latency appeared to go up, but did not.\n",
    "\n",
    "### Type II\n",
    "- The network latency did not appear to go up, but it did.\n"
   ]
  },
  {
   "cell_type": "markdown",
   "id": "eb454b4e",
   "metadata": {},
   "source": [
    "## Is the website redesign any good?\n",
    "### Null Hypothesis\n",
    "- The website redesign negatively or did not affect customer retention\n",
    "\n",
    "### Alt Hypothesis\n",
    "- The website redesign positively impacted customer retention\n",
    "\n",
    "### True positive\n",
    "- We reject the null hypothesis, The website redesign indeed improved customer retention\n",
    "\n",
    "### True negative\n",
    "- We accept the null hypothesis, The website redesign did not improve customer retention\n",
    "\n",
    "### Type I\n",
    "- The website redesign appeared to improve customer retention, but did not.\n",
    "\n",
    "### Type II\n",
    "- The website redesign did not appear to improve customer retention, but it did."
   ]
  },
  {
   "cell_type": "markdown",
   "id": "0adee004",
   "metadata": {},
   "source": [
    "## Is our television ad driving more sales?\n",
    "### Null Hypothesis\n",
    "- Our ad is not driving or not affecting sales\n",
    "\n",
    "### Alt Hypothesis\n",
    "- Our ad is driving more sales\n",
    "\n",
    "### True positive\n",
    "- We reject the null hypothesis, our ad indeed drove more sales\n",
    "\n",
    "### True negative\n",
    "- We accept the null hypothesis, our ad did not drive more sales\n",
    "\n",
    "### Type I\n",
    "- Our ad appeared to drive more sales, but did not.\n",
    "\n",
    "### Type II\n",
    "- Our ad did not appear to drive more sales, but did."
   ]
  },
  {
   "cell_type": "markdown",
   "id": "8c8c9064",
   "metadata": {},
   "source": [
    "# T-Test Exercises"
   ]
  },
  {
   "cell_type": "markdown",
   "id": "450dc9db",
   "metadata": {},
   "source": [
    "Ace Realty wants to determine whether the average time it takes to sell homes is different for its two offices. A sample of 40 sales from office #1 revealed a mean of 90 days and a standard deviation of 15 days. A sample of 50 sales from office #2 revealed a mean of 100 days and a standard deviation of 20 days. Use a .05 level of significance.\n",
    "\n",
    "Load the mpg dataset and use it to answer the following questions:\n",
    "\n",
    "Is there a difference in fuel-efficiency in cars from 2008 vs 1999?\n",
    "Are compact cars more fuel-efficient than the average car?\n",
    "Do manual cars get better gas mileage than automatic cars?"
   ]
  },
  {
   "cell_type": "code",
   "execution_count": 1,
   "id": "0c599cd4",
   "metadata": {},
   "outputs": [],
   "source": [
    "from pydataset import data\n",
    "from scipy import stats\n",
    "import matplotlib.pyplot as plt\n",
    "import seaborn as sns"
   ]
  },
  {
   "cell_type": "markdown",
   "id": "f637a092",
   "metadata": {},
   "source": [
    "## Ace Realty"
   ]
  },
  {
   "cell_type": "code",
   "execution_count": 2,
   "id": "e0820fd8",
   "metadata": {},
   "outputs": [],
   "source": [
    "# Ace Realty wants to determine whether the average time it takes to sell homes is different for its two offices.\n",
    "# Use a .05 level of significance.\n",
    "# A sample of 40 sales from office #1 revealed a mean of 90 days and a standard deviation of 15 days. \n",
    "# A sample of 50 sales from office #2 revealed a mean of 100 days and a standard deviation of 20 days. \n",
    "office1 = stats.norm(90, 15).rvs(40)\n",
    "office2 = stats.norm(100, 20).rvs(50)"
   ]
  },
  {
   "cell_type": "code",
   "execution_count": 3,
   "id": "433bce3f",
   "metadata": {},
   "outputs": [
    {
     "data": {
      "text/plain": [
       "(array([1., 0., 5., 3., 8., 6., 6., 4., 3., 4.]),\n",
       " array([ 46.00550167,  53.22241142,  60.43932118,  67.65623093,\n",
       "         74.87314068,  82.09005044,  89.30696019,  96.52386994,\n",
       "        103.74077969, 110.95768945, 118.1745992 ]),\n",
       " <BarContainer object of 10 artists>)"
      ]
     },
     "execution_count": 3,
     "metadata": {},
     "output_type": "execute_result"
    },
    {
     "data": {
      "image/png": "[encoded data removed]",
      "text/plain": [
       "<Figure size 432x288 with 1 Axes>"
      ]
     },
     "metadata": {
      "needs_background": "light"
     },
     "output_type": "display_data"
    }
   ],
   "source": [
    "# Plot the distributions.\n",
    "plt.hist(office2)\n",
    "plt.hist(office1)"
   ]
  },
  {
   "cell_type": "code",
   "execution_count": 4,
   "id": "a8bc7e06",
   "metadata": {},
   "outputs": [
    {
     "data": {
      "text/plain": [
       "(270.1372783809899, 370.0838786304203)"
      ]
     },
     "execution_count": 4,
     "metadata": {},
     "output_type": "execute_result"
    }
   ],
   "source": [
    "# Null: H_0 = No difference, H_a = Difference\n",
    "# alpha: .05\n",
    "# Verify: Independent variables, normal distribution, equal variance...\n",
    "office1.var(), office2.var()"
   ]
  },
  {
   "cell_type": "code",
   "execution_count": 5,
   "id": "99551de6",
   "metadata": {},
   "outputs": [
    {
     "data": {
      "text/plain": [
       "(-2.4904380530193517, 0.014646159078142472)"
      ]
     },
     "execution_count": 5,
     "metadata": {},
     "output_type": "execute_result"
    }
   ],
   "source": [
    "# Variance is not equal\n",
    "# Calculate t and p\n",
    "t, p = stats.ttest_ind(office1, office2, equal_var=False)\n",
    "t, p "
   ]
  },
  {
   "cell_type": "code",
   "execution_count": 6,
   "id": "8913264f",
   "metadata": {},
   "outputs": [
    {
     "data": {
      "text/plain": [
       "True"
      ]
     },
     "execution_count": 6,
     "metadata": {},
     "output_type": "execute_result"
    }
   ],
   "source": [
    "# Decide\n",
    "p < .025"
   ]
  },
  {
   "cell_type": "markdown",
   "id": "8d80c145",
   "metadata": {},
   "source": [
    "#### We reject the null hypothesis, the difference between Office 1 and Office 2 is statistically significant."
   ]
  },
  {
   "cell_type": "code",
   "execution_count": 7,
   "id": "8b436fe2",
   "metadata": {},
   "outputs": [
    {
     "data": {
      "text/plain": [
       "MannwhitneyuResult(statistic=728.0, pvalue=0.013741986377348445)"
      ]
     },
     "execution_count": 7,
     "metadata": {},
     "output_type": "execute_result"
    }
   ],
   "source": [
    "# Safe test\n",
    "stats.mannwhitneyu(office1, office2)"
   ]
  },
  {
   "cell_type": "markdown",
   "id": "3f92b7dd",
   "metadata": {},
   "source": [
    "## mpg dataset"
   ]
  },
  {
   "cell_type": "code",
   "execution_count": 8,
   "id": "78406e6b",
   "metadata": {},
   "outputs": [
    {
     "data": {
      "text/html": [
       "<div>\n",
       "<style scoped>\n",
       "    .dataframe tbody tr th:only-of-type {\n",
       "        vertical-align: middle;\n",
       "    }\n",
       "\n",
       "    .dataframe tbody tr th {\n",
       "        vertical-align: top;\n",
       "    }\n",
       "\n",
       "    .dataframe thead th {\n",
       "        text-align: right;\n",
       "    }\n",
       "</style>\n",
       "<table border=\"1\" class=\"dataframe\">\n",
       "  <thead>\n",
       "    <tr style=\"text-align: right;\">\n",
       "      <th></th>\n",
       "      <th>manufacturer</th>\n",
       "      <th>model</th>\n",
       "      <th>displ</th>\n",
       "      <th>year</th>\n",
       "      <th>cyl</th>\n",
       "      <th>trans</th>\n",
       "      <th>drv</th>\n",
       "      <th>cty</th>\n",
       "      <th>hwy</th>\n",
       "      <th>fl</th>\n",
       "      <th>class</th>\n",
       "    </tr>\n",
       "  </thead>\n",
       "  <tbody>\n",
       "    <tr>\n",
       "      <th>1</th>\n",
       "      <td>audi</td>\n",
       "      <td>a4</td>\n",
       "      <td>1.8</td>\n",
       "      <td>1999</td>\n",
       "      <td>4</td>\n",
       "      <td>auto(l5)</td>\n",
       "      <td>f</td>\n",
       "      <td>18</td>\n",
       "      <td>29</td>\n",
       "      <td>p</td>\n",
       "      <td>compact</td>\n",
       "    </tr>\n",
       "    <tr>\n",
       "      <th>2</th>\n",
       "      <td>audi</td>\n",
       "      <td>a4</td>\n",
       "      <td>1.8</td>\n",
       "      <td>1999</td>\n",
       "      <td>4</td>\n",
       "      <td>manual(m5)</td>\n",
       "      <td>f</td>\n",
       "      <td>21</td>\n",
       "      <td>29</td>\n",
       "      <td>p</td>\n",
       "      <td>compact</td>\n",
       "    </tr>\n",
       "    <tr>\n",
       "      <th>3</th>\n",
       "      <td>audi</td>\n",
       "      <td>a4</td>\n",
       "      <td>2.0</td>\n",
       "      <td>2008</td>\n",
       "      <td>4</td>\n",
       "      <td>manual(m6)</td>\n",
       "      <td>f</td>\n",
       "      <td>20</td>\n",
       "      <td>31</td>\n",
       "      <td>p</td>\n",
       "      <td>compact</td>\n",
       "    </tr>\n",
       "    <tr>\n",
       "      <th>4</th>\n",
       "      <td>audi</td>\n",
       "      <td>a4</td>\n",
       "      <td>2.0</td>\n",
       "      <td>2008</td>\n",
       "      <td>4</td>\n",
       "      <td>auto(av)</td>\n",
       "      <td>f</td>\n",
       "      <td>21</td>\n",
       "      <td>30</td>\n",
       "      <td>p</td>\n",
       "      <td>compact</td>\n",
       "    </tr>\n",
       "    <tr>\n",
       "      <th>5</th>\n",
       "      <td>audi</td>\n",
       "      <td>a4</td>\n",
       "      <td>2.8</td>\n",
       "      <td>1999</td>\n",
       "      <td>6</td>\n",
       "      <td>auto(l5)</td>\n",
       "      <td>f</td>\n",
       "      <td>16</td>\n",
       "      <td>26</td>\n",
       "      <td>p</td>\n",
       "      <td>compact</td>\n",
       "    </tr>\n",
       "  </tbody>\n",
       "</table>\n",
       "</div>"
      ],
      "text/plain": [
       "  manufacturer model  displ  year  cyl       trans drv  cty  hwy fl    class\n",
       "1         audi    a4    1.8  1999    4    auto(l5)   f   18   29  p  compact\n",
       "2         audi    a4    1.8  1999    4  manual(m5)   f   21   29  p  compact\n",
       "3         audi    a4    2.0  2008    4  manual(m6)   f   20   31  p  compact\n",
       "4         audi    a4    2.0  2008    4    auto(av)   f   21   30  p  compact\n",
       "5         audi    a4    2.8  1999    6    auto(l5)   f   16   26  p  compact"
      ]
     },
     "execution_count": 8,
     "metadata": {},
     "output_type": "execute_result"
    }
   ],
   "source": [
    "# Load the mpg dataset\n",
    "df = data(\"mpg\")\n",
    "df.head()"
   ]
  },
  {
   "cell_type": "markdown",
   "id": "ac84f7e4",
   "metadata": {},
   "source": [
    "### Is there a difference in fuel-efficiency in cars from 2008 vs 1999?"
   ]
  },
  {
   "cell_type": "code",
   "execution_count": 9,
   "id": "23ba2357",
   "metadata": {},
   "outputs": [
    {
     "data": {
      "text/plain": [
       "(array([ 5., 12., 24., 17., 16., 20., 16.,  3.,  3.,  1.]),\n",
       " array([ 9. , 10.9, 12.8, 14.7, 16.6, 18.5, 20.4, 22.3, 24.2, 26.1, 28. ]),\n",
       " <BarContainer object of 10 artists>)"
      ]
     },
     "execution_count": 9,
     "metadata": {},
     "output_type": "execute_result"
    },
    {
     "data": {
      "image/png": "[encoded data removed]",
      "text/plain": [
       "<Figure size 432x288 with 1 Axes>"
      ]
     },
     "metadata": {
      "needs_background": "light"
     },
     "output_type": "display_data"
    }
   ],
   "source": [
    "# Plot the distributions\n",
    "plt.hist(df[df.year == 1999].cty)\n",
    "plt.hist(df[df.year == 2008].cty)"
   ]
  },
  {
   "cell_type": "code",
   "execution_count": 10,
   "id": "67cf09a8",
   "metadata": {},
   "outputs": [
    {
     "data": {
      "text/plain": [
       "(19.879015620394938, 16.452844090775127)"
      ]
     },
     "execution_count": 10,
     "metadata": {},
     "output_type": "execute_result"
    }
   ],
   "source": [
    "# Establish hypothesis: H_0 = No, H_a = Yes\n",
    "# Set alpha: alpha = .05\n",
    "# Verify assumptions: Normal-ish distribution, Independent variables, equal variance...\n",
    "df[df.year == 1999].cty.var(), df[df.year == 2008].cty.var()"
   ]
  },
  {
   "cell_type": "code",
   "execution_count": 11,
   "id": "279f0188",
   "metadata": {},
   "outputs": [
    {
     "data": {
      "text/plain": [
       "(0.5674988409997608, 0.5709240495406107)"
      ]
     },
     "execution_count": 11,
     "metadata": {},
     "output_type": "execute_result"
    }
   ],
   "source": [
    "# Compute t and p\n",
    "t, p = stats.ttest_ind(df[df.year == 1999].cty, df[df.year == 2008].cty)\n",
    "t, p"
   ]
  },
  {
   "cell_type": "code",
   "execution_count": 12,
   "id": "cc1d6b47",
   "metadata": {},
   "outputs": [
    {
     "data": {
      "text/plain": [
       "False"
      ]
     },
     "execution_count": 12,
     "metadata": {},
     "output_type": "execute_result"
    }
   ],
   "source": [
    "p < .025"
   ]
  },
  {
   "cell_type": "markdown",
   "id": "c6f7e575",
   "metadata": {},
   "source": [
    "#### We accept the null hypothesis, there is no statistical significance between the fuel efficency of cars made in 1999 versus 2008."
   ]
  },
  {
   "cell_type": "code",
   "execution_count": 13,
   "id": "bb2c7494",
   "metadata": {},
   "outputs": [
    {
     "data": {
      "text/plain": [
       "MannwhitneyuResult(statistic=6790.5, pvalue=0.45870813783633435)"
      ]
     },
     "execution_count": 13,
     "metadata": {},
     "output_type": "execute_result"
    }
   ],
   "source": [
    "# Safe test\n",
    "stats.mannwhitneyu(df[df.year == 1999].cty, df[df.year == 2008].cty)"
   ]
  },
  {
   "cell_type": "markdown",
   "id": "3feb3483",
   "metadata": {},
   "source": [
    "### Are compact cars more fuel-efficient than the average car?"
   ]
  },
  {
   "cell_type": "code",
   "execution_count": 14,
   "id": "e21b100e",
   "metadata": {},
   "outputs": [
    {
     "data": {
      "text/plain": [
       "(array([ 5., 11., 10., 15.,  0.,  2.,  2.,  1.,  0.,  1.]),\n",
       " array([15. , 16.8, 18.6, 20.4, 22.2, 24. , 25.8, 27.6, 29.4, 31.2, 33. ]),\n",
       " <BarContainer object of 10 artists>)"
      ]
     },
     "execution_count": 14,
     "metadata": {},
     "output_type": "execute_result"
    },
    {
     "data": {
      "image/png": "[encoded data removed]",
      "text/plain": [
       "<Figure size 432x288 with 1 Axes>"
      ]
     },
     "metadata": {
      "needs_background": "light"
     },
     "output_type": "display_data"
    }
   ],
   "source": [
    "# Plot the distributions\n",
    "plt.hist(df.cty)\n",
    "plt.hist(df[df['class'] == 'compact'].cty)"
   ]
  },
  {
   "cell_type": "code",
   "execution_count": 15,
   "id": "216a5801",
   "metadata": {},
   "outputs": [
    {
     "data": {
      "text/plain": [
       "(11.46160962072155, 18.1130736216573)"
      ]
     },
     "execution_count": 15,
     "metadata": {},
     "output_type": "execute_result"
    }
   ],
   "source": [
    "# Establish hypothesis: H_0 = No, H_a = Yes\n",
    "# Set alpha: alpha = .05\n",
    "# Verify assumptions: Normal-ish distribution\n",
    "df[df['class'] == 'compact'].cty.var(), df.cty.var()"
   ]
  },
  {
   "cell_type": "code",
   "execution_count": 16,
   "id": "86f01040",
   "metadata": {},
   "outputs": [
    {
     "data": {
      "text/plain": [
       "3.4017448216394005e-08"
      ]
     },
     "execution_count": 16,
     "metadata": {},
     "output_type": "execute_result"
    }
   ],
   "source": [
    "# Compute t and p\n",
    "t, p = stats.ttest_1samp(df[df['class'] == 'compact'].cty, df.cty.mean())\n",
    "p"
   ]
  },
  {
   "cell_type": "code",
   "execution_count": 17,
   "id": "8e04a212",
   "metadata": {},
   "outputs": [
    {
     "data": {
      "text/plain": [
       "True"
      ]
     },
     "execution_count": 17,
     "metadata": {},
     "output_type": "execute_result"
    }
   ],
   "source": [
    "p < 0.05"
   ]
  },
  {
   "cell_type": "markdown",
   "id": "378fc36d",
   "metadata": {},
   "source": [
    "#### We reject the null hypothesis, compact cars have statistically-significant greater fuel efficiency than average fuel efficiency of all cars."
   ]
  },
  {
   "cell_type": "markdown",
   "id": "a057cd8c",
   "metadata": {},
   "source": [
    "### Do manual cars get better gas mileage than automatic cars?"
   ]
  },
  {
   "cell_type": "code",
   "execution_count": 18,
   "id": "d53a7c64",
   "metadata": {},
   "outputs": [
    {
     "data": {
      "text/plain": [
       "<AxesSubplot:>"
      ]
     },
     "execution_count": 18,
     "metadata": {},
     "output_type": "execute_result"
    },
    {
     "data": {
      "image/png": "[encoded data removed]",
      "text/plain": [
       "<Figure size 432x288 with 1 Axes>"
      ]
     },
     "metadata": {
      "needs_background": "light"
     },
     "output_type": "display_data"
    }
   ],
   "source": [
    "# Plot the distributions\n",
    "df[df.trans.str.startswith('auto')].cty.hist()\n",
    "df[df.trans.str.startswith('manual')].cty.hist()"
   ]
  },
  {
   "cell_type": "code",
   "execution_count": 19,
   "id": "32a5794c",
   "metadata": {},
   "outputs": [
    {
     "data": {
      "text/plain": [
       "(14.81308182263596, 20.14319890635681)"
      ]
     },
     "execution_count": 19,
     "metadata": {},
     "output_type": "execute_result"
    }
   ],
   "source": [
    "# Null: H_0 = No, H_a = Yes\n",
    "# alpha = .05\n",
    "# Verify: Independent variables, normal distribution, equal variance...\n",
    "df[df.trans.str.startswith('auto')].cty.var(), df[df.trans.str.startswith('manual')].cty.var()"
   ]
  },
  {
   "cell_type": "code",
   "execution_count": 20,
   "id": "e0ebf30e",
   "metadata": {},
   "outputs": [
    {
     "data": {
      "text/plain": [
       "(4.781718413818975, 3.088973514167085e-06)"
      ]
     },
     "execution_count": 20,
     "metadata": {},
     "output_type": "execute_result"
    }
   ],
   "source": [
    "# Calculate t and p\n",
    "t, p = stats.ttest_ind(df[df.trans.str.startswith('manual')].cty, df[df.trans.str.startswith('auto')].cty)\n",
    "t, p"
   ]
  },
  {
   "cell_type": "code",
   "execution_count": 21,
   "id": "ba7311c4",
   "metadata": {},
   "outputs": [
    {
     "data": {
      "text/plain": [
       "True"
      ]
     },
     "execution_count": 21,
     "metadata": {},
     "output_type": "execute_result"
    }
   ],
   "source": [
    "# Decide\n",
    "t > 0 and p < .05"
   ]
  },
  {
   "cell_type": "markdown",
   "id": "aaacac4c",
   "metadata": {},
   "source": [
    "#### We reject the null hypothesis, manual cars get statistically-significant better gas mileage than automatic cars."
   ]
  },
  {
   "cell_type": "code",
   "execution_count": 22,
   "id": "7cba781a",
   "metadata": {},
   "outputs": [
    {
     "data": {
      "text/plain": [
       "MannwhitneyuResult(statistic=3814.5, pvalue=2.1320221166439075e-06)"
      ]
     },
     "execution_count": 22,
     "metadata": {},
     "output_type": "execute_result"
    }
   ],
   "source": [
    "# Safe test\n",
    "stats.mannwhitneyu(df[df.trans.str.startswith('manual')].cty, df[df.trans.str.startswith('auto')].cty)"
   ]
  },
  {
   "cell_type": "code",
   "execution_count": null,
   "id": "2ebf9f5a",
   "metadata": {},
   "outputs": [],
   "source": []
  }
 ],
 "metadata": {
  "kernelspec": {
   "display_name": "Python 3",
   "language": "python",
   "name": "python3"
  },
  "language_info": {
   "codemirror_mode": {
    "name": "ipython",
    "version": 3
   },
   "file_extension": ".py",
   "mimetype": "text/x-python",
   "name": "python",
   "nbconvert_exporter": "python",
   "pygments_lexer": "ipython3",
   "version": "3.8.8"
  }
 },
 "nbformat": 4,
 "nbformat_minor": 5
}
