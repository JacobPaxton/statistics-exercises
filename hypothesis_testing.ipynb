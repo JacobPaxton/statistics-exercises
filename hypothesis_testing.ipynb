{
 "cells": [
  {
   "cell_type": "markdown",
   "id": "962adb93",
   "metadata": {},
   "source": [
    "# Hypothesis Testing\n",
    "### For each of the following questions, formulate a null and alternative hypothesis (be as specific as you can be), then give an example of what a true positive, true negative, type I and type II errors would look like. Note that some of the questions are intentionally phrased in a vague way. It is your job to reword these as more precise questions that could be tested."
   ]
  },
  {
   "cell_type": "markdown",
   "id": "2c58544e",
   "metadata": {},
   "source": [
    "## Has the network latency gone up since we switched internet service providers?\n",
    "### Null Hypothesis\n",
    "- The network latency has gone down or remained constant since switching providers\n",
    "\n",
    "### Alt Hypothesis\n",
    "- The network latency has gone up since switching\n",
    "\n",
    "### True positive\n",
    "- We reject the null hypothesis, the network latency indeed went up\n",
    "\n",
    "### True negative\n",
    "- We accept the null hypothesis, the network latency did not go up\n",
    "\n",
    "### Type I\n",
    "- The network latency appeared to go up, but did not.\n",
    "\n",
    "### Type II\n",
    "- The network latency did not appear to go up, but it did.\n"
   ]
  },
  {
   "cell_type": "markdown",
   "id": "eb454b4e",
   "metadata": {},
   "source": [
    "## Is the website redesign any good?\n",
    "### Null Hypothesis\n",
    "- The website redesign negatively or did not affect customer retention\n",
    "\n",
    "### Alt Hypothesis\n",
    "- The website redesign positively impacted customer retention\n",
    "\n",
    "### True positive\n",
    "- We reject the null hypothesis, The website redesign indeed improved customer retention\n",
    "\n",
    "### True negative\n",
    "- We accept the null hypothesis, The website redesign did not improve customer retention\n",
    "\n",
    "### Type I\n",
    "- The website redesign appeared to improve customer retention, but did not.\n",
    "\n",
    "### Type II\n",
    "- The website redesign did not appear to improve customer retention, but it did."
   ]
  },
  {
   "cell_type": "markdown",
   "id": "0adee004",
   "metadata": {},
   "source": [
    "## Is our television ad driving more sales?\n",
    "### Null Hypothesis\n",
    "- Our ad is not driving or not affecting sales\n",
    "\n",
    "### Alt Hypothesis\n",
    "- Our ad is driving more sales\n",
    "\n",
    "### True positive\n",
    "- We reject the null hypothesis, our ad indeed drove more sales\n",
    "\n",
    "### True negative\n",
    "- We accept the null hypothesis, our ad did not drive more sales\n",
    "\n",
    "### Type I\n",
    "- Our ad appeared to drive more sales, but did not.\n",
    "\n",
    "### Type II\n",
    "- Our ad did not appear to drive more sales, but did."
   ]
  },
  {
   "cell_type": "markdown",
   "id": "8c8c9064",
   "metadata": {},
   "source": [
    "# T-Test Exercises"
   ]
  },
  {
   "cell_type": "markdown",
   "id": "450dc9db",
   "metadata": {},
   "source": [
    "Ace Realty wants to determine whether the average time it takes to sell homes is different for its two offices. A sample of 40 sales from office #1 revealed a mean of 90 days and a standard deviation of 15 days. A sample of 50 sales from office #2 revealed a mean of 100 days and a standard deviation of 20 days. Use a .05 level of significance.\n",
    "\n",
    "Load the mpg dataset and use it to answer the following questions:\n",
    "\n",
    "Is there a difference in fuel-efficiency in cars from 2008 vs 1999?\n",
    "Are compact cars more fuel-efficient than the average car?\n",
    "Do manual cars get better gas mileage than automatic cars?"
   ]
  },
  {
   "cell_type": "code",
   "execution_count": 1,
   "id": "0c599cd4",
   "metadata": {},
   "outputs": [],
   "source": [
    "from pydataset import data\n",
    "from scipy import stats\n",
    "import numpy as np\n",
    "import pandas as pd\n",
    "import matplotlib.pyplot as plt\n",
    "import seaborn as sns"
   ]
  },
  {
   "cell_type": "markdown",
   "id": "f637a092",
   "metadata": {},
   "source": [
    "## Ace Realty"
   ]
  },
  {
   "cell_type": "code",
   "execution_count": 2,
   "id": "e0820fd8",
   "metadata": {},
   "outputs": [],
   "source": [
    "# Ace Realty wants to determine whether the average time it takes to sell homes is different for its two offices.\n",
    "# Use a .05 level of significance.\n",
    "# A sample of 40 sales from office #1 revealed a mean of 90 days and a standard deviation of 15 days. \n",
    "# A sample of 50 sales from office #2 revealed a mean of 100 days and a standard deviation of 20 days. \n",
    "office1 = stats.norm(90, 15).rvs(40)\n",
    "office2 = stats.norm(100, 20).rvs(50)"
   ]
  },
  {
   "cell_type": "code",
   "execution_count": 3,
   "id": "433bce3f",
   "metadata": {},
   "outputs": [
    {
     "data": {
      "text/plain": [
       "(array([2., 8., 6., 4., 5., 3., 7., 2., 1., 2.]),\n",
       " array([ 57.61876518,  64.4957146 ,  71.37266402,  78.24961344,\n",
       "         85.12656286,  92.00351228,  98.8804617 , 105.75741112,\n",
       "        112.63436054, 119.51130996, 126.38825938]),\n",
       " <BarContainer object of 10 artists>)"
      ]
     },
     "execution_count": 3,
     "metadata": {},
     "output_type": "execute_result"
    },
    {
     "data": {
      "image/png": "[encoded data removed]",
      "text/plain": [
       "<Figure size 432x288 with 1 Axes>"
      ]
     },
     "metadata": {
      "needs_background": "light"
     },
     "output_type": "display_data"
    }
   ],
   "source": [
    "# Plot the distributions.\n",
    "plt.hist(office2)\n",
    "plt.hist(office1)"
   ]
  },
  {
   "cell_type": "code",
   "execution_count": 4,
   "id": "a8bc7e06",
   "metadata": {},
   "outputs": [
    {
     "data": {
      "text/plain": [
       "(290.3065662040558, 326.66199042135156)"
      ]
     },
     "execution_count": 4,
     "metadata": {},
     "output_type": "execute_result"
    }
   ],
   "source": [
    "# Null: H_0 = No difference, H_a = Difference\n",
    "# alpha: .05\n",
    "# Verify: Independent variables, normal distribution, equal variance...\n",
    "office1.var(), office2.var()"
   ]
  },
  {
   "cell_type": "code",
   "execution_count": 5,
   "id": "99551de6",
   "metadata": {},
   "outputs": [
    {
     "data": {
      "text/plain": [
       "(-4.138716559699031, 8.148389621184644e-05)"
      ]
     },
     "execution_count": 5,
     "metadata": {},
     "output_type": "execute_result"
    }
   ],
   "source": [
    "# Variance is not equal\n",
    "# Calculate t and p\n",
    "t, p = stats.ttest_ind(office1, office2, equal_var=False)\n",
    "t, p "
   ]
  },
  {
   "cell_type": "code",
   "execution_count": 6,
   "id": "8913264f",
   "metadata": {},
   "outputs": [
    {
     "data": {
      "text/plain": [
       "True"
      ]
     },
     "execution_count": 6,
     "metadata": {},
     "output_type": "execute_result"
    }
   ],
   "source": [
    "# Decide\n",
    "p/2 < .05"
   ]
  },
  {
   "cell_type": "markdown",
   "id": "8d80c145",
   "metadata": {},
   "source": [
    "#### We reject the null hypothesis, the difference between Office 1 and Office 2 is statistically significant."
   ]
  },
  {
   "cell_type": "code",
   "execution_count": 7,
   "id": "8b436fe2",
   "metadata": {},
   "outputs": [
    {
     "data": {
      "text/plain": [
       "MannwhitneyuResult(statistic=539.0, pvalue=9.228485738170144e-05)"
      ]
     },
     "execution_count": 7,
     "metadata": {},
     "output_type": "execute_result"
    }
   ],
   "source": [
    "# Safe test\n",
    "stats.mannwhitneyu(office1, office2)"
   ]
  },
  {
   "cell_type": "markdown",
   "id": "3f92b7dd",
   "metadata": {},
   "source": [
    "## mpg dataset"
   ]
  },
  {
   "cell_type": "code",
   "execution_count": 8,
   "id": "78406e6b",
   "metadata": {},
   "outputs": [
    {
     "data": {
      "text/html": [
       "<div>\n",
       "<style scoped>\n",
       "    .dataframe tbody tr th:only-of-type {\n",
       "        vertical-align: middle;\n",
       "    }\n",
       "\n",
       "    .dataframe tbody tr th {\n",
       "        vertical-align: top;\n",
       "    }\n",
       "\n",
       "    .dataframe thead th {\n",
       "        text-align: right;\n",
       "    }\n",
       "</style>\n",
       "<table border=\"1\" class=\"dataframe\">\n",
       "  <thead>\n",
       "    <tr style=\"text-align: right;\">\n",
       "      <th></th>\n",
       "      <th>manufacturer</th>\n",
       "      <th>model</th>\n",
       "      <th>displ</th>\n",
       "      <th>year</th>\n",
       "      <th>cyl</th>\n",
       "      <th>trans</th>\n",
       "      <th>drv</th>\n",
       "      <th>cty</th>\n",
       "      <th>hwy</th>\n",
       "      <th>fl</th>\n",
       "      <th>class</th>\n",
       "    </tr>\n",
       "  </thead>\n",
       "  <tbody>\n",
       "    <tr>\n",
       "      <th>1</th>\n",
       "      <td>audi</td>\n",
       "      <td>a4</td>\n",
       "      <td>1.8</td>\n",
       "      <td>1999</td>\n",
       "      <td>4</td>\n",
       "      <td>auto(l5)</td>\n",
       "      <td>f</td>\n",
       "      <td>18</td>\n",
       "      <td>29</td>\n",
       "      <td>p</td>\n",
       "      <td>compact</td>\n",
       "    </tr>\n",
       "    <tr>\n",
       "      <th>2</th>\n",
       "      <td>audi</td>\n",
       "      <td>a4</td>\n",
       "      <td>1.8</td>\n",
       "      <td>1999</td>\n",
       "      <td>4</td>\n",
       "      <td>manual(m5)</td>\n",
       "      <td>f</td>\n",
       "      <td>21</td>\n",
       "      <td>29</td>\n",
       "      <td>p</td>\n",
       "      <td>compact</td>\n",
       "    </tr>\n",
       "    <tr>\n",
       "      <th>3</th>\n",
       "      <td>audi</td>\n",
       "      <td>a4</td>\n",
       "      <td>2.0</td>\n",
       "      <td>2008</td>\n",
       "      <td>4</td>\n",
       "      <td>manual(m6)</td>\n",
       "      <td>f</td>\n",
       "      <td>20</td>\n",
       "      <td>31</td>\n",
       "      <td>p</td>\n",
       "      <td>compact</td>\n",
       "    </tr>\n",
       "    <tr>\n",
       "      <th>4</th>\n",
       "      <td>audi</td>\n",
       "      <td>a4</td>\n",
       "      <td>2.0</td>\n",
       "      <td>2008</td>\n",
       "      <td>4</td>\n",
       "      <td>auto(av)</td>\n",
       "      <td>f</td>\n",
       "      <td>21</td>\n",
       "      <td>30</td>\n",
       "      <td>p</td>\n",
       "      <td>compact</td>\n",
       "    </tr>\n",
       "    <tr>\n",
       "      <th>5</th>\n",
       "      <td>audi</td>\n",
       "      <td>a4</td>\n",
       "      <td>2.8</td>\n",
       "      <td>1999</td>\n",
       "      <td>6</td>\n",
       "      <td>auto(l5)</td>\n",
       "      <td>f</td>\n",
       "      <td>16</td>\n",
       "      <td>26</td>\n",
       "      <td>p</td>\n",
       "      <td>compact</td>\n",
       "    </tr>\n",
       "  </tbody>\n",
       "</table>\n",
       "</div>"
      ],
      "text/plain": [
       "  manufacturer model  displ  year  cyl       trans drv  cty  hwy fl    class\n",
       "1         audi    a4    1.8  1999    4    auto(l5)   f   18   29  p  compact\n",
       "2         audi    a4    1.8  1999    4  manual(m5)   f   21   29  p  compact\n",
       "3         audi    a4    2.0  2008    4  manual(m6)   f   20   31  p  compact\n",
       "4         audi    a4    2.0  2008    4    auto(av)   f   21   30  p  compact\n",
       "5         audi    a4    2.8  1999    6    auto(l5)   f   16   26  p  compact"
      ]
     },
     "execution_count": 8,
     "metadata": {},
     "output_type": "execute_result"
    }
   ],
   "source": [
    "# Load the mpg dataset\n",
    "df = data(\"mpg\")\n",
    "df.head()"
   ]
  },
  {
   "cell_type": "markdown",
   "id": "ac84f7e4",
   "metadata": {},
   "source": [
    "### Is there a difference in fuel-efficiency in cars from 2008 vs 1999?"
   ]
  },
  {
   "cell_type": "code",
   "execution_count": 9,
   "id": "23ba2357",
   "metadata": {},
   "outputs": [
    {
     "data": {
      "text/plain": [
       "(array([ 5., 12., 24., 17., 16., 20., 16.,  3.,  3.,  1.]),\n",
       " array([ 9. , 10.9, 12.8, 14.7, 16.6, 18.5, 20.4, 22.3, 24.2, 26.1, 28. ]),\n",
       " <BarContainer object of 10 artists>)"
      ]
     },
     "execution_count": 9,
     "metadata": {},
     "output_type": "execute_result"
    },
    {
     "data": {
      "image/png": "[encoded data removed]",
      "text/plain": [
       "<Figure size 432x288 with 1 Axes>"
      ]
     },
     "metadata": {
      "needs_background": "light"
     },
     "output_type": "display_data"
    }
   ],
   "source": [
    "# Plot the distributions\n",
    "plt.hist(df[df.year == 1999].cty)\n",
    "plt.hist(df[df.year == 2008].cty)"
   ]
  },
  {
   "cell_type": "code",
   "execution_count": 10,
   "id": "67cf09a8",
   "metadata": {},
   "outputs": [
    {
     "data": {
      "text/plain": [
       "(19.879015620394938, 16.452844090775127)"
      ]
     },
     "execution_count": 10,
     "metadata": {},
     "output_type": "execute_result"
    }
   ],
   "source": [
    "# Establish hypothesis: H_0 = No, H_a = Yes\n",
    "# Set alpha: alpha = .05\n",
    "# Verify assumptions: Normal-ish distribution, Independent variables, equal variance...\n",
    "df[df.year == 1999].cty.var(), df[df.year == 2008].cty.var()"
   ]
  },
  {
   "cell_type": "code",
   "execution_count": 11,
   "id": "279f0188",
   "metadata": {},
   "outputs": [
    {
     "data": {
      "text/plain": [
       "(0.5674988409997608, 0.5709240495406107)"
      ]
     },
     "execution_count": 11,
     "metadata": {},
     "output_type": "execute_result"
    }
   ],
   "source": [
    "# Compute t and p\n",
    "t, p = stats.ttest_ind(df[df.year == 1999].cty, df[df.year == 2008].cty)\n",
    "t, p"
   ]
  },
  {
   "cell_type": "code",
   "execution_count": 12,
   "id": "cc1d6b47",
   "metadata": {},
   "outputs": [
    {
     "data": {
      "text/plain": [
       "False"
      ]
     },
     "execution_count": 12,
     "metadata": {},
     "output_type": "execute_result"
    }
   ],
   "source": [
    "p/2 < .05"
   ]
  },
  {
   "cell_type": "markdown",
   "id": "c6f7e575",
   "metadata": {},
   "source": [
    "#### We accept the null hypothesis, there is no statistical significance between the fuel efficency of cars made in 1999 versus 2008."
   ]
  },
  {
   "cell_type": "code",
   "execution_count": 13,
   "id": "bb2c7494",
   "metadata": {},
   "outputs": [
    {
     "data": {
      "text/plain": [
       "MannwhitneyuResult(statistic=6790.5, pvalue=0.45870813783633435)"
      ]
     },
     "execution_count": 13,
     "metadata": {},
     "output_type": "execute_result"
    }
   ],
   "source": [
    "# Safe test\n",
    "stats.mannwhitneyu(df[df.year == 1999].cty, df[df.year == 2008].cty)"
   ]
  },
  {
   "cell_type": "markdown",
   "id": "3feb3483",
   "metadata": {},
   "source": [
    "### Are compact cars more fuel-efficient than the average car?"
   ]
  },
  {
   "cell_type": "code",
   "execution_count": 14,
   "id": "e21b100e",
   "metadata": {},
   "outputs": [
    {
     "data": {
      "text/plain": [
       "(array([ 5., 11., 10., 15.,  0.,  2.,  2.,  1.,  0.,  1.]),\n",
       " array([15. , 16.8, 18.6, 20.4, 22.2, 24. , 25.8, 27.6, 29.4, 31.2, 33. ]),\n",
       " <BarContainer object of 10 artists>)"
      ]
     },
     "execution_count": 14,
     "metadata": {},
     "output_type": "execute_result"
    },
    {
     "data": {
      "image/png": "[encoded data removed]",
      "text/plain": [
       "<Figure size 432x288 with 1 Axes>"
      ]
     },
     "metadata": {
      "needs_background": "light"
     },
     "output_type": "display_data"
    }
   ],
   "source": [
    "# Plot the distributions\n",
    "plt.hist(df.cty)\n",
    "plt.hist(df[df['class'] == 'compact'].cty)"
   ]
  },
  {
   "cell_type": "code",
   "execution_count": 15,
   "id": "216a5801",
   "metadata": {},
   "outputs": [
    {
     "data": {
      "text/plain": [
       "(11.46160962072155, 18.1130736216573)"
      ]
     },
     "execution_count": 15,
     "metadata": {},
     "output_type": "execute_result"
    }
   ],
   "source": [
    "# Establish hypothesis: H_0 = No, H_a = Yes\n",
    "# Set alpha: alpha = .05\n",
    "# Verify assumptions: Normal-ish distribution\n",
    "df[df['class'] == 'compact'].cty.var(), df.cty.var()"
   ]
  },
  {
   "cell_type": "code",
   "execution_count": 16,
   "id": "86f01040",
   "metadata": {},
   "outputs": [
    {
     "data": {
      "text/plain": [
       "(6.6191042534408915, 3.4017448216394005e-08)"
      ]
     },
     "execution_count": 16,
     "metadata": {},
     "output_type": "execute_result"
    }
   ],
   "source": [
    "# Compute t and p\n",
    "t, p = stats.ttest_1samp(df[df['class'] == 'compact'].cty, df.cty.mean())\n",
    "t, p"
   ]
  },
  {
   "cell_type": "code",
   "execution_count": 17,
   "id": "8e04a212",
   "metadata": {},
   "outputs": [
    {
     "data": {
      "text/plain": [
       "True"
      ]
     },
     "execution_count": 17,
     "metadata": {},
     "output_type": "execute_result"
    }
   ],
   "source": [
    "t > 0 and p < 0.05"
   ]
  },
  {
   "cell_type": "markdown",
   "id": "378fc36d",
   "metadata": {},
   "source": [
    "#### We reject the null hypothesis, compact cars have statistically-significant greater fuel efficiency than average fuel efficiency of all cars."
   ]
  },
  {
   "cell_type": "markdown",
   "id": "a057cd8c",
   "metadata": {},
   "source": [
    "### Do manual cars get better gas mileage than automatic cars?"
   ]
  },
  {
   "cell_type": "code",
   "execution_count": 18,
   "id": "d53a7c64",
   "metadata": {},
   "outputs": [
    {
     "data": {
      "text/plain": [
       "<AxesSubplot:>"
      ]
     },
     "execution_count": 18,
     "metadata": {},
     "output_type": "execute_result"
    },
    {
     "data": {
      "image/png": "[encoded data removed]",
      "text/plain": [
       "<Figure size 432x288 with 1 Axes>"
      ]
     },
     "metadata": {
      "needs_background": "light"
     },
     "output_type": "display_data"
    }
   ],
   "source": [
    "# Plot the distributions\n",
    "df[df.trans.str.startswith('auto')].cty.hist()\n",
    "df[df.trans.str.startswith('manual')].cty.hist()"
   ]
  },
  {
   "cell_type": "code",
   "execution_count": 19,
   "id": "32a5794c",
   "metadata": {},
   "outputs": [
    {
     "data": {
      "text/plain": [
       "(14.81308182263596, 20.14319890635681)"
      ]
     },
     "execution_count": 19,
     "metadata": {},
     "output_type": "execute_result"
    }
   ],
   "source": [
    "# Null: H_0 = No, H_a = Yes\n",
    "# alpha = .05\n",
    "# Verify: Independent variables, normal distribution, equal variance...\n",
    "df[df.trans.str.startswith('auto')].cty.var(), df[df.trans.str.startswith('manual')].cty.var()"
   ]
  },
  {
   "cell_type": "code",
   "execution_count": 20,
   "id": "e0ebf30e",
   "metadata": {},
   "outputs": [
    {
     "data": {
      "text/plain": [
       "(4.781718413818975, 3.088973514167085e-06)"
      ]
     },
     "execution_count": 20,
     "metadata": {},
     "output_type": "execute_result"
    }
   ],
   "source": [
    "# Calculate t and p\n",
    "t, p = stats.ttest_ind(df[df.trans.str.startswith('manual')].cty, df[df.trans.str.startswith('auto')].cty)\n",
    "t, p"
   ]
  },
  {
   "cell_type": "code",
   "execution_count": 21,
   "id": "ba7311c4",
   "metadata": {},
   "outputs": [
    {
     "data": {
      "text/plain": [
       "True"
      ]
     },
     "execution_count": 21,
     "metadata": {},
     "output_type": "execute_result"
    }
   ],
   "source": [
    "# Decide\n",
    "t > 0 and p < .05"
   ]
  },
  {
   "cell_type": "markdown",
   "id": "aaacac4c",
   "metadata": {},
   "source": [
    "#### We reject the null hypothesis, manual cars get statistically-significant better gas mileage than automatic cars."
   ]
  },
  {
   "cell_type": "code",
   "execution_count": 22,
   "id": "7cba781a",
   "metadata": {},
   "outputs": [
    {
     "data": {
      "text/plain": [
       "MannwhitneyuResult(statistic=3814.5, pvalue=2.1320221166439075e-06)"
      ]
     },
     "execution_count": 22,
     "metadata": {},
     "output_type": "execute_result"
    }
   ],
   "source": [
    "# Safe test\n",
    "stats.mannwhitneyu(df[df.trans.str.startswith('manual')].cty, df[df.trans.str.startswith('auto')].cty)"
   ]
  },
  {
   "cell_type": "markdown",
   "id": "be900eb3",
   "metadata": {},
   "source": [
    "# Correlations"
   ]
  },
  {
   "cell_type": "markdown",
   "id": "b34b8e96",
   "metadata": {},
   "source": [
    "Use the telco_churn data. \n",
    "- Does tenure correlate with monthly charges? \n",
    "- Total charges? \n",
    "- What happens if you control for phone and internet service?\n",
    "\n",
    "Use the employees database.\n",
    "- Is there a relationship between how long an employee has been with the company and their salary?\n",
    "- Is there a relationship between how long an employee has been with the company and the number of titles they have had?\n",
    "\n",
    "Use the sleepstudy data. \n",
    "- Is there a relationship between days and reaction time?"
   ]
  },
  {
   "cell_type": "markdown",
   "id": "3c495cad",
   "metadata": {},
   "source": [
    "## telco_churn data"
   ]
  },
  {
   "cell_type": "code",
   "execution_count": 23,
   "id": "1cd14a38",
   "metadata": {},
   "outputs": [
    {
     "data": {
      "text/html": [
       "<div>\n",
       "<style scoped>\n",
       "    .dataframe tbody tr th:only-of-type {\n",
       "        vertical-align: middle;\n",
       "    }\n",
       "\n",
       "    .dataframe tbody tr th {\n",
       "        vertical-align: top;\n",
       "    }\n",
       "\n",
       "    .dataframe thead th {\n",
       "        text-align: right;\n",
       "    }\n",
       "</style>\n",
       "<table border=\"1\" class=\"dataframe\">\n",
       "  <thead>\n",
       "    <tr style=\"text-align: right;\">\n",
       "      <th></th>\n",
       "      <th>customerID</th>\n",
       "      <th>gender</th>\n",
       "      <th>SeniorCitizen</th>\n",
       "      <th>Partner</th>\n",
       "      <th>Dependents</th>\n",
       "      <th>tenure</th>\n",
       "      <th>PhoneService</th>\n",
       "      <th>MultipleLines</th>\n",
       "      <th>InternetService</th>\n",
       "      <th>OnlineSecurity</th>\n",
       "      <th>...</th>\n",
       "      <th>DeviceProtection</th>\n",
       "      <th>TechSupport</th>\n",
       "      <th>StreamingTV</th>\n",
       "      <th>StreamingMovies</th>\n",
       "      <th>Contract</th>\n",
       "      <th>PaperlessBilling</th>\n",
       "      <th>PaymentMethod</th>\n",
       "      <th>MonthlyCharges</th>\n",
       "      <th>TotalCharges</th>\n",
       "      <th>Churn</th>\n",
       "    </tr>\n",
       "  </thead>\n",
       "  <tbody>\n",
       "    <tr>\n",
       "      <th>0</th>\n",
       "      <td>7590-VHVEG</td>\n",
       "      <td>Female</td>\n",
       "      <td>0</td>\n",
       "      <td>Yes</td>\n",
       "      <td>No</td>\n",
       "      <td>1</td>\n",
       "      <td>No</td>\n",
       "      <td>No phone service</td>\n",
       "      <td>DSL</td>\n",
       "      <td>No</td>\n",
       "      <td>...</td>\n",
       "      <td>No</td>\n",
       "      <td>No</td>\n",
       "      <td>No</td>\n",
       "      <td>No</td>\n",
       "      <td>Month-to-month</td>\n",
       "      <td>Yes</td>\n",
       "      <td>Electronic check</td>\n",
       "      <td>29.85</td>\n",
       "      <td>29.85</td>\n",
       "      <td>No</td>\n",
       "    </tr>\n",
       "    <tr>\n",
       "      <th>1</th>\n",
       "      <td>5575-GNVDE</td>\n",
       "      <td>Male</td>\n",
       "      <td>0</td>\n",
       "      <td>No</td>\n",
       "      <td>No</td>\n",
       "      <td>34</td>\n",
       "      <td>Yes</td>\n",
       "      <td>No</td>\n",
       "      <td>DSL</td>\n",
       "      <td>Yes</td>\n",
       "      <td>...</td>\n",
       "      <td>Yes</td>\n",
       "      <td>No</td>\n",
       "      <td>No</td>\n",
       "      <td>No</td>\n",
       "      <td>One year</td>\n",
       "      <td>No</td>\n",
       "      <td>Mailed check</td>\n",
       "      <td>56.95</td>\n",
       "      <td>1889.50</td>\n",
       "      <td>No</td>\n",
       "    </tr>\n",
       "    <tr>\n",
       "      <th>2</th>\n",
       "      <td>3668-QPYBK</td>\n",
       "      <td>Male</td>\n",
       "      <td>0</td>\n",
       "      <td>No</td>\n",
       "      <td>No</td>\n",
       "      <td>2</td>\n",
       "      <td>Yes</td>\n",
       "      <td>No</td>\n",
       "      <td>DSL</td>\n",
       "      <td>Yes</td>\n",
       "      <td>...</td>\n",
       "      <td>No</td>\n",
       "      <td>No</td>\n",
       "      <td>No</td>\n",
       "      <td>No</td>\n",
       "      <td>Month-to-month</td>\n",
       "      <td>Yes</td>\n",
       "      <td>Mailed check</td>\n",
       "      <td>53.85</td>\n",
       "      <td>108.15</td>\n",
       "      <td>Yes</td>\n",
       "    </tr>\n",
       "    <tr>\n",
       "      <th>3</th>\n",
       "      <td>7795-CFOCW</td>\n",
       "      <td>Male</td>\n",
       "      <td>0</td>\n",
       "      <td>No</td>\n",
       "      <td>No</td>\n",
       "      <td>45</td>\n",
       "      <td>No</td>\n",
       "      <td>No phone service</td>\n",
       "      <td>DSL</td>\n",
       "      <td>Yes</td>\n",
       "      <td>...</td>\n",
       "      <td>Yes</td>\n",
       "      <td>Yes</td>\n",
       "      <td>No</td>\n",
       "      <td>No</td>\n",
       "      <td>One year</td>\n",
       "      <td>No</td>\n",
       "      <td>Bank transfer (automatic)</td>\n",
       "      <td>42.30</td>\n",
       "      <td>1840.75</td>\n",
       "      <td>No</td>\n",
       "    </tr>\n",
       "    <tr>\n",
       "      <th>4</th>\n",
       "      <td>9237-HQITU</td>\n",
       "      <td>Female</td>\n",
       "      <td>0</td>\n",
       "      <td>No</td>\n",
       "      <td>No</td>\n",
       "      <td>2</td>\n",
       "      <td>Yes</td>\n",
       "      <td>No</td>\n",
       "      <td>Fiber optic</td>\n",
       "      <td>No</td>\n",
       "      <td>...</td>\n",
       "      <td>No</td>\n",
       "      <td>No</td>\n",
       "      <td>No</td>\n",
       "      <td>No</td>\n",
       "      <td>Month-to-month</td>\n",
       "      <td>Yes</td>\n",
       "      <td>Electronic check</td>\n",
       "      <td>70.70</td>\n",
       "      <td>151.65</td>\n",
       "      <td>Yes</td>\n",
       "    </tr>\n",
       "  </tbody>\n",
       "</table>\n",
       "<p>5 rows × 21 columns</p>\n",
       "</div>"
      ],
      "text/plain": [
       "   customerID  gender  SeniorCitizen Partner Dependents  tenure PhoneService  \\\n",
       "0  7590-VHVEG  Female              0     Yes         No       1           No   \n",
       "1  5575-GNVDE    Male              0      No         No      34          Yes   \n",
       "2  3668-QPYBK    Male              0      No         No       2          Yes   \n",
       "3  7795-CFOCW    Male              0      No         No      45           No   \n",
       "4  9237-HQITU  Female              0      No         No       2          Yes   \n",
       "\n",
       "      MultipleLines InternetService OnlineSecurity  ... DeviceProtection  \\\n",
       "0  No phone service             DSL             No  ...               No   \n",
       "1                No             DSL            Yes  ...              Yes   \n",
       "2                No             DSL            Yes  ...               No   \n",
       "3  No phone service             DSL            Yes  ...              Yes   \n",
       "4                No     Fiber optic             No  ...               No   \n",
       "\n",
       "  TechSupport StreamingTV StreamingMovies        Contract PaperlessBilling  \\\n",
       "0          No          No              No  Month-to-month              Yes   \n",
       "1          No          No              No        One year               No   \n",
       "2          No          No              No  Month-to-month              Yes   \n",
       "3         Yes          No              No        One year               No   \n",
       "4          No          No              No  Month-to-month              Yes   \n",
       "\n",
       "               PaymentMethod MonthlyCharges  TotalCharges  Churn  \n",
       "0           Electronic check          29.85         29.85     No  \n",
       "1               Mailed check          56.95       1889.50     No  \n",
       "2               Mailed check          53.85        108.15    Yes  \n",
       "3  Bank transfer (automatic)          42.30       1840.75     No  \n",
       "4           Electronic check          70.70        151.65    Yes  \n",
       "\n",
       "[5 rows x 21 columns]"
      ]
     },
     "execution_count": 23,
     "metadata": {},
     "output_type": "execute_result"
    }
   ],
   "source": [
    "df = pd.read_csv('Cust_Churn_Telco.csv')\n",
    "df.head()"
   ]
  },
  {
   "cell_type": "markdown",
   "id": "0355f5de",
   "metadata": {},
   "source": [
    "### Does tenure correlate with monthly charges?"
   ]
  },
  {
   "cell_type": "code",
   "execution_count": 24,
   "id": "2dedf86f",
   "metadata": {},
   "outputs": [
    {
     "data": {
      "text/plain": [
       "(0.2478998562861525, 4.094044991483017e-99)"
      ]
     },
     "execution_count": 24,
     "metadata": {},
     "output_type": "execute_result"
    }
   ],
   "source": [
    "corr, p = stats.pearsonr(df.tenure, df.MonthlyCharges)\n",
    "corr, p"
   ]
  },
  {
   "cell_type": "code",
   "execution_count": 25,
   "id": "37ed6741",
   "metadata": {},
   "outputs": [
    {
     "data": {
      "text/plain": [
       "True"
      ]
     },
     "execution_count": 25,
     "metadata": {},
     "output_type": "execute_result"
    }
   ],
   "source": [
    "p < .05"
   ]
  },
  {
   "cell_type": "markdown",
   "id": "8a54c4ec",
   "metadata": {},
   "source": [
    "### Total charges?"
   ]
  },
  {
   "cell_type": "code",
   "execution_count": 26,
   "id": "bb9a896b",
   "metadata": {},
   "outputs": [
    {
     "data": {
      "text/plain": [
       "(0.8258804609332093, 0.0)"
      ]
     },
     "execution_count": 26,
     "metadata": {},
     "output_type": "execute_result"
    }
   ],
   "source": [
    "corr, p = stats.pearsonr(df[df.TotalCharges > 0].tenure, df[df.TotalCharges > 0].TotalCharges)\n",
    "corr, p"
   ]
  },
  {
   "cell_type": "code",
   "execution_count": 27,
   "id": "74203b7c",
   "metadata": {},
   "outputs": [
    {
     "data": {
      "text/plain": [
       "True"
      ]
     },
     "execution_count": 27,
     "metadata": {},
     "output_type": "execute_result"
    }
   ],
   "source": [
    "p < .05"
   ]
  },
  {
   "cell_type": "markdown",
   "id": "2d178e55",
   "metadata": {},
   "source": [
    "### What happens if you control for phone and internet service?"
   ]
  },
  {
   "cell_type": "markdown",
   "id": "cdab6568",
   "metadata": {},
   "source": [
    "#### With phone service"
   ]
  },
  {
   "cell_type": "code",
   "execution_count": 28,
   "id": "cd17f0c7",
   "metadata": {},
   "outputs": [
    {
     "data": {
      "text/plain": [
       "(0.2453889858536324, 7.117871077925186e-88)"
      ]
     },
     "execution_count": 28,
     "metadata": {},
     "output_type": "execute_result"
    }
   ],
   "source": [
    "corr, p = stats.pearsonr(df[df.PhoneService == 'Yes'].tenure, df[df.PhoneService == 'Yes'].MonthlyCharges)\n",
    "corr, p"
   ]
  },
  {
   "cell_type": "code",
   "execution_count": 29,
   "id": "9d635728",
   "metadata": {},
   "outputs": [
    {
     "data": {
      "text/plain": [
       "True"
      ]
     },
     "execution_count": 29,
     "metadata": {},
     "output_type": "execute_result"
    }
   ],
   "source": [
    "p < .05"
   ]
  },
  {
   "cell_type": "markdown",
   "id": "14db65ee",
   "metadata": {},
   "source": [
    "#### Without phone service"
   ]
  },
  {
   "cell_type": "code",
   "execution_count": 30,
   "id": "cb14c37a",
   "metadata": {},
   "outputs": [
    {
     "data": {
      "text/plain": [
       "True"
      ]
     },
     "execution_count": 30,
     "metadata": {},
     "output_type": "execute_result"
    }
   ],
   "source": [
    "corr, p = stats.pearsonr(df[df.PhoneService == 'No'].tenure, df[df.PhoneService == 'No'].MonthlyCharges)\n",
    "p < .05"
   ]
  },
  {
   "cell_type": "markdown",
   "id": "98fdf730",
   "metadata": {},
   "source": [
    "#### DSL"
   ]
  },
  {
   "cell_type": "code",
   "execution_count": 31,
   "id": "3ec8ed3f",
   "metadata": {},
   "outputs": [
    {
     "data": {
      "text/plain": [
       "True"
      ]
     },
     "execution_count": 31,
     "metadata": {},
     "output_type": "execute_result"
    }
   ],
   "source": [
    "corr, p = stats.pearsonr(df[df.InternetService == 'DSL'].tenure, df[df.InternetService == 'DSL'].MonthlyCharges)\n",
    "p < .05"
   ]
  },
  {
   "cell_type": "markdown",
   "id": "f246f0be",
   "metadata": {},
   "source": [
    "#### Fiber Optic"
   ]
  },
  {
   "cell_type": "code",
   "execution_count": 32,
   "id": "e5176cf1",
   "metadata": {},
   "outputs": [
    {
     "data": {
      "text/plain": [
       "True"
      ]
     },
     "execution_count": 32,
     "metadata": {},
     "output_type": "execute_result"
    }
   ],
   "source": [
    "corr, p = stats.pearsonr(df[df.InternetService == 'Fiber optic'].tenure, df[df.InternetService == 'Fiber optic'].MonthlyCharges)\n",
    "p < .05"
   ]
  },
  {
   "cell_type": "markdown",
   "id": "0e031e56",
   "metadata": {},
   "source": [
    "#### Without internet service"
   ]
  },
  {
   "cell_type": "code",
   "execution_count": 33,
   "id": "b8e54d0f",
   "metadata": {},
   "outputs": [
    {
     "data": {
      "text/plain": [
       "array(['DSL', 'Fiber optic', 'No'], dtype=object)"
      ]
     },
     "execution_count": 33,
     "metadata": {},
     "output_type": "execute_result"
    }
   ],
   "source": [
    "df.InternetService.unique()"
   ]
  },
  {
   "cell_type": "code",
   "execution_count": 34,
   "id": "794cb248",
   "metadata": {},
   "outputs": [
    {
     "data": {
      "text/plain": [
       "True"
      ]
     },
     "execution_count": 34,
     "metadata": {},
     "output_type": "execute_result"
    }
   ],
   "source": [
    "corr, p = stats.pearsonr(df[df.InternetService == 'No'].tenure, df[df.InternetService == 'No'].MonthlyCharges)\n",
    "p < .05"
   ]
  },
  {
   "cell_type": "markdown",
   "id": "7f07c7af",
   "metadata": {},
   "source": [
    "## employees database"
   ]
  },
  {
   "cell_type": "markdown",
   "id": "20f6d3b3",
   "metadata": {},
   "source": [
    "### Is there a relationship between how long an employee has been with the company and their salary?"
   ]
  },
  {
   "cell_type": "code",
   "execution_count": 35,
   "id": "1af178d2",
   "metadata": {},
   "outputs": [],
   "source": [
    "from env import host, username, password\n",
    "def get_db_url(username, hostname, password, db_name):\n",
    "    return f'mysql+pymysql://{username}:{password}@{hostname}/{db_name}'\n",
    "\n",
    "url = get_db_url(username, host, password, 'employees')"
   ]
  },
  {
   "cell_type": "code",
   "execution_count": 36,
   "id": "5e4801e7",
   "metadata": {},
   "outputs": [
    {
     "data": {
      "text/html": [
       "<div>\n",
       "<style scoped>\n",
       "    .dataframe tbody tr th:only-of-type {\n",
       "        vertical-align: middle;\n",
       "    }\n",
       "\n",
       "    .dataframe tbody tr th {\n",
       "        vertical-align: top;\n",
       "    }\n",
       "\n",
       "    .dataframe thead th {\n",
       "        text-align: right;\n",
       "    }\n",
       "</style>\n",
       "<table border=\"1\" class=\"dataframe\">\n",
       "  <thead>\n",
       "    <tr style=\"text-align: right;\">\n",
       "      <th></th>\n",
       "      <th>emp_no</th>\n",
       "      <th>salary</th>\n",
       "      <th>from_date</th>\n",
       "      <th>to_date</th>\n",
       "    </tr>\n",
       "  </thead>\n",
       "  <tbody>\n",
       "    <tr>\n",
       "      <th>0</th>\n",
       "      <td>10001</td>\n",
       "      <td>60117</td>\n",
       "      <td>1986-06-26</td>\n",
       "      <td>1987-06-26</td>\n",
       "    </tr>\n",
       "    <tr>\n",
       "      <th>1</th>\n",
       "      <td>10001</td>\n",
       "      <td>62102</td>\n",
       "      <td>1987-06-26</td>\n",
       "      <td>1988-06-25</td>\n",
       "    </tr>\n",
       "    <tr>\n",
       "      <th>2</th>\n",
       "      <td>10001</td>\n",
       "      <td>66074</td>\n",
       "      <td>1988-06-25</td>\n",
       "      <td>1989-06-25</td>\n",
       "    </tr>\n",
       "    <tr>\n",
       "      <th>3</th>\n",
       "      <td>10001</td>\n",
       "      <td>66596</td>\n",
       "      <td>1989-06-25</td>\n",
       "      <td>1990-06-25</td>\n",
       "    </tr>\n",
       "    <tr>\n",
       "      <th>4</th>\n",
       "      <td>10001</td>\n",
       "      <td>66961</td>\n",
       "      <td>1990-06-25</td>\n",
       "      <td>1991-06-25</td>\n",
       "    </tr>\n",
       "  </tbody>\n",
       "</table>\n",
       "</div>"
      ],
      "text/plain": [
       "   emp_no  salary   from_date     to_date\n",
       "0   10001   60117  1986-06-26  1987-06-26\n",
       "1   10001   62102  1987-06-26  1988-06-25\n",
       "2   10001   66074  1988-06-25  1989-06-25\n",
       "3   10001   66596  1989-06-25  1990-06-25\n",
       "4   10001   66961  1990-06-25  1991-06-25"
      ]
     },
     "execution_count": 36,
     "metadata": {},
     "output_type": "execute_result"
    }
   ],
   "source": [
    "# Pull salaries table with only historical data\n",
    "# Historical data keeps the tenure 'normal' because observation stopped many years ago\n",
    "salaries = pd.read_sql('SELECT * FROM salaries WHERE to_date < curdate()', url)\n",
    "salaries.head()"
   ]
  },
  {
   "cell_type": "code",
   "execution_count": 37,
   "id": "b68eec48",
   "metadata": {},
   "outputs": [
    {
     "data": {
      "text/html": [
       "<div>\n",
       "<style scoped>\n",
       "    .dataframe tbody tr th:only-of-type {\n",
       "        vertical-align: middle;\n",
       "    }\n",
       "\n",
       "    .dataframe tbody tr th {\n",
       "        vertical-align: top;\n",
       "    }\n",
       "\n",
       "    .dataframe thead th {\n",
       "        text-align: right;\n",
       "    }\n",
       "</style>\n",
       "<table border=\"1\" class=\"dataframe\">\n",
       "  <thead>\n",
       "    <tr style=\"text-align: right;\">\n",
       "      <th></th>\n",
       "      <th>emp_no</th>\n",
       "      <th>salary</th>\n",
       "      <th>from_date</th>\n",
       "      <th>to_date</th>\n",
       "    </tr>\n",
       "  </thead>\n",
       "  <tbody>\n",
       "    <tr>\n",
       "      <th>0</th>\n",
       "      <td>10001</td>\n",
       "      <td>60117</td>\n",
       "      <td>1986-06-26</td>\n",
       "      <td>1987-06-26</td>\n",
       "    </tr>\n",
       "    <tr>\n",
       "      <th>1</th>\n",
       "      <td>10001</td>\n",
       "      <td>62102</td>\n",
       "      <td>1987-06-26</td>\n",
       "      <td>1988-06-25</td>\n",
       "    </tr>\n",
       "    <tr>\n",
       "      <th>2</th>\n",
       "      <td>10001</td>\n",
       "      <td>66074</td>\n",
       "      <td>1988-06-25</td>\n",
       "      <td>1989-06-25</td>\n",
       "    </tr>\n",
       "    <tr>\n",
       "      <th>3</th>\n",
       "      <td>10001</td>\n",
       "      <td>66596</td>\n",
       "      <td>1989-06-25</td>\n",
       "      <td>1990-06-25</td>\n",
       "    </tr>\n",
       "    <tr>\n",
       "      <th>4</th>\n",
       "      <td>10001</td>\n",
       "      <td>66961</td>\n",
       "      <td>1990-06-25</td>\n",
       "      <td>1991-06-25</td>\n",
       "    </tr>\n",
       "    <tr>\n",
       "      <th>5</th>\n",
       "      <td>10001</td>\n",
       "      <td>71046</td>\n",
       "      <td>1991-06-25</td>\n",
       "      <td>1992-06-24</td>\n",
       "    </tr>\n",
       "    <tr>\n",
       "      <th>6</th>\n",
       "      <td>10001</td>\n",
       "      <td>74333</td>\n",
       "      <td>1992-06-24</td>\n",
       "      <td>1993-06-24</td>\n",
       "    </tr>\n",
       "    <tr>\n",
       "      <th>7</th>\n",
       "      <td>10001</td>\n",
       "      <td>75286</td>\n",
       "      <td>1993-06-24</td>\n",
       "      <td>1994-06-24</td>\n",
       "    </tr>\n",
       "    <tr>\n",
       "      <th>8</th>\n",
       "      <td>10001</td>\n",
       "      <td>75994</td>\n",
       "      <td>1994-06-24</td>\n",
       "      <td>1995-06-24</td>\n",
       "    </tr>\n",
       "    <tr>\n",
       "      <th>9</th>\n",
       "      <td>10001</td>\n",
       "      <td>76884</td>\n",
       "      <td>1995-06-24</td>\n",
       "      <td>1996-06-23</td>\n",
       "    </tr>\n",
       "    <tr>\n",
       "      <th>10</th>\n",
       "      <td>10001</td>\n",
       "      <td>80013</td>\n",
       "      <td>1996-06-23</td>\n",
       "      <td>1997-06-23</td>\n",
       "    </tr>\n",
       "    <tr>\n",
       "      <th>11</th>\n",
       "      <td>10001</td>\n",
       "      <td>81025</td>\n",
       "      <td>1997-06-23</td>\n",
       "      <td>1998-06-23</td>\n",
       "    </tr>\n",
       "    <tr>\n",
       "      <th>12</th>\n",
       "      <td>10001</td>\n",
       "      <td>81097</td>\n",
       "      <td>1998-06-23</td>\n",
       "      <td>1999-06-23</td>\n",
       "    </tr>\n",
       "    <tr>\n",
       "      <th>13</th>\n",
       "      <td>10001</td>\n",
       "      <td>84917</td>\n",
       "      <td>1999-06-23</td>\n",
       "      <td>2000-06-22</td>\n",
       "    </tr>\n",
       "    <tr>\n",
       "      <th>14</th>\n",
       "      <td>10001</td>\n",
       "      <td>85112</td>\n",
       "      <td>2000-06-22</td>\n",
       "      <td>2001-06-22</td>\n",
       "    </tr>\n",
       "    <tr>\n",
       "      <th>15</th>\n",
       "      <td>10001</td>\n",
       "      <td>85097</td>\n",
       "      <td>2001-06-22</td>\n",
       "      <td>2002-06-22</td>\n",
       "    </tr>\n",
       "    <tr>\n",
       "      <th>16</th>\n",
       "      <td>10002</td>\n",
       "      <td>65828</td>\n",
       "      <td>1996-08-03</td>\n",
       "      <td>1997-08-03</td>\n",
       "    </tr>\n",
       "    <tr>\n",
       "      <th>17</th>\n",
       "      <td>10002</td>\n",
       "      <td>65909</td>\n",
       "      <td>1997-08-03</td>\n",
       "      <td>1998-08-03</td>\n",
       "    </tr>\n",
       "    <tr>\n",
       "      <th>18</th>\n",
       "      <td>10002</td>\n",
       "      <td>67534</td>\n",
       "      <td>1998-08-03</td>\n",
       "      <td>1999-08-03</td>\n",
       "    </tr>\n",
       "    <tr>\n",
       "      <th>19</th>\n",
       "      <td>10002</td>\n",
       "      <td>69366</td>\n",
       "      <td>1999-08-03</td>\n",
       "      <td>2000-08-02</td>\n",
       "    </tr>\n",
       "  </tbody>\n",
       "</table>\n",
       "</div>"
      ],
      "text/plain": [
       "    emp_no  salary  from_date    to_date\n",
       "0    10001   60117 1986-06-26 1987-06-26\n",
       "1    10001   62102 1987-06-26 1988-06-25\n",
       "2    10001   66074 1988-06-25 1989-06-25\n",
       "3    10001   66596 1989-06-25 1990-06-25\n",
       "4    10001   66961 1990-06-25 1991-06-25\n",
       "5    10001   71046 1991-06-25 1992-06-24\n",
       "6    10001   74333 1992-06-24 1993-06-24\n",
       "7    10001   75286 1993-06-24 1994-06-24\n",
       "8    10001   75994 1994-06-24 1995-06-24\n",
       "9    10001   76884 1995-06-24 1996-06-23\n",
       "10   10001   80013 1996-06-23 1997-06-23\n",
       "11   10001   81025 1997-06-23 1998-06-23\n",
       "12   10001   81097 1998-06-23 1999-06-23\n",
       "13   10001   84917 1999-06-23 2000-06-22\n",
       "14   10001   85112 2000-06-22 2001-06-22\n",
       "15   10001   85097 2001-06-22 2002-06-22\n",
       "16   10002   65828 1996-08-03 1997-08-03\n",
       "17   10002   65909 1997-08-03 1998-08-03\n",
       "18   10002   67534 1998-08-03 1999-08-03\n",
       "19   10002   69366 1999-08-03 2000-08-02"
      ]
     },
     "execution_count": 37,
     "metadata": {},
     "output_type": "execute_result"
    }
   ],
   "source": [
    "# Quick conversion to datetime format for later calculation\n",
    "salaries['to_date'] = salaries.to_date.astype('datetime64')\n",
    "salaries['from_date'] = salaries.from_date.astype('datetime64')\n",
    "salaries.head(20)"
   ]
  },
  {
   "cell_type": "code",
   "execution_count": 38,
   "id": "49133259",
   "metadata": {},
   "outputs": [
    {
     "data": {
      "text/plain": [
       "(        emp_no    to_date\n",
       " 0        10001 2002-06-22\n",
       " 1        10002 2001-08-02\n",
       " 2        10003 2001-12-01\n",
       " 3        10004 2001-11-27\n",
       " 4        10005 2001-09-09\n",
       " ...        ...        ...\n",
       " 300019  499995 2002-06-01\n",
       " 300020  499996 2002-05-12\n",
       " 300021  499997 2001-08-26\n",
       " 300022  499998 2001-12-25\n",
       " 300023  499999 2001-11-29\n",
       " \n",
       " [300024 rows x 2 columns],\n",
       "         emp_no  from_date\n",
       " 0        10001 1986-06-26\n",
       " 1        10002 1996-08-03\n",
       " 2        10003 1995-12-03\n",
       " 3        10004 1986-12-01\n",
       " 4        10005 1989-09-12\n",
       " ...        ...        ...\n",
       " 300019  499995 1997-06-02\n",
       " 300020  499996 1996-05-13\n",
       " 300021  499997 1987-08-30\n",
       " 300022  499998 1993-12-27\n",
       " 300023  499999 1997-11-30\n",
       " \n",
       " [300024 rows x 2 columns],\n",
       "         emp_no  salary\n",
       " 0        10001   85112\n",
       " 1        10002   71963\n",
       " 2        10003   43699\n",
       " 3        10004   70698\n",
       " 4        10005   91453\n",
       " ...        ...     ...\n",
       " 300019  499995   49510\n",
       " 300020  499996   65900\n",
       " 300021  499997   82750\n",
       " 300022  499998   51182\n",
       " 300023  499999   74327\n",
       " \n",
       " [300024 rows x 2 columns])"
      ]
     },
     "execution_count": 38,
     "metadata": {},
     "output_type": "execute_result"
    }
   ],
   "source": [
    "# Grab earliest and latest date for each employee as well as their highest salary\n",
    "df1 = pd.DataFrame(salaries.groupby('emp_no').to_date.max()).reset_index()\n",
    "df2 = pd.DataFrame(salaries.groupby('emp_no').from_date.min()).reset_index()\n",
    "df3 = pd.DataFrame(salaries.groupby('emp_no').salary.max()).reset_index()\n",
    "df1, df2, df3"
   ]
  },
  {
   "cell_type": "code",
   "execution_count": 39,
   "id": "a8d76567",
   "metadata": {},
   "outputs": [
    {
     "data": {
      "text/html": [
       "<div>\n",
       "<style scoped>\n",
       "    .dataframe tbody tr th:only-of-type {\n",
       "        vertical-align: middle;\n",
       "    }\n",
       "\n",
       "    .dataframe tbody tr th {\n",
       "        vertical-align: top;\n",
       "    }\n",
       "\n",
       "    .dataframe thead th {\n",
       "        text-align: right;\n",
       "    }\n",
       "</style>\n",
       "<table border=\"1\" class=\"dataframe\">\n",
       "  <thead>\n",
       "    <tr style=\"text-align: right;\">\n",
       "      <th></th>\n",
       "      <th>emp_no</th>\n",
       "    </tr>\n",
       "  </thead>\n",
       "  <tbody>\n",
       "    <tr>\n",
       "      <th>0</th>\n",
       "      <td>10001</td>\n",
       "    </tr>\n",
       "    <tr>\n",
       "      <th>1</th>\n",
       "      <td>10002</td>\n",
       "    </tr>\n",
       "    <tr>\n",
       "      <th>2</th>\n",
       "      <td>10003</td>\n",
       "    </tr>\n",
       "    <tr>\n",
       "      <th>3</th>\n",
       "      <td>10004</td>\n",
       "    </tr>\n",
       "    <tr>\n",
       "      <th>4</th>\n",
       "      <td>10005</td>\n",
       "    </tr>\n",
       "    <tr>\n",
       "      <th>...</th>\n",
       "      <td>...</td>\n",
       "    </tr>\n",
       "    <tr>\n",
       "      <th>300019</th>\n",
       "      <td>499995</td>\n",
       "    </tr>\n",
       "    <tr>\n",
       "      <th>300020</th>\n",
       "      <td>499996</td>\n",
       "    </tr>\n",
       "    <tr>\n",
       "      <th>300021</th>\n",
       "      <td>499997</td>\n",
       "    </tr>\n",
       "    <tr>\n",
       "      <th>300022</th>\n",
       "      <td>499998</td>\n",
       "    </tr>\n",
       "    <tr>\n",
       "      <th>300023</th>\n",
       "      <td>499999</td>\n",
       "    </tr>\n",
       "  </tbody>\n",
       "</table>\n",
       "<p>300024 rows × 1 columns</p>\n",
       "</div>"
      ],
      "text/plain": [
       "        emp_no\n",
       "0        10001\n",
       "1        10002\n",
       "2        10003\n",
       "3        10004\n",
       "4        10005\n",
       "...        ...\n",
       "300019  499995\n",
       "300020  499996\n",
       "300021  499997\n",
       "300022  499998\n",
       "300023  499999\n",
       "\n",
       "[300024 rows x 1 columns]"
      ]
     },
     "execution_count": 39,
     "metadata": {},
     "output_type": "execute_result"
    }
   ],
   "source": [
    "# New dataframe with unique employee numbers\n",
    "df = pd.DataFrame(salaries['emp_no'].unique())\n",
    "df.columns = ['emp_no']\n",
    "df"
   ]
  },
  {
   "cell_type": "code",
   "execution_count": 40,
   "id": "50aba743",
   "metadata": {},
   "outputs": [
    {
     "data": {
      "text/html": [
       "<div>\n",
       "<style scoped>\n",
       "    .dataframe tbody tr th:only-of-type {\n",
       "        vertical-align: middle;\n",
       "    }\n",
       "\n",
       "    .dataframe tbody tr th {\n",
       "        vertical-align: top;\n",
       "    }\n",
       "\n",
       "    .dataframe thead th {\n",
       "        text-align: right;\n",
       "    }\n",
       "</style>\n",
       "<table border=\"1\" class=\"dataframe\">\n",
       "  <thead>\n",
       "    <tr style=\"text-align: right;\">\n",
       "      <th></th>\n",
       "      <th>emp_no</th>\n",
       "      <th>tenure</th>\n",
       "    </tr>\n",
       "  </thead>\n",
       "  <tbody>\n",
       "    <tr>\n",
       "      <th>0</th>\n",
       "      <td>10001</td>\n",
       "      <td>5840</td>\n",
       "    </tr>\n",
       "    <tr>\n",
       "      <th>1</th>\n",
       "      <td>10002</td>\n",
       "      <td>1825</td>\n",
       "    </tr>\n",
       "    <tr>\n",
       "      <th>2</th>\n",
       "      <td>10003</td>\n",
       "      <td>2190</td>\n",
       "    </tr>\n",
       "    <tr>\n",
       "      <th>3</th>\n",
       "      <td>10004</td>\n",
       "      <td>5475</td>\n",
       "    </tr>\n",
       "    <tr>\n",
       "      <th>4</th>\n",
       "      <td>10005</td>\n",
       "      <td>4380</td>\n",
       "    </tr>\n",
       "    <tr>\n",
       "      <th>...</th>\n",
       "      <td>...</td>\n",
       "      <td>...</td>\n",
       "    </tr>\n",
       "    <tr>\n",
       "      <th>300019</th>\n",
       "      <td>499995</td>\n",
       "      <td>1825</td>\n",
       "    </tr>\n",
       "    <tr>\n",
       "      <th>300020</th>\n",
       "      <td>499996</td>\n",
       "      <td>2190</td>\n",
       "    </tr>\n",
       "    <tr>\n",
       "      <th>300021</th>\n",
       "      <td>499997</td>\n",
       "      <td>5110</td>\n",
       "    </tr>\n",
       "    <tr>\n",
       "      <th>300022</th>\n",
       "      <td>499998</td>\n",
       "      <td>2920</td>\n",
       "    </tr>\n",
       "    <tr>\n",
       "      <th>300023</th>\n",
       "      <td>499999</td>\n",
       "      <td>1460</td>\n",
       "    </tr>\n",
       "  </tbody>\n",
       "</table>\n",
       "<p>300024 rows × 2 columns</p>\n",
       "</div>"
      ],
      "text/plain": [
       "        emp_no  tenure\n",
       "0        10001    5840\n",
       "1        10002    1825\n",
       "2        10003    2190\n",
       "3        10004    5475\n",
       "4        10005    4380\n",
       "...        ...     ...\n",
       "300019  499995    1825\n",
       "300020  499996    2190\n",
       "300021  499997    5110\n",
       "300022  499998    2920\n",
       "300023  499999    1460\n",
       "\n",
       "[300024 rows x 2 columns]"
      ]
     },
     "execution_count": 40,
     "metadata": {},
     "output_type": "execute_result"
    }
   ],
   "source": [
    "# Add tenure to dataframe\n",
    "df['tenure'] = df1['to_date'].sub(df2['from_date']).dt.days\n",
    "df"
   ]
  },
  {
   "cell_type": "code",
   "execution_count": 41,
   "id": "3c52a483",
   "metadata": {},
   "outputs": [
    {
     "data": {
      "text/html": [
       "<div>\n",
       "<style scoped>\n",
       "    .dataframe tbody tr th:only-of-type {\n",
       "        vertical-align: middle;\n",
       "    }\n",
       "\n",
       "    .dataframe tbody tr th {\n",
       "        vertical-align: top;\n",
       "    }\n",
       "\n",
       "    .dataframe thead th {\n",
       "        text-align: right;\n",
       "    }\n",
       "</style>\n",
       "<table border=\"1\" class=\"dataframe\">\n",
       "  <thead>\n",
       "    <tr style=\"text-align: right;\">\n",
       "      <th></th>\n",
       "      <th>emp_no</th>\n",
       "      <th>tenure</th>\n",
       "      <th>max_salary</th>\n",
       "    </tr>\n",
       "  </thead>\n",
       "  <tbody>\n",
       "    <tr>\n",
       "      <th>0</th>\n",
       "      <td>10001</td>\n",
       "      <td>5840</td>\n",
       "      <td>85112</td>\n",
       "    </tr>\n",
       "    <tr>\n",
       "      <th>1</th>\n",
       "      <td>10002</td>\n",
       "      <td>1825</td>\n",
       "      <td>71963</td>\n",
       "    </tr>\n",
       "    <tr>\n",
       "      <th>2</th>\n",
       "      <td>10003</td>\n",
       "      <td>2190</td>\n",
       "      <td>43699</td>\n",
       "    </tr>\n",
       "    <tr>\n",
       "      <th>3</th>\n",
       "      <td>10004</td>\n",
       "      <td>5475</td>\n",
       "      <td>70698</td>\n",
       "    </tr>\n",
       "    <tr>\n",
       "      <th>4</th>\n",
       "      <td>10005</td>\n",
       "      <td>4380</td>\n",
       "      <td>91453</td>\n",
       "    </tr>\n",
       "    <tr>\n",
       "      <th>...</th>\n",
       "      <td>...</td>\n",
       "      <td>...</td>\n",
       "      <td>...</td>\n",
       "    </tr>\n",
       "    <tr>\n",
       "      <th>300019</th>\n",
       "      <td>499995</td>\n",
       "      <td>1825</td>\n",
       "      <td>49510</td>\n",
       "    </tr>\n",
       "    <tr>\n",
       "      <th>300020</th>\n",
       "      <td>499996</td>\n",
       "      <td>2190</td>\n",
       "      <td>65900</td>\n",
       "    </tr>\n",
       "    <tr>\n",
       "      <th>300021</th>\n",
       "      <td>499997</td>\n",
       "      <td>5110</td>\n",
       "      <td>82750</td>\n",
       "    </tr>\n",
       "    <tr>\n",
       "      <th>300022</th>\n",
       "      <td>499998</td>\n",
       "      <td>2920</td>\n",
       "      <td>51182</td>\n",
       "    </tr>\n",
       "    <tr>\n",
       "      <th>300023</th>\n",
       "      <td>499999</td>\n",
       "      <td>1460</td>\n",
       "      <td>74327</td>\n",
       "    </tr>\n",
       "  </tbody>\n",
       "</table>\n",
       "<p>300024 rows × 3 columns</p>\n",
       "</div>"
      ],
      "text/plain": [
       "        emp_no  tenure  max_salary\n",
       "0        10001    5840       85112\n",
       "1        10002    1825       71963\n",
       "2        10003    2190       43699\n",
       "3        10004    5475       70698\n",
       "4        10005    4380       91453\n",
       "...        ...     ...         ...\n",
       "300019  499995    1825       49510\n",
       "300020  499996    2190       65900\n",
       "300021  499997    5110       82750\n",
       "300022  499998    2920       51182\n",
       "300023  499999    1460       74327\n",
       "\n",
       "[300024 rows x 3 columns]"
      ]
     },
     "execution_count": 41,
     "metadata": {},
     "output_type": "execute_result"
    }
   ],
   "source": [
    "# Add max salary to dataframe\n",
    "df['max_salary'] = df3.salary\n",
    "df"
   ]
  },
  {
   "cell_type": "code",
   "execution_count": 42,
   "id": "a462395e",
   "metadata": {},
   "outputs": [
    {
     "data": {
      "text/plain": [
       "(0.5236371831581195, 0.0)"
      ]
     },
     "execution_count": 42,
     "metadata": {},
     "output_type": "execute_result"
    }
   ],
   "source": [
    "# Calculate t-statistic and p-value from tenure and max_salary\n",
    "stats.pearsonr(df.tenure, df.max_salary)"
   ]
  },
  {
   "cell_type": "code",
   "execution_count": 43,
   "id": "96080720",
   "metadata": {},
   "outputs": [
    {
     "data": {
      "text/html": [
       "<div>\n",
       "<style scoped>\n",
       "    .dataframe tbody tr th:only-of-type {\n",
       "        vertical-align: middle;\n",
       "    }\n",
       "\n",
       "    .dataframe tbody tr th {\n",
       "        vertical-align: top;\n",
       "    }\n",
       "\n",
       "    .dataframe thead th {\n",
       "        text-align: right;\n",
       "    }\n",
       "</style>\n",
       "<table border=\"1\" class=\"dataframe\">\n",
       "  <thead>\n",
       "    <tr style=\"text-align: right;\">\n",
       "      <th></th>\n",
       "      <th>emp_no</th>\n",
       "      <th>salary</th>\n",
       "      <th>from_date</th>\n",
       "      <th>to_date</th>\n",
       "    </tr>\n",
       "  </thead>\n",
       "  <tbody>\n",
       "    <tr>\n",
       "      <th>0</th>\n",
       "      <td>10001</td>\n",
       "      <td>60117</td>\n",
       "      <td>1986-06-26</td>\n",
       "      <td>1987-06-26</td>\n",
       "    </tr>\n",
       "    <tr>\n",
       "      <th>1</th>\n",
       "      <td>10001</td>\n",
       "      <td>62102</td>\n",
       "      <td>1987-06-26</td>\n",
       "      <td>1988-06-25</td>\n",
       "    </tr>\n",
       "    <tr>\n",
       "      <th>2</th>\n",
       "      <td>10001</td>\n",
       "      <td>66074</td>\n",
       "      <td>1988-06-25</td>\n",
       "      <td>1989-06-25</td>\n",
       "    </tr>\n",
       "    <tr>\n",
       "      <th>3</th>\n",
       "      <td>10001</td>\n",
       "      <td>66596</td>\n",
       "      <td>1989-06-25</td>\n",
       "      <td>1990-06-25</td>\n",
       "    </tr>\n",
       "    <tr>\n",
       "      <th>4</th>\n",
       "      <td>10001</td>\n",
       "      <td>66961</td>\n",
       "      <td>1990-06-25</td>\n",
       "      <td>1991-06-25</td>\n",
       "    </tr>\n",
       "    <tr>\n",
       "      <th>5</th>\n",
       "      <td>10001</td>\n",
       "      <td>71046</td>\n",
       "      <td>1991-06-25</td>\n",
       "      <td>1992-06-24</td>\n",
       "    </tr>\n",
       "    <tr>\n",
       "      <th>6</th>\n",
       "      <td>10001</td>\n",
       "      <td>74333</td>\n",
       "      <td>1992-06-24</td>\n",
       "      <td>1993-06-24</td>\n",
       "    </tr>\n",
       "    <tr>\n",
       "      <th>7</th>\n",
       "      <td>10001</td>\n",
       "      <td>75286</td>\n",
       "      <td>1993-06-24</td>\n",
       "      <td>1994-06-24</td>\n",
       "    </tr>\n",
       "    <tr>\n",
       "      <th>8</th>\n",
       "      <td>10001</td>\n",
       "      <td>75994</td>\n",
       "      <td>1994-06-24</td>\n",
       "      <td>1995-06-24</td>\n",
       "    </tr>\n",
       "    <tr>\n",
       "      <th>9</th>\n",
       "      <td>10001</td>\n",
       "      <td>76884</td>\n",
       "      <td>1995-06-24</td>\n",
       "      <td>1996-06-23</td>\n",
       "    </tr>\n",
       "    <tr>\n",
       "      <th>10</th>\n",
       "      <td>10001</td>\n",
       "      <td>80013</td>\n",
       "      <td>1996-06-23</td>\n",
       "      <td>1997-06-23</td>\n",
       "    </tr>\n",
       "    <tr>\n",
       "      <th>11</th>\n",
       "      <td>10001</td>\n",
       "      <td>81025</td>\n",
       "      <td>1997-06-23</td>\n",
       "      <td>1998-06-23</td>\n",
       "    </tr>\n",
       "    <tr>\n",
       "      <th>12</th>\n",
       "      <td>10001</td>\n",
       "      <td>81097</td>\n",
       "      <td>1998-06-23</td>\n",
       "      <td>1999-06-23</td>\n",
       "    </tr>\n",
       "    <tr>\n",
       "      <th>13</th>\n",
       "      <td>10001</td>\n",
       "      <td>84917</td>\n",
       "      <td>1999-06-23</td>\n",
       "      <td>2000-06-22</td>\n",
       "    </tr>\n",
       "    <tr>\n",
       "      <th>14</th>\n",
       "      <td>10001</td>\n",
       "      <td>85112</td>\n",
       "      <td>2000-06-22</td>\n",
       "      <td>2001-06-22</td>\n",
       "    </tr>\n",
       "    <tr>\n",
       "      <th>15</th>\n",
       "      <td>10001</td>\n",
       "      <td>85097</td>\n",
       "      <td>2001-06-22</td>\n",
       "      <td>2002-06-22</td>\n",
       "    </tr>\n",
       "    <tr>\n",
       "      <th>16</th>\n",
       "      <td>10001</td>\n",
       "      <td>88958</td>\n",
       "      <td>2002-06-22</td>\n",
       "      <td>9999-01-01</td>\n",
       "    </tr>\n",
       "    <tr>\n",
       "      <th>17</th>\n",
       "      <td>10002</td>\n",
       "      <td>65828</td>\n",
       "      <td>1996-08-03</td>\n",
       "      <td>1997-08-03</td>\n",
       "    </tr>\n",
       "    <tr>\n",
       "      <th>18</th>\n",
       "      <td>10002</td>\n",
       "      <td>65909</td>\n",
       "      <td>1997-08-03</td>\n",
       "      <td>1998-08-03</td>\n",
       "    </tr>\n",
       "    <tr>\n",
       "      <th>19</th>\n",
       "      <td>10002</td>\n",
       "      <td>67534</td>\n",
       "      <td>1998-08-03</td>\n",
       "      <td>1999-08-03</td>\n",
       "    </tr>\n",
       "  </tbody>\n",
       "</table>\n",
       "</div>"
      ],
      "text/plain": [
       "    emp_no  salary   from_date     to_date\n",
       "0    10001   60117  1986-06-26  1987-06-26\n",
       "1    10001   62102  1987-06-26  1988-06-25\n",
       "2    10001   66074  1988-06-25  1989-06-25\n",
       "3    10001   66596  1989-06-25  1990-06-25\n",
       "4    10001   66961  1990-06-25  1991-06-25\n",
       "5    10001   71046  1991-06-25  1992-06-24\n",
       "6    10001   74333  1992-06-24  1993-06-24\n",
       "7    10001   75286  1993-06-24  1994-06-24\n",
       "8    10001   75994  1994-06-24  1995-06-24\n",
       "9    10001   76884  1995-06-24  1996-06-23\n",
       "10   10001   80013  1996-06-23  1997-06-23\n",
       "11   10001   81025  1997-06-23  1998-06-23\n",
       "12   10001   81097  1998-06-23  1999-06-23\n",
       "13   10001   84917  1999-06-23  2000-06-22\n",
       "14   10001   85112  2000-06-22  2001-06-22\n",
       "15   10001   85097  2001-06-22  2002-06-22\n",
       "16   10001   88958  2002-06-22  9999-01-01\n",
       "17   10002   65828  1996-08-03  1997-08-03\n",
       "18   10002   65909  1997-08-03  1998-08-03\n",
       "19   10002   67534  1998-08-03  1999-08-03"
      ]
     },
     "execution_count": 43,
     "metadata": {},
     "output_type": "execute_result"
    }
   ],
   "source": [
    "# Trying to do this where '9999-01-01' is actually today's date instead\n",
    "# Pull all records\n",
    "sals = pd.read_sql('SELECT * FROM salaries', url)\n",
    "sals.head(20)"
   ]
  },
  {
   "cell_type": "code",
   "execution_count": 44,
   "id": "219f9dff",
   "metadata": {},
   "outputs": [
    {
     "data": {
      "text/html": [
       "<div>\n",
       "<style scoped>\n",
       "    .dataframe tbody tr th:only-of-type {\n",
       "        vertical-align: middle;\n",
       "    }\n",
       "\n",
       "    .dataframe tbody tr th {\n",
       "        vertical-align: top;\n",
       "    }\n",
       "\n",
       "    .dataframe thead th {\n",
       "        text-align: right;\n",
       "    }\n",
       "</style>\n",
       "<table border=\"1\" class=\"dataframe\">\n",
       "  <thead>\n",
       "    <tr style=\"text-align: right;\">\n",
       "      <th></th>\n",
       "      <th>emp_no</th>\n",
       "      <th>salary</th>\n",
       "      <th>from_date</th>\n",
       "      <th>to_date</th>\n",
       "    </tr>\n",
       "  </thead>\n",
       "  <tbody>\n",
       "    <tr>\n",
       "      <th>0</th>\n",
       "      <td>10001</td>\n",
       "      <td>60117</td>\n",
       "      <td>1986-06-26</td>\n",
       "      <td>1987-06-26</td>\n",
       "    </tr>\n",
       "    <tr>\n",
       "      <th>1</th>\n",
       "      <td>10001</td>\n",
       "      <td>62102</td>\n",
       "      <td>1987-06-26</td>\n",
       "      <td>1988-06-25</td>\n",
       "    </tr>\n",
       "    <tr>\n",
       "      <th>2</th>\n",
       "      <td>10001</td>\n",
       "      <td>66074</td>\n",
       "      <td>1988-06-25</td>\n",
       "      <td>1989-06-25</td>\n",
       "    </tr>\n",
       "    <tr>\n",
       "      <th>3</th>\n",
       "      <td>10001</td>\n",
       "      <td>66596</td>\n",
       "      <td>1989-06-25</td>\n",
       "      <td>1990-06-25</td>\n",
       "    </tr>\n",
       "    <tr>\n",
       "      <th>4</th>\n",
       "      <td>10001</td>\n",
       "      <td>66961</td>\n",
       "      <td>1990-06-25</td>\n",
       "      <td>1991-06-25</td>\n",
       "    </tr>\n",
       "    <tr>\n",
       "      <th>5</th>\n",
       "      <td>10001</td>\n",
       "      <td>71046</td>\n",
       "      <td>1991-06-25</td>\n",
       "      <td>1992-06-24</td>\n",
       "    </tr>\n",
       "    <tr>\n",
       "      <th>6</th>\n",
       "      <td>10001</td>\n",
       "      <td>74333</td>\n",
       "      <td>1992-06-24</td>\n",
       "      <td>1993-06-24</td>\n",
       "    </tr>\n",
       "    <tr>\n",
       "      <th>7</th>\n",
       "      <td>10001</td>\n",
       "      <td>75286</td>\n",
       "      <td>1993-06-24</td>\n",
       "      <td>1994-06-24</td>\n",
       "    </tr>\n",
       "    <tr>\n",
       "      <th>8</th>\n",
       "      <td>10001</td>\n",
       "      <td>75994</td>\n",
       "      <td>1994-06-24</td>\n",
       "      <td>1995-06-24</td>\n",
       "    </tr>\n",
       "    <tr>\n",
       "      <th>9</th>\n",
       "      <td>10001</td>\n",
       "      <td>76884</td>\n",
       "      <td>1995-06-24</td>\n",
       "      <td>1996-06-23</td>\n",
       "    </tr>\n",
       "    <tr>\n",
       "      <th>10</th>\n",
       "      <td>10001</td>\n",
       "      <td>80013</td>\n",
       "      <td>1996-06-23</td>\n",
       "      <td>1997-06-23</td>\n",
       "    </tr>\n",
       "    <tr>\n",
       "      <th>11</th>\n",
       "      <td>10001</td>\n",
       "      <td>81025</td>\n",
       "      <td>1997-06-23</td>\n",
       "      <td>1998-06-23</td>\n",
       "    </tr>\n",
       "    <tr>\n",
       "      <th>12</th>\n",
       "      <td>10001</td>\n",
       "      <td>81097</td>\n",
       "      <td>1998-06-23</td>\n",
       "      <td>1999-06-23</td>\n",
       "    </tr>\n",
       "    <tr>\n",
       "      <th>13</th>\n",
       "      <td>10001</td>\n",
       "      <td>84917</td>\n",
       "      <td>1999-06-23</td>\n",
       "      <td>2000-06-22</td>\n",
       "    </tr>\n",
       "    <tr>\n",
       "      <th>14</th>\n",
       "      <td>10001</td>\n",
       "      <td>85112</td>\n",
       "      <td>2000-06-22</td>\n",
       "      <td>2001-06-22</td>\n",
       "    </tr>\n",
       "    <tr>\n",
       "      <th>15</th>\n",
       "      <td>10001</td>\n",
       "      <td>85097</td>\n",
       "      <td>2001-06-22</td>\n",
       "      <td>2002-06-22</td>\n",
       "    </tr>\n",
       "    <tr>\n",
       "      <th>16</th>\n",
       "      <td>10001</td>\n",
       "      <td>88958</td>\n",
       "      <td>2002-06-22</td>\n",
       "      <td>2021-08-10</td>\n",
       "    </tr>\n",
       "    <tr>\n",
       "      <th>17</th>\n",
       "      <td>10002</td>\n",
       "      <td>65828</td>\n",
       "      <td>1996-08-03</td>\n",
       "      <td>1997-08-03</td>\n",
       "    </tr>\n",
       "    <tr>\n",
       "      <th>18</th>\n",
       "      <td>10002</td>\n",
       "      <td>65909</td>\n",
       "      <td>1997-08-03</td>\n",
       "      <td>1998-08-03</td>\n",
       "    </tr>\n",
       "    <tr>\n",
       "      <th>19</th>\n",
       "      <td>10002</td>\n",
       "      <td>67534</td>\n",
       "      <td>1998-08-03</td>\n",
       "      <td>1999-08-03</td>\n",
       "    </tr>\n",
       "  </tbody>\n",
       "</table>\n",
       "</div>"
      ],
      "text/plain": [
       "    emp_no  salary   from_date     to_date\n",
       "0    10001   60117  1986-06-26  1987-06-26\n",
       "1    10001   62102  1987-06-26  1988-06-25\n",
       "2    10001   66074  1988-06-25  1989-06-25\n",
       "3    10001   66596  1989-06-25  1990-06-25\n",
       "4    10001   66961  1990-06-25  1991-06-25\n",
       "5    10001   71046  1991-06-25  1992-06-24\n",
       "6    10001   74333  1992-06-24  1993-06-24\n",
       "7    10001   75286  1993-06-24  1994-06-24\n",
       "8    10001   75994  1994-06-24  1995-06-24\n",
       "9    10001   76884  1995-06-24  1996-06-23\n",
       "10   10001   80013  1996-06-23  1997-06-23\n",
       "11   10001   81025  1997-06-23  1998-06-23\n",
       "12   10001   81097  1998-06-23  1999-06-23\n",
       "13   10001   84917  1999-06-23  2000-06-22\n",
       "14   10001   85112  2000-06-22  2001-06-22\n",
       "15   10001   85097  2001-06-22  2002-06-22\n",
       "16   10001   88958  2002-06-22  2021-08-10\n",
       "17   10002   65828  1996-08-03  1997-08-03\n",
       "18   10002   65909  1997-08-03  1998-08-03\n",
       "19   10002   67534  1998-08-03  1999-08-03"
      ]
     },
     "execution_count": 44,
     "metadata": {},
     "output_type": "execute_result"
    }
   ],
   "source": [
    "# Convert future times to today's date\n",
    "sals.loc[sals['to_date'] > pd.to_datetime('today'), 'to_date'] = pd.Timestamp('today').strftime(\"%Y-%m-%d\")\n",
    "sals.head(20)"
   ]
  },
  {
   "cell_type": "code",
   "execution_count": 45,
   "id": "8f394b5e",
   "metadata": {},
   "outputs": [
    {
     "data": {
      "text/html": [
       "<div>\n",
       "<style scoped>\n",
       "    .dataframe tbody tr th:only-of-type {\n",
       "        vertical-align: middle;\n",
       "    }\n",
       "\n",
       "    .dataframe tbody tr th {\n",
       "        vertical-align: top;\n",
       "    }\n",
       "\n",
       "    .dataframe thead th {\n",
       "        text-align: right;\n",
       "    }\n",
       "</style>\n",
       "<table border=\"1\" class=\"dataframe\">\n",
       "  <thead>\n",
       "    <tr style=\"text-align: right;\">\n",
       "      <th></th>\n",
       "      <th>emp_no</th>\n",
       "      <th>salary</th>\n",
       "      <th>from_date</th>\n",
       "      <th>to_date</th>\n",
       "    </tr>\n",
       "  </thead>\n",
       "  <tbody>\n",
       "    <tr>\n",
       "      <th>0</th>\n",
       "      <td>10001</td>\n",
       "      <td>60117</td>\n",
       "      <td>1986-06-26</td>\n",
       "      <td>1987-06-26</td>\n",
       "    </tr>\n",
       "    <tr>\n",
       "      <th>1</th>\n",
       "      <td>10001</td>\n",
       "      <td>62102</td>\n",
       "      <td>1987-06-26</td>\n",
       "      <td>1988-06-25</td>\n",
       "    </tr>\n",
       "    <tr>\n",
       "      <th>2</th>\n",
       "      <td>10001</td>\n",
       "      <td>66074</td>\n",
       "      <td>1988-06-25</td>\n",
       "      <td>1989-06-25</td>\n",
       "    </tr>\n",
       "    <tr>\n",
       "      <th>3</th>\n",
       "      <td>10001</td>\n",
       "      <td>66596</td>\n",
       "      <td>1989-06-25</td>\n",
       "      <td>1990-06-25</td>\n",
       "    </tr>\n",
       "    <tr>\n",
       "      <th>4</th>\n",
       "      <td>10001</td>\n",
       "      <td>66961</td>\n",
       "      <td>1990-06-25</td>\n",
       "      <td>1991-06-25</td>\n",
       "    </tr>\n",
       "    <tr>\n",
       "      <th>5</th>\n",
       "      <td>10001</td>\n",
       "      <td>71046</td>\n",
       "      <td>1991-06-25</td>\n",
       "      <td>1992-06-24</td>\n",
       "    </tr>\n",
       "    <tr>\n",
       "      <th>6</th>\n",
       "      <td>10001</td>\n",
       "      <td>74333</td>\n",
       "      <td>1992-06-24</td>\n",
       "      <td>1993-06-24</td>\n",
       "    </tr>\n",
       "    <tr>\n",
       "      <th>7</th>\n",
       "      <td>10001</td>\n",
       "      <td>75286</td>\n",
       "      <td>1993-06-24</td>\n",
       "      <td>1994-06-24</td>\n",
       "    </tr>\n",
       "    <tr>\n",
       "      <th>8</th>\n",
       "      <td>10001</td>\n",
       "      <td>75994</td>\n",
       "      <td>1994-06-24</td>\n",
       "      <td>1995-06-24</td>\n",
       "    </tr>\n",
       "    <tr>\n",
       "      <th>9</th>\n",
       "      <td>10001</td>\n",
       "      <td>76884</td>\n",
       "      <td>1995-06-24</td>\n",
       "      <td>1996-06-23</td>\n",
       "    </tr>\n",
       "    <tr>\n",
       "      <th>10</th>\n",
       "      <td>10001</td>\n",
       "      <td>80013</td>\n",
       "      <td>1996-06-23</td>\n",
       "      <td>1997-06-23</td>\n",
       "    </tr>\n",
       "    <tr>\n",
       "      <th>11</th>\n",
       "      <td>10001</td>\n",
       "      <td>81025</td>\n",
       "      <td>1997-06-23</td>\n",
       "      <td>1998-06-23</td>\n",
       "    </tr>\n",
       "    <tr>\n",
       "      <th>12</th>\n",
       "      <td>10001</td>\n",
       "      <td>81097</td>\n",
       "      <td>1998-06-23</td>\n",
       "      <td>1999-06-23</td>\n",
       "    </tr>\n",
       "    <tr>\n",
       "      <th>13</th>\n",
       "      <td>10001</td>\n",
       "      <td>84917</td>\n",
       "      <td>1999-06-23</td>\n",
       "      <td>2000-06-22</td>\n",
       "    </tr>\n",
       "    <tr>\n",
       "      <th>14</th>\n",
       "      <td>10001</td>\n",
       "      <td>85112</td>\n",
       "      <td>2000-06-22</td>\n",
       "      <td>2001-06-22</td>\n",
       "    </tr>\n",
       "    <tr>\n",
       "      <th>15</th>\n",
       "      <td>10001</td>\n",
       "      <td>85097</td>\n",
       "      <td>2001-06-22</td>\n",
       "      <td>2002-06-22</td>\n",
       "    </tr>\n",
       "    <tr>\n",
       "      <th>16</th>\n",
       "      <td>10001</td>\n",
       "      <td>88958</td>\n",
       "      <td>2002-06-22</td>\n",
       "      <td>2021-08-10</td>\n",
       "    </tr>\n",
       "    <tr>\n",
       "      <th>17</th>\n",
       "      <td>10002</td>\n",
       "      <td>65828</td>\n",
       "      <td>1996-08-03</td>\n",
       "      <td>1997-08-03</td>\n",
       "    </tr>\n",
       "    <tr>\n",
       "      <th>18</th>\n",
       "      <td>10002</td>\n",
       "      <td>65909</td>\n",
       "      <td>1997-08-03</td>\n",
       "      <td>1998-08-03</td>\n",
       "    </tr>\n",
       "    <tr>\n",
       "      <th>19</th>\n",
       "      <td>10002</td>\n",
       "      <td>67534</td>\n",
       "      <td>1998-08-03</td>\n",
       "      <td>1999-08-03</td>\n",
       "    </tr>\n",
       "  </tbody>\n",
       "</table>\n",
       "</div>"
      ],
      "text/plain": [
       "    emp_no  salary  from_date    to_date\n",
       "0    10001   60117 1986-06-26 1987-06-26\n",
       "1    10001   62102 1987-06-26 1988-06-25\n",
       "2    10001   66074 1988-06-25 1989-06-25\n",
       "3    10001   66596 1989-06-25 1990-06-25\n",
       "4    10001   66961 1990-06-25 1991-06-25\n",
       "5    10001   71046 1991-06-25 1992-06-24\n",
       "6    10001   74333 1992-06-24 1993-06-24\n",
       "7    10001   75286 1993-06-24 1994-06-24\n",
       "8    10001   75994 1994-06-24 1995-06-24\n",
       "9    10001   76884 1995-06-24 1996-06-23\n",
       "10   10001   80013 1996-06-23 1997-06-23\n",
       "11   10001   81025 1997-06-23 1998-06-23\n",
       "12   10001   81097 1998-06-23 1999-06-23\n",
       "13   10001   84917 1999-06-23 2000-06-22\n",
       "14   10001   85112 2000-06-22 2001-06-22\n",
       "15   10001   85097 2001-06-22 2002-06-22\n",
       "16   10001   88958 2002-06-22 2021-08-10\n",
       "17   10002   65828 1996-08-03 1997-08-03\n",
       "18   10002   65909 1997-08-03 1998-08-03\n",
       "19   10002   67534 1998-08-03 1999-08-03"
      ]
     },
     "execution_count": 45,
     "metadata": {},
     "output_type": "execute_result"
    }
   ],
   "source": [
    "# Convert dates to datetime format for tenure calculation\n",
    "sals['to_date'] = sals.to_date.astype('datetime64')\n",
    "sals['from_date'] = sals.from_date.astype('datetime64')\n",
    "sals.head(20)"
   ]
  },
  {
   "cell_type": "code",
   "execution_count": 46,
   "id": "aa225ef9",
   "metadata": {},
   "outputs": [
    {
     "data": {
      "text/plain": [
       "(        emp_no    to_date\n",
       " 0        10001 2021-08-10\n",
       " 1        10002 2021-08-10\n",
       " 2        10003 2021-08-10\n",
       " 3        10004 2021-08-10\n",
       " 4        10005 2021-08-10\n",
       " ...        ...        ...\n",
       " 300019  499995 2021-08-10\n",
       " 300020  499996 2021-08-10\n",
       " 300021  499997 2021-08-10\n",
       " 300022  499998 2021-08-10\n",
       " 300023  499999 2021-08-10\n",
       " \n",
       " [300024 rows x 2 columns],\n",
       "         emp_no  from_date\n",
       " 0        10001 1986-06-26\n",
       " 1        10002 1996-08-03\n",
       " 2        10003 1995-12-03\n",
       " 3        10004 1986-12-01\n",
       " 4        10005 1989-09-12\n",
       " ...        ...        ...\n",
       " 300019  499995 1997-06-02\n",
       " 300020  499996 1996-05-13\n",
       " 300021  499997 1987-08-30\n",
       " 300022  499998 1993-12-27\n",
       " 300023  499999 1997-11-30\n",
       " \n",
       " [300024 rows x 2 columns],\n",
       "         emp_no  salary\n",
       " 0        10001   88958\n",
       " 1        10002   72527\n",
       " 2        10003   43699\n",
       " 3        10004   74057\n",
       " 4        10005   94692\n",
       " ...        ...     ...\n",
       " 300019  499995   52868\n",
       " 300020  499996   69501\n",
       " 300021  499997   83441\n",
       " 300022  499998   55003\n",
       " 300023  499999   77303\n",
       " \n",
       " [300024 rows x 2 columns])"
      ]
     },
     "execution_count": 46,
     "metadata": {},
     "output_type": "execute_result"
    }
   ],
   "source": [
    "# Create new dataframes for combination\n",
    "df1a = pd.DataFrame(sals.groupby('emp_no').to_date.max()).reset_index()\n",
    "df2a = pd.DataFrame(sals.groupby('emp_no').from_date.min()).reset_index()\n",
    "df3a = pd.DataFrame(sals.groupby('emp_no').salary.max()).reset_index()\n",
    "df1a, df2a, df3a"
   ]
  },
  {
   "cell_type": "code",
   "execution_count": 47,
   "id": "ecc4d7ab",
   "metadata": {},
   "outputs": [
    {
     "data": {
      "text/html": [
       "<div>\n",
       "<style scoped>\n",
       "    .dataframe tbody tr th:only-of-type {\n",
       "        vertical-align: middle;\n",
       "    }\n",
       "\n",
       "    .dataframe tbody tr th {\n",
       "        vertical-align: top;\n",
       "    }\n",
       "\n",
       "    .dataframe thead th {\n",
       "        text-align: right;\n",
       "    }\n",
       "</style>\n",
       "<table border=\"1\" class=\"dataframe\">\n",
       "  <thead>\n",
       "    <tr style=\"text-align: right;\">\n",
       "      <th></th>\n",
       "      <th>emp_no</th>\n",
       "    </tr>\n",
       "  </thead>\n",
       "  <tbody>\n",
       "    <tr>\n",
       "      <th>0</th>\n",
       "      <td>10001</td>\n",
       "    </tr>\n",
       "    <tr>\n",
       "      <th>1</th>\n",
       "      <td>10002</td>\n",
       "    </tr>\n",
       "    <tr>\n",
       "      <th>2</th>\n",
       "      <td>10003</td>\n",
       "    </tr>\n",
       "    <tr>\n",
       "      <th>3</th>\n",
       "      <td>10004</td>\n",
       "    </tr>\n",
       "    <tr>\n",
       "      <th>4</th>\n",
       "      <td>10005</td>\n",
       "    </tr>\n",
       "    <tr>\n",
       "      <th>...</th>\n",
       "      <td>...</td>\n",
       "    </tr>\n",
       "    <tr>\n",
       "      <th>300019</th>\n",
       "      <td>499995</td>\n",
       "    </tr>\n",
       "    <tr>\n",
       "      <th>300020</th>\n",
       "      <td>499996</td>\n",
       "    </tr>\n",
       "    <tr>\n",
       "      <th>300021</th>\n",
       "      <td>499997</td>\n",
       "    </tr>\n",
       "    <tr>\n",
       "      <th>300022</th>\n",
       "      <td>499998</td>\n",
       "    </tr>\n",
       "    <tr>\n",
       "      <th>300023</th>\n",
       "      <td>499999</td>\n",
       "    </tr>\n",
       "  </tbody>\n",
       "</table>\n",
       "<p>300024 rows × 1 columns</p>\n",
       "</div>"
      ],
      "text/plain": [
       "        emp_no\n",
       "0        10001\n",
       "1        10002\n",
       "2        10003\n",
       "3        10004\n",
       "4        10005\n",
       "...        ...\n",
       "300019  499995\n",
       "300020  499996\n",
       "300021  499997\n",
       "300022  499998\n",
       "300023  499999\n",
       "\n",
       "[300024 rows x 1 columns]"
      ]
     },
     "execution_count": 47,
     "metadata": {},
     "output_type": "execute_result"
    }
   ],
   "source": [
    "# Create final dataframe\n",
    "dfa = pd.DataFrame(sals['emp_no'].unique())\n",
    "dfa.columns = ['emp_no']\n",
    "dfa"
   ]
  },
  {
   "cell_type": "code",
   "execution_count": 48,
   "id": "2ed63ab2",
   "metadata": {},
   "outputs": [
    {
     "data": {
      "text/html": [
       "<div>\n",
       "<style scoped>\n",
       "    .dataframe tbody tr th:only-of-type {\n",
       "        vertical-align: middle;\n",
       "    }\n",
       "\n",
       "    .dataframe tbody tr th {\n",
       "        vertical-align: top;\n",
       "    }\n",
       "\n",
       "    .dataframe thead th {\n",
       "        text-align: right;\n",
       "    }\n",
       "</style>\n",
       "<table border=\"1\" class=\"dataframe\">\n",
       "  <thead>\n",
       "    <tr style=\"text-align: right;\">\n",
       "      <th></th>\n",
       "      <th>emp_no</th>\n",
       "      <th>tenure</th>\n",
       "    </tr>\n",
       "  </thead>\n",
       "  <tbody>\n",
       "    <tr>\n",
       "      <th>0</th>\n",
       "      <td>10001</td>\n",
       "      <td>12829</td>\n",
       "    </tr>\n",
       "    <tr>\n",
       "      <th>1</th>\n",
       "      <td>10002</td>\n",
       "      <td>9138</td>\n",
       "    </tr>\n",
       "    <tr>\n",
       "      <th>2</th>\n",
       "      <td>10003</td>\n",
       "      <td>9382</td>\n",
       "    </tr>\n",
       "    <tr>\n",
       "      <th>3</th>\n",
       "      <td>10004</td>\n",
       "      <td>12671</td>\n",
       "    </tr>\n",
       "    <tr>\n",
       "      <th>4</th>\n",
       "      <td>10005</td>\n",
       "      <td>11655</td>\n",
       "    </tr>\n",
       "    <tr>\n",
       "      <th>...</th>\n",
       "      <td>...</td>\n",
       "      <td>...</td>\n",
       "    </tr>\n",
       "    <tr>\n",
       "      <th>300019</th>\n",
       "      <td>499995</td>\n",
       "      <td>8835</td>\n",
       "    </tr>\n",
       "    <tr>\n",
       "      <th>300020</th>\n",
       "      <td>499996</td>\n",
       "      <td>9220</td>\n",
       "    </tr>\n",
       "    <tr>\n",
       "      <th>300021</th>\n",
       "      <td>499997</td>\n",
       "      <td>12399</td>\n",
       "    </tr>\n",
       "    <tr>\n",
       "      <th>300022</th>\n",
       "      <td>499998</td>\n",
       "      <td>10088</td>\n",
       "    </tr>\n",
       "    <tr>\n",
       "      <th>300023</th>\n",
       "      <td>499999</td>\n",
       "      <td>8654</td>\n",
       "    </tr>\n",
       "  </tbody>\n",
       "</table>\n",
       "<p>300024 rows × 2 columns</p>\n",
       "</div>"
      ],
      "text/plain": [
       "        emp_no  tenure\n",
       "0        10001   12829\n",
       "1        10002    9138\n",
       "2        10003    9382\n",
       "3        10004   12671\n",
       "4        10005   11655\n",
       "...        ...     ...\n",
       "300019  499995    8835\n",
       "300020  499996    9220\n",
       "300021  499997   12399\n",
       "300022  499998   10088\n",
       "300023  499999    8654\n",
       "\n",
       "[300024 rows x 2 columns]"
      ]
     },
     "execution_count": 48,
     "metadata": {},
     "output_type": "execute_result"
    }
   ],
   "source": [
    "# Add tenure to final dataframe\n",
    "dfa['tenure'] = df1a['to_date'].sub(df2a['from_date']).dt.days\n",
    "dfa"
   ]
  },
  {
   "cell_type": "code",
   "execution_count": 49,
   "id": "6dc91479",
   "metadata": {},
   "outputs": [
    {
     "data": {
      "text/html": [
       "<div>\n",
       "<style scoped>\n",
       "    .dataframe tbody tr th:only-of-type {\n",
       "        vertical-align: middle;\n",
       "    }\n",
       "\n",
       "    .dataframe tbody tr th {\n",
       "        vertical-align: top;\n",
       "    }\n",
       "\n",
       "    .dataframe thead th {\n",
       "        text-align: right;\n",
       "    }\n",
       "</style>\n",
       "<table border=\"1\" class=\"dataframe\">\n",
       "  <thead>\n",
       "    <tr style=\"text-align: right;\">\n",
       "      <th></th>\n",
       "      <th>emp_no</th>\n",
       "      <th>tenure</th>\n",
       "      <th>max_salary</th>\n",
       "    </tr>\n",
       "  </thead>\n",
       "  <tbody>\n",
       "    <tr>\n",
       "      <th>0</th>\n",
       "      <td>10001</td>\n",
       "      <td>12829</td>\n",
       "      <td>88958</td>\n",
       "    </tr>\n",
       "    <tr>\n",
       "      <th>1</th>\n",
       "      <td>10002</td>\n",
       "      <td>9138</td>\n",
       "      <td>72527</td>\n",
       "    </tr>\n",
       "    <tr>\n",
       "      <th>2</th>\n",
       "      <td>10003</td>\n",
       "      <td>9382</td>\n",
       "      <td>43699</td>\n",
       "    </tr>\n",
       "    <tr>\n",
       "      <th>3</th>\n",
       "      <td>10004</td>\n",
       "      <td>12671</td>\n",
       "      <td>74057</td>\n",
       "    </tr>\n",
       "    <tr>\n",
       "      <th>4</th>\n",
       "      <td>10005</td>\n",
       "      <td>11655</td>\n",
       "      <td>94692</td>\n",
       "    </tr>\n",
       "    <tr>\n",
       "      <th>...</th>\n",
       "      <td>...</td>\n",
       "      <td>...</td>\n",
       "      <td>...</td>\n",
       "    </tr>\n",
       "    <tr>\n",
       "      <th>300019</th>\n",
       "      <td>499995</td>\n",
       "      <td>8835</td>\n",
       "      <td>52868</td>\n",
       "    </tr>\n",
       "    <tr>\n",
       "      <th>300020</th>\n",
       "      <td>499996</td>\n",
       "      <td>9220</td>\n",
       "      <td>69501</td>\n",
       "    </tr>\n",
       "    <tr>\n",
       "      <th>300021</th>\n",
       "      <td>499997</td>\n",
       "      <td>12399</td>\n",
       "      <td>83441</td>\n",
       "    </tr>\n",
       "    <tr>\n",
       "      <th>300022</th>\n",
       "      <td>499998</td>\n",
       "      <td>10088</td>\n",
       "      <td>55003</td>\n",
       "    </tr>\n",
       "    <tr>\n",
       "      <th>300023</th>\n",
       "      <td>499999</td>\n",
       "      <td>8654</td>\n",
       "      <td>77303</td>\n",
       "    </tr>\n",
       "  </tbody>\n",
       "</table>\n",
       "<p>300024 rows × 3 columns</p>\n",
       "</div>"
      ],
      "text/plain": [
       "        emp_no  tenure  max_salary\n",
       "0        10001   12829       88958\n",
       "1        10002    9138       72527\n",
       "2        10003    9382       43699\n",
       "3        10004   12671       74057\n",
       "4        10005   11655       94692\n",
       "...        ...     ...         ...\n",
       "300019  499995    8835       52868\n",
       "300020  499996    9220       69501\n",
       "300021  499997   12399       83441\n",
       "300022  499998   10088       55003\n",
       "300023  499999    8654       77303\n",
       "\n",
       "[300024 rows x 3 columns]"
      ]
     },
     "execution_count": 49,
     "metadata": {},
     "output_type": "execute_result"
    }
   ],
   "source": [
    "# Add max salary to final dataframe\n",
    "dfa['max_salary'] = df3a.salary\n",
    "dfa"
   ]
  },
  {
   "cell_type": "code",
   "execution_count": 50,
   "id": "e9a5d9d8",
   "metadata": {},
   "outputs": [
    {
     "data": {
      "text/plain": [
       "(0.40871386567304946, 0.0)"
      ]
     },
     "execution_count": 50,
     "metadata": {},
     "output_type": "execute_result"
    }
   ],
   "source": [
    "# Calculate t-statistic and p-value for tenure and max salary\n",
    "stats.pearsonr(dfa.tenure, dfa.max_salary)"
   ]
  },
  {
   "cell_type": "markdown",
   "id": "5cdce75d",
   "metadata": {},
   "source": [
    "### Is there a relationship between how long an employee has been with the company and the number of titles they have had?"
   ]
  },
  {
   "cell_type": "code",
   "execution_count": 51,
   "id": "2b1541e4",
   "metadata": {},
   "outputs": [
    {
     "data": {
      "text/html": [
       "<div>\n",
       "<style scoped>\n",
       "    .dataframe tbody tr th:only-of-type {\n",
       "        vertical-align: middle;\n",
       "    }\n",
       "\n",
       "    .dataframe tbody tr th {\n",
       "        vertical-align: top;\n",
       "    }\n",
       "\n",
       "    .dataframe thead th {\n",
       "        text-align: right;\n",
       "    }\n",
       "</style>\n",
       "<table border=\"1\" class=\"dataframe\">\n",
       "  <thead>\n",
       "    <tr style=\"text-align: right;\">\n",
       "      <th></th>\n",
       "      <th>emp_no</th>\n",
       "      <th>title</th>\n",
       "    </tr>\n",
       "  </thead>\n",
       "  <tbody>\n",
       "    <tr>\n",
       "      <th>0</th>\n",
       "      <td>10001</td>\n",
       "      <td>Senior Engineer</td>\n",
       "    </tr>\n",
       "    <tr>\n",
       "      <th>1</th>\n",
       "      <td>10002</td>\n",
       "      <td>Staff</td>\n",
       "    </tr>\n",
       "    <tr>\n",
       "      <th>2</th>\n",
       "      <td>10003</td>\n",
       "      <td>Senior Engineer</td>\n",
       "    </tr>\n",
       "    <tr>\n",
       "      <th>3</th>\n",
       "      <td>10004</td>\n",
       "      <td>Engineer</td>\n",
       "    </tr>\n",
       "    <tr>\n",
       "      <th>4</th>\n",
       "      <td>10004</td>\n",
       "      <td>Senior Engineer</td>\n",
       "    </tr>\n",
       "    <tr>\n",
       "      <th>5</th>\n",
       "      <td>10005</td>\n",
       "      <td>Senior Staff</td>\n",
       "    </tr>\n",
       "    <tr>\n",
       "      <th>6</th>\n",
       "      <td>10005</td>\n",
       "      <td>Staff</td>\n",
       "    </tr>\n",
       "    <tr>\n",
       "      <th>7</th>\n",
       "      <td>10006</td>\n",
       "      <td>Senior Engineer</td>\n",
       "    </tr>\n",
       "    <tr>\n",
       "      <th>8</th>\n",
       "      <td>10007</td>\n",
       "      <td>Senior Staff</td>\n",
       "    </tr>\n",
       "    <tr>\n",
       "      <th>9</th>\n",
       "      <td>10007</td>\n",
       "      <td>Staff</td>\n",
       "    </tr>\n",
       "    <tr>\n",
       "      <th>10</th>\n",
       "      <td>10008</td>\n",
       "      <td>Assistant Engineer</td>\n",
       "    </tr>\n",
       "    <tr>\n",
       "      <th>11</th>\n",
       "      <td>10009</td>\n",
       "      <td>Assistant Engineer</td>\n",
       "    </tr>\n",
       "    <tr>\n",
       "      <th>12</th>\n",
       "      <td>10009</td>\n",
       "      <td>Engineer</td>\n",
       "    </tr>\n",
       "    <tr>\n",
       "      <th>13</th>\n",
       "      <td>10009</td>\n",
       "      <td>Senior Engineer</td>\n",
       "    </tr>\n",
       "    <tr>\n",
       "      <th>14</th>\n",
       "      <td>10010</td>\n",
       "      <td>Engineer</td>\n",
       "    </tr>\n",
       "    <tr>\n",
       "      <th>15</th>\n",
       "      <td>10011</td>\n",
       "      <td>Staff</td>\n",
       "    </tr>\n",
       "    <tr>\n",
       "      <th>16</th>\n",
       "      <td>10012</td>\n",
       "      <td>Engineer</td>\n",
       "    </tr>\n",
       "    <tr>\n",
       "      <th>17</th>\n",
       "      <td>10012</td>\n",
       "      <td>Senior Engineer</td>\n",
       "    </tr>\n",
       "    <tr>\n",
       "      <th>18</th>\n",
       "      <td>10013</td>\n",
       "      <td>Senior Staff</td>\n",
       "    </tr>\n",
       "    <tr>\n",
       "      <th>19</th>\n",
       "      <td>10014</td>\n",
       "      <td>Engineer</td>\n",
       "    </tr>\n",
       "  </tbody>\n",
       "</table>\n",
       "</div>"
      ],
      "text/plain": [
       "    emp_no               title\n",
       "0    10001     Senior Engineer\n",
       "1    10002               Staff\n",
       "2    10003     Senior Engineer\n",
       "3    10004            Engineer\n",
       "4    10004     Senior Engineer\n",
       "5    10005        Senior Staff\n",
       "6    10005               Staff\n",
       "7    10006     Senior Engineer\n",
       "8    10007        Senior Staff\n",
       "9    10007               Staff\n",
       "10   10008  Assistant Engineer\n",
       "11   10009  Assistant Engineer\n",
       "12   10009            Engineer\n",
       "13   10009     Senior Engineer\n",
       "14   10010            Engineer\n",
       "15   10011               Staff\n",
       "16   10012            Engineer\n",
       "17   10012     Senior Engineer\n",
       "18   10013        Senior Staff\n",
       "19   10014            Engineer"
      ]
     },
     "execution_count": 51,
     "metadata": {},
     "output_type": "execute_result"
    }
   ],
   "source": [
    "titles = pd.read_sql('SELECT emp_no, title FROM titles', url)\n",
    "titles.head(20)"
   ]
  },
  {
   "cell_type": "code",
   "execution_count": 52,
   "id": "94883415",
   "metadata": {},
   "outputs": [
    {
     "data": {
      "text/html": [
       "<div>\n",
       "<style scoped>\n",
       "    .dataframe tbody tr th:only-of-type {\n",
       "        vertical-align: middle;\n",
       "    }\n",
       "\n",
       "    .dataframe tbody tr th {\n",
       "        vertical-align: top;\n",
       "    }\n",
       "\n",
       "    .dataframe thead th {\n",
       "        text-align: right;\n",
       "    }\n",
       "</style>\n",
       "<table border=\"1\" class=\"dataframe\">\n",
       "  <thead>\n",
       "    <tr style=\"text-align: right;\">\n",
       "      <th></th>\n",
       "      <th>emp_no</th>\n",
       "      <th>title</th>\n",
       "    </tr>\n",
       "  </thead>\n",
       "  <tbody>\n",
       "    <tr>\n",
       "      <th>0</th>\n",
       "      <td>10001</td>\n",
       "      <td>1</td>\n",
       "    </tr>\n",
       "    <tr>\n",
       "      <th>1</th>\n",
       "      <td>10002</td>\n",
       "      <td>1</td>\n",
       "    </tr>\n",
       "    <tr>\n",
       "      <th>2</th>\n",
       "      <td>10003</td>\n",
       "      <td>1</td>\n",
       "    </tr>\n",
       "    <tr>\n",
       "      <th>3</th>\n",
       "      <td>10004</td>\n",
       "      <td>2</td>\n",
       "    </tr>\n",
       "    <tr>\n",
       "      <th>4</th>\n",
       "      <td>10005</td>\n",
       "      <td>2</td>\n",
       "    </tr>\n",
       "  </tbody>\n",
       "</table>\n",
       "</div>"
      ],
      "text/plain": [
       "   emp_no  title\n",
       "0   10001      1\n",
       "1   10002      1\n",
       "2   10003      1\n",
       "3   10004      2\n",
       "4   10005      2"
      ]
     },
     "execution_count": 52,
     "metadata": {},
     "output_type": "execute_result"
    }
   ],
   "source": [
    "agg_titles = titles.groupby('emp_no').title.count().reset_index()\n",
    "agg_titles.head(5)"
   ]
  },
  {
   "cell_type": "code",
   "execution_count": 53,
   "id": "cefe5ca7",
   "metadata": {},
   "outputs": [
    {
     "data": {
      "text/html": [
       "<div>\n",
       "<style scoped>\n",
       "    .dataframe tbody tr th:only-of-type {\n",
       "        vertical-align: middle;\n",
       "    }\n",
       "\n",
       "    .dataframe tbody tr th {\n",
       "        vertical-align: top;\n",
       "    }\n",
       "\n",
       "    .dataframe thead th {\n",
       "        text-align: right;\n",
       "    }\n",
       "</style>\n",
       "<table border=\"1\" class=\"dataframe\">\n",
       "  <thead>\n",
       "    <tr style=\"text-align: right;\">\n",
       "      <th></th>\n",
       "      <th>emp_no</th>\n",
       "      <th>tenure</th>\n",
       "      <th>max_salary</th>\n",
       "      <th>title</th>\n",
       "    </tr>\n",
       "  </thead>\n",
       "  <tbody>\n",
       "    <tr>\n",
       "      <th>0</th>\n",
       "      <td>10001</td>\n",
       "      <td>5840</td>\n",
       "      <td>85112</td>\n",
       "      <td>1</td>\n",
       "    </tr>\n",
       "    <tr>\n",
       "      <th>1</th>\n",
       "      <td>10002</td>\n",
       "      <td>1825</td>\n",
       "      <td>71963</td>\n",
       "      <td>1</td>\n",
       "    </tr>\n",
       "    <tr>\n",
       "      <th>2</th>\n",
       "      <td>10003</td>\n",
       "      <td>2190</td>\n",
       "      <td>43699</td>\n",
       "      <td>1</td>\n",
       "    </tr>\n",
       "    <tr>\n",
       "      <th>3</th>\n",
       "      <td>10004</td>\n",
       "      <td>5475</td>\n",
       "      <td>70698</td>\n",
       "      <td>2</td>\n",
       "    </tr>\n",
       "    <tr>\n",
       "      <th>4</th>\n",
       "      <td>10005</td>\n",
       "      <td>4380</td>\n",
       "      <td>91453</td>\n",
       "      <td>2</td>\n",
       "    </tr>\n",
       "    <tr>\n",
       "      <th>5</th>\n",
       "      <td>10006</td>\n",
       "      <td>4015</td>\n",
       "      <td>60098</td>\n",
       "      <td>1</td>\n",
       "    </tr>\n",
       "    <tr>\n",
       "      <th>6</th>\n",
       "      <td>10007</td>\n",
       "      <td>4745</td>\n",
       "      <td>84456</td>\n",
       "      <td>2</td>\n",
       "    </tr>\n",
       "    <tr>\n",
       "      <th>7</th>\n",
       "      <td>10008</td>\n",
       "      <td>873</td>\n",
       "      <td>52668</td>\n",
       "      <td>1</td>\n",
       "    </tr>\n",
       "    <tr>\n",
       "      <th>8</th>\n",
       "      <td>10009</td>\n",
       "      <td>6205</td>\n",
       "      <td>94443</td>\n",
       "      <td>3</td>\n",
       "    </tr>\n",
       "    <tr>\n",
       "      <th>9</th>\n",
       "      <td>10010</td>\n",
       "      <td>1825</td>\n",
       "      <td>79580</td>\n",
       "      <td>1</td>\n",
       "    </tr>\n",
       "    <tr>\n",
       "      <th>10</th>\n",
       "      <td>10011</td>\n",
       "      <td>2483</td>\n",
       "      <td>56753</td>\n",
       "      <td>1</td>\n",
       "    </tr>\n",
       "    <tr>\n",
       "      <th>11</th>\n",
       "      <td>10012</td>\n",
       "      <td>3285</td>\n",
       "      <td>54794</td>\n",
       "      <td>2</td>\n",
       "    </tr>\n",
       "    <tr>\n",
       "      <th>12</th>\n",
       "      <td>10013</td>\n",
       "      <td>5840</td>\n",
       "      <td>66744</td>\n",
       "      <td>1</td>\n",
       "    </tr>\n",
       "    <tr>\n",
       "      <th>13</th>\n",
       "      <td>10014</td>\n",
       "      <td>2920</td>\n",
       "      <td>59142</td>\n",
       "      <td>1</td>\n",
       "    </tr>\n",
       "    <tr>\n",
       "      <th>14</th>\n",
       "      <td>10015</td>\n",
       "      <td>337</td>\n",
       "      <td>40000</td>\n",
       "      <td>1</td>\n",
       "    </tr>\n",
       "    <tr>\n",
       "      <th>15</th>\n",
       "      <td>10016</td>\n",
       "      <td>1460</td>\n",
       "      <td>76826</td>\n",
       "      <td>1</td>\n",
       "    </tr>\n",
       "    <tr>\n",
       "      <th>16</th>\n",
       "      <td>10017</td>\n",
       "      <td>3285</td>\n",
       "      <td>98522</td>\n",
       "      <td>2</td>\n",
       "    </tr>\n",
       "    <tr>\n",
       "      <th>17</th>\n",
       "      <td>10018</td>\n",
       "      <td>5475</td>\n",
       "      <td>84541</td>\n",
       "      <td>2</td>\n",
       "    </tr>\n",
       "    <tr>\n",
       "      <th>18</th>\n",
       "      <td>10019</td>\n",
       "      <td>1095</td>\n",
       "      <td>46946</td>\n",
       "      <td>1</td>\n",
       "    </tr>\n",
       "    <tr>\n",
       "      <th>19</th>\n",
       "      <td>10020</td>\n",
       "      <td>1460</td>\n",
       "      <td>44927</td>\n",
       "      <td>1</td>\n",
       "    </tr>\n",
       "  </tbody>\n",
       "</table>\n",
       "</div>"
      ],
      "text/plain": [
       "    emp_no  tenure  max_salary  title\n",
       "0    10001    5840       85112      1\n",
       "1    10002    1825       71963      1\n",
       "2    10003    2190       43699      1\n",
       "3    10004    5475       70698      2\n",
       "4    10005    4380       91453      2\n",
       "5    10006    4015       60098      1\n",
       "6    10007    4745       84456      2\n",
       "7    10008     873       52668      1\n",
       "8    10009    6205       94443      3\n",
       "9    10010    1825       79580      1\n",
       "10   10011    2483       56753      1\n",
       "11   10012    3285       54794      2\n",
       "12   10013    5840       66744      1\n",
       "13   10014    2920       59142      1\n",
       "14   10015     337       40000      1\n",
       "15   10016    1460       76826      1\n",
       "16   10017    3285       98522      2\n",
       "17   10018    5475       84541      2\n",
       "18   10019    1095       46946      1\n",
       "19   10020    1460       44927      1"
      ]
     },
     "execution_count": 53,
     "metadata": {},
     "output_type": "execute_result"
    }
   ],
   "source": [
    "df = df.merge(agg_titles, on='emp_no')\n",
    "df.head(20)"
   ]
  },
  {
   "cell_type": "code",
   "execution_count": 54,
   "id": "947fbd36",
   "metadata": {},
   "outputs": [
    {
     "data": {
      "text/plain": [
       "(0.5929107912235184, 0.0)"
      ]
     },
     "execution_count": 54,
     "metadata": {},
     "output_type": "execute_result"
    }
   ],
   "source": [
    "stats.pearsonr(df.tenure, df.title)"
   ]
  },
  {
   "cell_type": "markdown",
   "id": "10110eb7",
   "metadata": {},
   "source": [
    "## sleepstudy data"
   ]
  },
  {
   "cell_type": "markdown",
   "id": "2e1f5581",
   "metadata": {},
   "source": [
    "### Is there a relationship between days and reaction time?"
   ]
  },
  {
   "cell_type": "code",
   "execution_count": 55,
   "id": "5a1947f9",
   "metadata": {},
   "outputs": [
    {
     "data": {
      "text/html": [
       "<div>\n",
       "<style scoped>\n",
       "    .dataframe tbody tr th:only-of-type {\n",
       "        vertical-align: middle;\n",
       "    }\n",
       "\n",
       "    .dataframe tbody tr th {\n",
       "        vertical-align: top;\n",
       "    }\n",
       "\n",
       "    .dataframe thead th {\n",
       "        text-align: right;\n",
       "    }\n",
       "</style>\n",
       "<table border=\"1\" class=\"dataframe\">\n",
       "  <thead>\n",
       "    <tr style=\"text-align: right;\">\n",
       "      <th></th>\n",
       "      <th>Reaction</th>\n",
       "      <th>Days</th>\n",
       "      <th>Subject</th>\n",
       "    </tr>\n",
       "  </thead>\n",
       "  <tbody>\n",
       "    <tr>\n",
       "      <th>1</th>\n",
       "      <td>249.5600</td>\n",
       "      <td>0</td>\n",
       "      <td>308</td>\n",
       "    </tr>\n",
       "    <tr>\n",
       "      <th>2</th>\n",
       "      <td>258.7047</td>\n",
       "      <td>1</td>\n",
       "      <td>308</td>\n",
       "    </tr>\n",
       "    <tr>\n",
       "      <th>3</th>\n",
       "      <td>250.8006</td>\n",
       "      <td>2</td>\n",
       "      <td>308</td>\n",
       "    </tr>\n",
       "    <tr>\n",
       "      <th>4</th>\n",
       "      <td>321.4398</td>\n",
       "      <td>3</td>\n",
       "      <td>308</td>\n",
       "    </tr>\n",
       "    <tr>\n",
       "      <th>5</th>\n",
       "      <td>356.8519</td>\n",
       "      <td>4</td>\n",
       "      <td>308</td>\n",
       "    </tr>\n",
       "    <tr>\n",
       "      <th>...</th>\n",
       "      <td>...</td>\n",
       "      <td>...</td>\n",
       "      <td>...</td>\n",
       "    </tr>\n",
       "    <tr>\n",
       "      <th>176</th>\n",
       "      <td>329.6076</td>\n",
       "      <td>5</td>\n",
       "      <td>372</td>\n",
       "    </tr>\n",
       "    <tr>\n",
       "      <th>177</th>\n",
       "      <td>334.4818</td>\n",
       "      <td>6</td>\n",
       "      <td>372</td>\n",
       "    </tr>\n",
       "    <tr>\n",
       "      <th>178</th>\n",
       "      <td>343.2199</td>\n",
       "      <td>7</td>\n",
       "      <td>372</td>\n",
       "    </tr>\n",
       "    <tr>\n",
       "      <th>179</th>\n",
       "      <td>369.1417</td>\n",
       "      <td>8</td>\n",
       "      <td>372</td>\n",
       "    </tr>\n",
       "    <tr>\n",
       "      <th>180</th>\n",
       "      <td>364.1236</td>\n",
       "      <td>9</td>\n",
       "      <td>372</td>\n",
       "    </tr>\n",
       "  </tbody>\n",
       "</table>\n",
       "<p>180 rows × 3 columns</p>\n",
       "</div>"
      ],
      "text/plain": [
       "     Reaction  Days  Subject\n",
       "1    249.5600     0      308\n",
       "2    258.7047     1      308\n",
       "3    250.8006     2      308\n",
       "4    321.4398     3      308\n",
       "5    356.8519     4      308\n",
       "..        ...   ...      ...\n",
       "176  329.6076     5      372\n",
       "177  334.4818     6      372\n",
       "178  343.2199     7      372\n",
       "179  369.1417     8      372\n",
       "180  364.1236     9      372\n",
       "\n",
       "[180 rows x 3 columns]"
      ]
     },
     "execution_count": 55,
     "metadata": {},
     "output_type": "execute_result"
    }
   ],
   "source": [
    "sleepy = data('sleepstudy')\n",
    "sleepy"
   ]
  },
  {
   "cell_type": "code",
   "execution_count": 56,
   "id": "4f4510fa",
   "metadata": {},
   "outputs": [
    {
     "data": {
      "text/plain": [
       "(0.5352302262650253, 9.894096322214812e-15)"
      ]
     },
     "execution_count": 56,
     "metadata": {},
     "output_type": "execute_result"
    }
   ],
   "source": [
    "stats.pearsonr(sleepy.Days, sleepy.Reaction)"
   ]
  },
  {
   "cell_type": "code",
   "execution_count": null,
   "id": "59a4240c",
   "metadata": {},
   "outputs": [],
   "source": []
  }
 ],
 "metadata": {
  "kernelspec": {
   "display_name": "Python 3",
   "language": "python",
   "name": "python3"
  },
  "language_info": {
   "codemirror_mode": {
    "name": "ipython",
    "version": 3
   },
   "file_extension": ".py",
   "mimetype": "text/x-python",
   "name": "python",
   "nbconvert_exporter": "python",
   "pygments_lexer": "ipython3",
   "version": "3.8.8"
  }
 },
 "nbformat": 4,
 "nbformat_minor": 5
}
