{
 "cells": [
  {
   "cell_type": "markdown",
   "id": "91ddb0ed",
   "metadata": {},
   "source": [
    "# Hypothesis Testing\n",
    "### For each of the following questions, formulate a null and alternative hypothesis (be as specific as you can be), then give an example of what a true positive, true negative, type I and type II errors would look like. Note that some of the questions are intentionally phrased in a vague way. It is your job to reword these as more precise questions that could be tested."
   ]
  },
  {
   "cell_type": "markdown",
   "id": "714866c9",
   "metadata": {},
   "source": [
    "## Has the network latency gone up since we switched internet service providers?\n",
    "### Null Hypothesis\n",
    "- The network latency has gone down or remained constant since switching providers\n",
    "### Alt Hypothesis\n",
    "- The network latency has gone up since switching\n",
    "### True positive\n",
    "- We reject the null hypothesis, the network latency indeed went up\n",
    "### True negative\n",
    "- We accept the null hypothesis, the network latency did not go up\n",
    "### Type I\n",
    "- The network latency appeared to go up, but did not.\n",
    "### Type II\n",
    "- The network latency did not appear to go up, but it did."
   ]
  },
  {
   "cell_type": "markdown",
   "id": "740a0900",
   "metadata": {},
   "source": [
    "## Is the website redesign any good?\n",
    "### Null Hypothesis\n",
    "- The website redesign negatively or did not affect customer retention\n",
    "### Alt Hypothesis\n",
    "- The website redesign positively impacted customer retention\n",
    "### True positive\n",
    "- We reject the null hypothesis, The website redesign indeed improved customer retention\n",
    "### True negative\n",
    "- We accept the null hypothesis, The website redesign did not improve customer retention\n",
    "### Type I\n",
    "- The website redesign appeared to improve customer retention, but did not.\n",
    "### Type II\n",
    "- The website redesign did not appear to improve customer retention, but it did."
   ]
  },
  {
   "cell_type": "markdown",
   "id": "1d713c6b",
   "metadata": {},
   "source": [
    "## Is our television ad driving more sales?\n",
    "### Null Hypothesis\n",
    "- Our ad is not driving or not affecting sales\n",
    "### Alt Hypothesis\n",
    "- Our ad is driving more sales\n",
    "### True positive\n",
    "- We reject the null hypothesis, our ad indeed drove more sales\n",
    "### True negative\n",
    "- We accept the null hypothesis, our ad did not drive more sales\n",
    "### Type I\n",
    "- Our ad appeared to drive more sales, but did not.\n",
    "### Type II\n",
    "- Our ad did not appear to drive more sales, but did."
   ]
  },
  {
   "cell_type": "code",
   "execution_count": null,
   "id": "ac643c64",
   "metadata": {},
   "outputs": [],
   "source": []
  }
 ],
 "metadata": {
  "kernelspec": {
   "display_name": "Python 3",
   "language": "python",
   "name": "python3"
  },
  "language_info": {
   "codemirror_mode": {
    "name": "ipython",
    "version": 3
   },
   "file_extension": ".py",
   "mimetype": "text/x-python",
   "name": "python",
   "nbconvert_exporter": "python",
   "pygments_lexer": "ipython3",
   "version": "3.8.8"
  }
 },
 "nbformat": 4,
 "nbformat_minor": 5
}
