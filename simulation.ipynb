{
 "cells": [
  {
   "cell_type": "code",
   "execution_count": 1,
   "id": "684acfeb",
   "metadata": {},
   "outputs": [],
   "source": [
    "import numpy as np\n",
    "import pandas as pd"
   ]
  },
  {
   "cell_type": "code",
   "execution_count": 2,
   "id": "1cc5a886",
   "metadata": {},
   "outputs": [
    {
     "data": {
      "text/plain": [
       "0.166279"
      ]
     },
     "execution_count": 2,
     "metadata": {},
     "output_type": "execute_result"
    }
   ],
   "source": [
    "# How likely is it that you roll doubles when rolling two dice?\n",
    "die1 = np.random.choice([1,2,3,4,5,6], 1_000_000)\n",
    "die2 = np.random.choice([1,2,3,4,5,6], 1_000_000)\n",
    "\n",
    "(die1 == die2).mean()"
   ]
  },
  {
   "cell_type": "code",
   "execution_count": 3,
   "id": "7b363603",
   "metadata": {},
   "outputs": [
    {
     "data": {
      "text/plain": [
       "0.218996"
      ]
     },
     "execution_count": 3,
     "metadata": {},
     "output_type": "execute_result"
    }
   ],
   "source": [
    "# If you flip 8 coins, what is the probability of getting exactly 3 heads? \n",
    "results = np.random.choice((0,1), size=(1_000_000, 8))\n",
    "(results.sum(axis=1) == 3).mean()"
   ]
  },
  {
   "cell_type": "code",
   "execution_count": 4,
   "id": "7e9722db",
   "metadata": {},
   "outputs": [
    {
     "data": {
      "text/plain": [
       "0.636064"
      ]
     },
     "execution_count": 4,
     "metadata": {},
     "output_type": "execute_result"
    }
   ],
   "source": [
    "# What is the probability of getting more than 3 heads?\n",
    "(results.sum(axis=1) > 3).mean()"
   ]
  },
  {
   "cell_type": "code",
   "execution_count": 5,
   "id": "b1e19fe4",
   "metadata": {},
   "outputs": [
    {
     "data": {
      "text/plain": [
       "0.062501"
      ]
     },
     "execution_count": 5,
     "metadata": {},
     "output_type": "execute_result"
    }
   ],
   "source": [
    "# There are approximitely 3 web development cohorts for every 1 data science cohort at Codeup. \n",
    "# Assuming that Codeup randomly selects an alumni to put on a billboard, \n",
    "# what are the odds that the two billboards I drive past both have data science students on them?\n",
    "billibords = np.random.choice((0,1), size=(1_000_000, 2), p=[0.75, 0.25])\n",
    "(billibords.sum(axis=1) == 2).mean()"
   ]
  },
  {
   "cell_type": "code",
   "execution_count": 6,
   "id": "4397fae8",
   "metadata": {},
   "outputs": [
    {
     "data": {
      "text/plain": [
       "0.724872"
      ]
     },
     "execution_count": 6,
     "metadata": {},
     "output_type": "execute_result"
    }
   ],
   "source": [
    "# Codeup students buy, on average, 3 poptart packages (+- 1.5) a day from the snack vending machine. \n",
    "# If on monday the machine is restocked with 17 poptart packages, \n",
    "# how likely is it that I will be able to buy some poptarts on Friday afternoon?\n",
    "days = 5\n",
    "popstart_count = 17\n",
    "popleft = np.random.normal(loc=3, scale=1.5, size=(1_000_000, days))\n",
    "\n",
    "(popleft.sum(axis=1) < popstart_count).mean()"
   ]
  },
  {
   "cell_type": "code",
   "execution_count": 7,
   "id": "dc8275c4",
   "metadata": {},
   "outputs": [
    {
     "data": {
      "text/plain": [
       "0.211263"
      ]
     },
     "execution_count": 7,
     "metadata": {},
     "output_type": "execute_result"
    }
   ],
   "source": [
    "# Compare Heights\n",
    "# Men have an average height of 178 cm and standard deviation of 8cm.\n",
    "# Women have a mean of 170, sd = 6cm.\n",
    "# Since you have means and standard deviations, you can use np.random.normal to generate observations.\n",
    "# If a man and woman are chosen at random, P(woman taller than man)?\n",
    "men = np.random.normal(loc=178, scale=8, size=(1_000_000, 1))\n",
    "women = np.random.normal(loc=170, scale=6, size=(1_000_000, 1))\n",
    "\n",
    "(women > men).mean()"
   ]
  },
  {
   "cell_type": "code",
   "execution_count": 8,
   "id": "34740f14",
   "metadata": {},
   "outputs": [
    {
     "data": {
      "text/plain": [
       "0.818464"
      ]
     },
     "execution_count": 8,
     "metadata": {},
     "output_type": "execute_result"
    }
   ],
   "source": [
    "# When installing anaconda on a student's computer, \n",
    "# there's a 1 in 250 chance that the download is corrupted and the installation fails. \n",
    "# What are the odds that after having 50 students download anaconda, \n",
    "# no one has an installation issue?\n",
    "results = np.random.choice((0,1), size=(1_000_000, 50), p=[(249/250), (1/250)])\n",
    "(results.sum(axis=1) == 0).mean()"
   ]
  },
  {
   "cell_type": "code",
   "execution_count": 9,
   "id": "5c3a12f8",
   "metadata": {},
   "outputs": [
    {
     "data": {
      "text/plain": [
       "0.669708"
      ]
     },
     "execution_count": 9,
     "metadata": {},
     "output_type": "execute_result"
    }
   ],
   "source": [
    "# 100 students?\n",
    "results = np.random.choice((0,1), size=(1_000_000, 100), p=[(249/250), (1/250)])\n",
    "(results.sum(axis=1) == 0).mean()"
   ]
  },
  {
   "cell_type": "code",
   "execution_count": 10,
   "id": "a26510e4",
   "metadata": {},
   "outputs": [
    {
     "data": {
      "text/plain": [
       "0.451592"
      ]
     },
     "execution_count": 10,
     "metadata": {},
     "output_type": "execute_result"
    }
   ],
   "source": [
    "# What is the probability that we \n",
    "# observe an installation issue within the first 150 students that download anaconda?\n",
    "results = np.random.choice((0,1), size=(1_000_000, 150), p=[(249/250), (1/250)])\n",
    "(results.sum(axis=1) > 0).mean()"
   ]
  },
  {
   "cell_type": "code",
   "execution_count": 11,
   "id": "c34ef611",
   "metadata": {},
   "outputs": [
    {
     "data": {
      "text/plain": [
       "0.166"
      ]
     },
     "execution_count": 11,
     "metadata": {},
     "output_type": "execute_result"
    }
   ],
   "source": [
    "# How likely is it that 450 students all download anaconda without an issue?\n",
    "results = np.random.choice((0,1), size=(10_000, 450), p=[(249/250), (1/250)])\n",
    "(results.sum(axis=1) == 0).mean()"
   ]
  },
  {
   "cell_type": "code",
   "execution_count": 12,
   "id": "4be9f6d4",
   "metadata": {},
   "outputs": [
    {
     "data": {
      "text/plain": [
       "0.026781"
      ]
     },
     "execution_count": 12,
     "metadata": {},
     "output_type": "execute_result"
    }
   ],
   "source": [
    "# There's a 70% chance on any given day that there will be at least one food truck at Travis Park. \n",
    "# However, you haven't seen a food truck there in 3 days. How unlikely is this?\n",
    "results = np.random.choice((0,1), size=(1_000_000, 3), p=[0.30, 0.70])\n",
    "(results.sum(axis=1) == 0).mean()"
   ]
  },
  {
   "cell_type": "code",
   "execution_count": 13,
   "id": "b413eee5",
   "metadata": {},
   "outputs": [
    {
     "data": {
      "text/plain": [
       "0.999782"
      ]
     },
     "execution_count": 13,
     "metadata": {},
     "output_type": "execute_result"
    }
   ],
   "source": [
    "# How likely is it that a food truck will show up sometime this week?\n",
    "results = np.random.choice((0,1), size=(1_000_000, 7), p=[0.30, 0.70])\n",
    "(results.sum(axis=1) > 0).mean()"
   ]
  },
  {
   "cell_type": "code",
   "execution_count": 14,
   "id": "43013fc2",
   "metadata": {},
   "outputs": [
    {
     "data": {
      "text/plain": [
       "0.49864986498649866"
      ]
     },
     "execution_count": 14,
     "metadata": {},
     "output_type": "execute_result"
    }
   ],
   "source": [
    "# If 23 people are in the same room, what are the odds that two of them share a birthday? \n",
    "def df_create():\n",
    "    randlist = np.random.uniform(low=1, high=365, size=23).astype(int)\n",
    "    if pd.DataFrame(randlist).nunique()[0] == pd.DataFrame(randlist).count()[0]:\n",
    "        return False\n",
    "    else: return True\n",
    "\n",
    "(np.array([df_create() for _ in range(1,10_000)])).mean()"
   ]
  },
  {
   "cell_type": "code",
   "execution_count": 15,
   "id": "7de3a47b",
   "metadata": {},
   "outputs": [
    {
     "data": {
      "text/plain": [
       "0.41164116411641166"
      ]
     },
     "execution_count": 15,
     "metadata": {},
     "output_type": "execute_result"
    }
   ],
   "source": [
    "# What if it's 20 people?\n",
    "def df_create():\n",
    "    randlist = np.random.uniform(low=1, high=365, size=20).astype(int)\n",
    "    if pd.DataFrame(randlist).nunique()[0] == pd.DataFrame(randlist).count()[0]:\n",
    "        return False\n",
    "    else: return True\n",
    "\n",
    "(np.array([df_create() for _ in range(1,10_000)])).mean()"
   ]
  },
  {
   "cell_type": "code",
   "execution_count": 16,
   "id": "0a747275",
   "metadata": {},
   "outputs": [
    {
     "data": {
      "text/plain": [
       "0.8965896589658966"
      ]
     },
     "execution_count": 16,
     "metadata": {},
     "output_type": "execute_result"
    }
   ],
   "source": [
    "# 40?\n",
    "def df_create():\n",
    "    randlist = np.random.uniform(low=1, high=365, size=40).astype(int)\n",
    "    if pd.DataFrame(randlist).nunique()[0] == pd.DataFrame(randlist).count()[0]:\n",
    "        return False\n",
    "    else: return True\n",
    "\n",
    "(np.array([df_create() for _ in range(1,10_000)])).mean()"
   ]
  },
  {
   "cell_type": "code",
   "execution_count": null,
   "id": "e82c6e0e",
   "metadata": {},
   "outputs": [],
   "source": []
  }
 ],
 "metadata": {
  "kernelspec": {
   "display_name": "Python 3",
   "language": "python",
   "name": "python3"
  },
  "language_info": {
   "codemirror_mode": {
    "name": "ipython",
    "version": 3
   },
   "file_extension": ".py",
   "mimetype": "text/x-python",
   "name": "python",
   "nbconvert_exporter": "python",
   "pygments_lexer": "ipython3",
   "version": "3.8.8"
  }
 },
 "nbformat": 4,
 "nbformat_minor": 5
}
